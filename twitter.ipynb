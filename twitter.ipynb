{
 "cells": [
  {
   "cell_type": "markdown",
   "id": "electrical-champion",
   "metadata": {},
   "source": [
    "# Polarization on Twitter\n",
    "### By Jonathan Gustafsson Frennert"
   ]
  },
  {
   "cell_type": "markdown",
   "id": "amateur-ordering",
   "metadata": {},
   "source": [
    "### I. Dependencies"
   ]
  },
  {
   "cell_type": "code",
   "execution_count": 1,
   "id": "mounted-steps",
   "metadata": {},
   "outputs": [
    {
     "name": "stdout",
     "output_type": "stream",
     "text": [
      "All packages imported!\n"
     ]
    }
   ],
   "source": [
    "import os\n",
    "\n",
    "import matplotlib.pyplot as plt\n",
    "import matplotlib as mpl\n",
    "from mpl_toolkits import mplot3d\n",
    "import seaborn as sns\n",
    "\n",
    "import math\n",
    "import numpy as np\n",
    "np.random.seed(42)\n",
    "import pandas as pd\n",
    "\n",
    "import warnings\n",
    "warnings.filterwarnings('ignore')\n",
    "\n",
    "print(\"All packages imported!\")"
   ]
  },
  {
   "cell_type": "markdown",
   "id": "confused-paraguay",
   "metadata": {},
   "source": [
    "### II. Matplotlib Parameters"
   ]
  },
  {
   "cell_type": "code",
   "execution_count": 2,
   "id": "incident-diabetes",
   "metadata": {},
   "outputs": [],
   "source": [
    "mpl.rcParams['figure.dpi'] = 100\n",
    "mpl.rcParams['font.size'] = 9"
   ]
  },
  {
   "cell_type": "code",
   "execution_count": 3,
   "id": "comparable-discount",
   "metadata": {},
   "outputs": [],
   "source": [
    "# Latex document Text width\n",
    "latex_width = 390.0\n",
    "\n",
    "def set_size(width=latex_width, height=latex_width, fraction=1, subplots=(1, 1)):\n",
    "    \"\"\"Set figure dimensions to avoid scaling in LaTeX.\n",
    "    \n",
    "    Credit to Jack Walton for the function.\n",
    "    Source: https://jwalton.info/Embed-Publication-Matplotlib-Latex/\n",
    "    \"\"\"\n",
    "\n",
    "    fig_width_pt = width * fraction\n",
    "    fig_height_pt = height * fraction\n",
    "    \n",
    "    inches_per_pt = 1 / 72.27\n",
    "    \n",
    "    fig_width_in = fig_width_pt * inches_per_pt\n",
    "    fig_height_in = fig_height_pt * inches_per_pt * (subplots[0] / subplots[1])\n",
    "\n",
    "    return (fig_width_in, fig_height_in)"
   ]
  },
  {
   "cell_type": "markdown",
   "id": "promotional-bloom",
   "metadata": {},
   "source": [
    "## III. Color Palette\n",
    "\n",
    "The palette is from the [iWantHue](http://medialab.github.io/iwanthue/) website by Mathieu Jacomy at the Sciences-Po Medialab."
   ]
  },
  {
   "cell_type": "code",
   "execution_count": 4,
   "id": "secret-couple",
   "metadata": {},
   "outputs": [],
   "source": [
    "colors = [\n",
    "    \"#ba4c40\",\n",
    "    \"#45c097\",\n",
    "    \"#573485\",\n",
    "    \"#a8ae3e\",\n",
    "    \"#8874d9\",\n",
    "    \"#69a050\",\n",
    "    \"#be64b2\",\n",
    "    \"#bc7d36\",\n",
    "    \"#5d8ad4\",\n",
    "    \"#b94973\"\n",
    "]"
   ]
  },
  {
   "cell_type": "markdown",
   "id": "electric-lewis",
   "metadata": {},
   "source": [
    "## Importing Data"
   ]
  },
  {
   "cell_type": "code",
   "execution_count": 32,
   "id": "continental-accreditation",
   "metadata": {},
   "outputs": [],
   "source": [
    "twitter_columns = ['Created-At', 'From-User-Id', 'To-User-Id', 'Language', 'PartyName', 'Id']\n",
    "twitter_filepath = os.path.join(os.getcwd(), 'data', 'twitter', 'uselection_tweets_1jul_11nov.csv')\n",
    "twitter_data =  pd.read_csv(twitter_filepath, sep= ';', usecols=twitter_columns, chunksize=1000000)"
   ]
  },
  {
   "cell_type": "code",
   "execution_count": 33,
   "id": "packed-giant",
   "metadata": {},
   "outputs": [],
   "source": [
    "a = next(twitter_data)"
   ]
  },
  {
   "cell_type": "code",
   "execution_count": 34,
   "id": "abstract-batch",
   "metadata": {},
   "outputs": [
    {
     "data": {
      "text/html": [
       "<div>\n",
       "<style scoped>\n",
       "    .dataframe tbody tr th:only-of-type {\n",
       "        vertical-align: middle;\n",
       "    }\n",
       "\n",
       "    .dataframe tbody tr th {\n",
       "        vertical-align: top;\n",
       "    }\n",
       "\n",
       "    .dataframe thead th {\n",
       "        text-align: right;\n",
       "    }\n",
       "</style>\n",
       "<table border=\"1\" class=\"dataframe\">\n",
       "  <thead>\n",
       "    <tr style=\"text-align: right;\">\n",
       "      <th></th>\n",
       "      <th>Created-At</th>\n",
       "      <th>From-User-Id</th>\n",
       "      <th>To-User-Id</th>\n",
       "      <th>Language</th>\n",
       "      <th>PartyName</th>\n",
       "      <th>Id</th>\n",
       "    </tr>\n",
       "  </thead>\n",
       "  <tbody>\n",
       "    <tr>\n",
       "      <th>0</th>\n",
       "      <td>7/1/20 7:44 PM</td>\n",
       "      <td>1223446325758394369</td>\n",
       "      <td>387882597</td>\n",
       "      <td>en</td>\n",
       "      <td>BothParty</td>\n",
       "      <td>1278368973948694528</td>\n",
       "    </tr>\n",
       "    <tr>\n",
       "      <th>3</th>\n",
       "      <td>7/1/20 7:44 PM</td>\n",
       "      <td>64267482</td>\n",
       "      <td>65497475</td>\n",
       "      <td>en</td>\n",
       "      <td>Republicans</td>\n",
       "      <td>1278368973893951489</td>\n",
       "    </tr>\n",
       "    <tr>\n",
       "      <th>12</th>\n",
       "      <td>7/1/20 7:44 PM</td>\n",
       "      <td>4373355347</td>\n",
       "      <td>939091</td>\n",
       "      <td>en</td>\n",
       "      <td>Democrats</td>\n",
       "      <td>1278368973441171457</td>\n",
       "    </tr>\n",
       "    <tr>\n",
       "      <th>18</th>\n",
       "      <td>7/1/20 7:44 PM</td>\n",
       "      <td>936858992</td>\n",
       "      <td>79699927</td>\n",
       "      <td>en</td>\n",
       "      <td>Republicans</td>\n",
       "      <td>1278368973315244032</td>\n",
       "    </tr>\n",
       "    <tr>\n",
       "      <th>22</th>\n",
       "      <td>7/1/20 7:44 PM</td>\n",
       "      <td>2782429566</td>\n",
       "      <td>2439198739</td>\n",
       "      <td>en</td>\n",
       "      <td>Republicans</td>\n",
       "      <td>1278368972929470465</td>\n",
       "    </tr>\n",
       "    <tr>\n",
       "      <th>...</th>\n",
       "      <td>...</td>\n",
       "      <td>...</td>\n",
       "      <td>...</td>\n",
       "      <td>...</td>\n",
       "      <td>...</td>\n",
       "      <td>...</td>\n",
       "    </tr>\n",
       "    <tr>\n",
       "      <th>999976</th>\n",
       "      <td>7/10/20 3:20 AM</td>\n",
       "      <td>1170432259</td>\n",
       "      <td>1170432259</td>\n",
       "      <td>en</td>\n",
       "      <td>Republicans</td>\n",
       "      <td>1281382640969486336</td>\n",
       "    </tr>\n",
       "    <tr>\n",
       "      <th>999978</th>\n",
       "      <td>7/10/20 3:20 AM</td>\n",
       "      <td>823229310664196096</td>\n",
       "      <td>25073877</td>\n",
       "      <td>en</td>\n",
       "      <td>BothParty</td>\n",
       "      <td>1281382640843710464</td>\n",
       "    </tr>\n",
       "    <tr>\n",
       "      <th>999980</th>\n",
       "      <td>7/10/20 3:20 AM</td>\n",
       "      <td>3438643804</td>\n",
       "      <td>1230634261176356865</td>\n",
       "      <td>en</td>\n",
       "      <td>Republicans</td>\n",
       "      <td>1281382640638210050</td>\n",
       "    </tr>\n",
       "    <tr>\n",
       "      <th>999991</th>\n",
       "      <td>7/10/20 5:18 AM</td>\n",
       "      <td>1281408068262207488</td>\n",
       "      <td>1176674394564788224</td>\n",
       "      <td>en</td>\n",
       "      <td>BothParty</td>\n",
       "      <td>1281412574689492996</td>\n",
       "    </tr>\n",
       "    <tr>\n",
       "      <th>999993</th>\n",
       "      <td>7/10/20 5:18 AM</td>\n",
       "      <td>292386870</td>\n",
       "      <td>18018355</td>\n",
       "      <td>en</td>\n",
       "      <td>Democrats</td>\n",
       "      <td>1281412574655901697</td>\n",
       "    </tr>\n",
       "  </tbody>\n",
       "</table>\n",
       "<p>161648 rows × 6 columns</p>\n",
       "</div>"
      ],
      "text/plain": [
       "             Created-At         From-User-Id           To-User-Id Language  \\\n",
       "0        7/1/20 7:44 PM  1223446325758394369            387882597       en   \n",
       "3        7/1/20 7:44 PM             64267482             65497475       en   \n",
       "12       7/1/20 7:44 PM           4373355347               939091       en   \n",
       "18       7/1/20 7:44 PM            936858992             79699927       en   \n",
       "22       7/1/20 7:44 PM           2782429566           2439198739       en   \n",
       "...                 ...                  ...                  ...      ...   \n",
       "999976  7/10/20 3:20 AM           1170432259           1170432259       en   \n",
       "999978  7/10/20 3:20 AM   823229310664196096             25073877       en   \n",
       "999980  7/10/20 3:20 AM           3438643804  1230634261176356865       en   \n",
       "999991  7/10/20 5:18 AM  1281408068262207488  1176674394564788224       en   \n",
       "999993  7/10/20 5:18 AM            292386870             18018355       en   \n",
       "\n",
       "          PartyName                   Id  \n",
       "0         BothParty  1278368973948694528  \n",
       "3       Republicans  1278368973893951489  \n",
       "12        Democrats  1278368973441171457  \n",
       "18      Republicans  1278368973315244032  \n",
       "22      Republicans  1278368972929470465  \n",
       "...             ...                  ...  \n",
       "999976  Republicans  1281382640969486336  \n",
       "999978    BothParty  1281382640843710464  \n",
       "999980  Republicans  1281382640638210050  \n",
       "999991    BothParty  1281412574689492996  \n",
       "999993    Democrats  1281412574655901697  \n",
       "\n",
       "[161648 rows x 6 columns]"
      ]
     },
     "execution_count": 34,
     "metadata": {},
     "output_type": "execute_result"
    }
   ],
   "source": [
    "a[(a['To-User-Id'] != -1) & (a['Language'] == 'en') & (a['PartyName'] != 'Neither')]"
   ]
  },
  {
   "cell_type": "code",
   "execution_count": null,
   "id": "unnecessary-force",
   "metadata": {},
   "outputs": [],
   "source": []
  }
 ],
 "metadata": {
  "kernelspec": {
   "display_name": "Python 3",
   "language": "python",
   "name": "python3"
  },
  "language_info": {
   "codemirror_mode": {
    "name": "ipython",
    "version": 3
   },
   "file_extension": ".py",
   "mimetype": "text/x-python",
   "name": "python",
   "nbconvert_exporter": "python",
   "pygments_lexer": "ipython3",
   "version": "3.8.5"
  }
 },
 "nbformat": 4,
 "nbformat_minor": 5
}
