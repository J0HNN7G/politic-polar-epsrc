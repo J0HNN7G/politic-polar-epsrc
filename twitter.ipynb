{
 "cells": [
  {
   "cell_type": "markdown",
   "id": "acoustic-reflection",
   "metadata": {},
   "source": [
    "# Polarization on Twitter\n",
    "### By Jonathan Gustafsson Frennert"
   ]
  },
  {
   "cell_type": "markdown",
   "id": "respiratory-vitamin",
   "metadata": {},
   "source": [
    "### I. Dependencies"
   ]
  },
  {
   "cell_type": "code",
   "execution_count": 1,
   "id": "presidential-major",
   "metadata": {},
   "outputs": [
    {
     "name": "stdout",
     "output_type": "stream",
     "text": [
      "All packages imported!\n"
     ]
    }
   ],
   "source": [
    "import os\n",
    "\n",
    "import matplotlib.pyplot as plt\n",
    "import matplotlib as mpl\n",
    "from mpl_toolkits import mplot3d\n",
    "import seaborn as sns\n",
    "\n",
    "import math\n",
    "import numpy as np\n",
    "np.random.seed(42)\n",
    "import pandas as pd\n",
    "import dask.dataframe as dd\n",
    "\n",
    "import warnings\n",
    "warnings.filterwarnings('ignore')\n",
    "\n",
    "print(\"All packages imported!\")"
   ]
  },
  {
   "cell_type": "markdown",
   "id": "quantitative-aquatic",
   "metadata": {},
   "source": [
    "### II. Matplotlib Parameters"
   ]
  },
  {
   "cell_type": "code",
   "execution_count": 2,
   "id": "verified-theta",
   "metadata": {},
   "outputs": [],
   "source": [
    "mpl.rcParams['figure.dpi'] = 100\n",
    "mpl.rcParams['font.size'] = 9"
   ]
  },
  {
   "cell_type": "code",
   "execution_count": 3,
   "id": "greater-tower",
   "metadata": {},
   "outputs": [],
   "source": [
    "# Latex document Text width\n",
    "latex_width = 390.0\n",
    "\n",
    "def set_size(width=latex_width, height=latex_width, fraction=1, subplots=(1, 1)):\n",
    "    \"\"\"Set figure dimensions to avoid scaling in LaTeX.\n",
    "    \n",
    "    Credit to Jack Walton for the function.\n",
    "    Source: https://jwalton.info/Embed-Publication-Matplotlib-Latex/\n",
    "    \"\"\"\n",
    "\n",
    "    fig_width_pt = width * fraction\n",
    "    fig_height_pt = height * fraction\n",
    "    \n",
    "    inches_per_pt = 1 / 72.27\n",
    "    \n",
    "    fig_width_in = fig_width_pt * inches_per_pt\n",
    "    fig_height_in = fig_height_pt * inches_per_pt * (subplots[0] / subplots[1])\n",
    "\n",
    "    return (fig_width_in, fig_height_in)"
   ]
  },
  {
   "cell_type": "markdown",
   "id": "durable-albany",
   "metadata": {},
   "source": [
    "## III. Color Palette\n",
    "\n",
    "The palette is from the [iWantHue](http://medialab.github.io/iwanthue/) website by Mathieu Jacomy at the Sciences-Po Medialab."
   ]
  },
  {
   "cell_type": "code",
   "execution_count": 4,
   "id": "adaptive-lighter",
   "metadata": {},
   "outputs": [],
   "source": [
    "colors = [\n",
    "    \"#ba4c40\",\n",
    "    \"#45c097\",\n",
    "    \"#573485\",\n",
    "    \"#a8ae3e\",\n",
    "    \"#8874d9\",\n",
    "    \"#69a050\",\n",
    "    \"#be64b2\",\n",
    "    \"#bc7d36\",\n",
    "    \"#5d8ad4\",\n",
    "    \"#b94973\"\n",
    "]"
   ]
  },
  {
   "cell_type": "markdown",
   "id": "overhead-producer",
   "metadata": {},
   "source": [
    "## IV. Twitter Dataset\n",
    "\n",
    "**Provenance:** Ibrahim Sabuncu, \"USA Nov.2020 Election 20 Mil. Tweets (with Sentiment and Party Name Labels) Dataset.\" *IEEE Dataport*, 14 Aug. 2020, doi: https://dx.doi.org/10.21227/25te-j338.\n",
    "\n",
    "**License:** [Developer Agreement](https://developer.twitter.com/en/developer-terms/agreement)\n",
    "\n",
    "**Usage Information:** \n",
    "- \"you may only use the following information for non-commercial, internal purposes (e.g., to improve the functionality of the Services): (a) aggregate Twitter Applications user metrics, such as number of active users or accounts on Twitter Applications; (b) the responsiveness of Twitter Applications; and (c) results, usage statistics, data or other information (in the aggregate or otherwise) derived from analyzing, using, or regarding the performance of the Twitter API.\"\n",
    "\n",
    "- \"you may not use, or knowingly display, distribute, or otherwise make Twitter Content, or information derived from Twitter Content, available to any entity for the purpose of: (a) conducting or providing surveillance or gathering intelligence, including but not limited to investigating or tracking Twitter users or Twitter Content; (b) conducting or providing analysis or research for any unlawful or discriminatory purpose, or in a manner that would be inconsistent with Twitter users' reasonable expectations of privacy; (c) monitoring sensitive events (including but not limited to protests, rallies, or community organizing meetings); or (d) targeting, segmenting, or profiling individuals based on sensitive personal information, including their health (e.g., pregnancy), negative financial status or condition, political affiliation or beliefs, racial or ethnic origin, religious or philosophical affiliation or beliefs, sex life or sexual orientation, trade union membership, Twitter Content relating to any alleged or actual commission of a crime, or any other sensitive categories of personal information prohibited by law.\""
   ]
  },
  {
   "cell_type": "markdown",
   "id": "extended-senator",
   "metadata": {},
   "source": [
    "<center> <h3>Dataset Contents*</h3> </center>\n",
    "\n",
    "<center> <h4><code>uselection_tweets_1jul_11nov.csv</code></h4> </center>\n",
    "\n",
    "| Variable | Format | Description | Example |\n",
    "| :- | :- | :- | :- | \n",
    "| `Created-At`$\\,$ | Timestamp$\\,$ | Exact creation time of the tweet $\\,$ | 7/1/20 7:44 PM |\n",
    "| `From-User-Id`$\\,$ | String$\\,$ | Unique ID of the user that sent the tweet $\\,$ | 1223446325758394369 |\n",
    "| `To-User-Id`$\\,$ | String$\\,$ | Unique ID of the user that tweet sent to, -1 if nobody $\\,$ | 387882597 |\n",
    "| `Language`$\\,$ | String$\\,$ | Language of tweets that are coded in ISO 639-1. $\\,$ | en |\n",
    "| `PartyName`$\\,$ | String$\\,$ | The Label showing which party the tweeting is about $\\,$ | BothParty |\n",
    "| `Id`$\\,$ | String$\\,$ | Unique ID of the tweet $\\,$ | 1278368973948694528 |\n",
    "| `Score`$\\,$ | Float$\\,$ | The sentiment score of the tweets $\\,$ | 0.102564 |\n",
    "\n",
    "\\**only used fields are shown.*"
   ]
  },
  {
   "cell_type": "markdown",
   "id": "liquid-battle",
   "metadata": {},
   "source": [
    "## V. Prepare Twitter Dataset"
   ]
  },
  {
   "cell_type": "markdown",
   "id": "indonesian-egypt",
   "metadata": {},
   "source": [
    "### Importing"
   ]
  },
  {
   "cell_type": "code",
   "execution_count": 5,
   "id": "frequent-occurrence",
   "metadata": {},
   "outputs": [],
   "source": [
    "twitter_columns = ['Created-At', 'From-User-Id', 'To-User-Id', 'Language', 'PartyName', 'Id', 'Score']\n",
    "twitter_filepath = os.path.join(os.getcwd(), 'data', 'twitter', 'uselection_tweets_1jul_11nov.csv')\n",
    "twitter_data =  dd.read_csv(twitter_filepath, sep= ';', usecols=twitter_columns)\n",
    "\n",
    "#twitter_data_gen =  pd.read_csv(twitter_filepath, sep= ';', usecols=twitter_columns, chunksize=10000)\n",
    "#twitter_data = [chunk for chunk in twitter_data_gen]"
   ]
  },
  {
   "cell_type": "markdown",
   "id": "processed-procurement",
   "metadata": {},
   "source": [
    "### Cleaning"
   ]
  },
  {
   "cell_type": "markdown",
   "id": "expanded-captain",
   "metadata": {},
   "source": [
    "#### Correcting Inferred Variable Types"
   ]
  },
  {
   "cell_type": "code",
   "execution_count": 6,
   "id": "deadly-scheme",
   "metadata": {},
   "outputs": [
    {
     "data": {
      "text/plain": [
       "Created-At       object\n",
       "From-User-Id      int64\n",
       "To-User-Id        int64\n",
       "Language         object\n",
       "PartyName        object\n",
       "Id                int64\n",
       "Score           float64\n",
       "dtype: object"
      ]
     },
     "execution_count": 6,
     "metadata": {},
     "output_type": "execute_result"
    }
   ],
   "source": [
    "twitter_data.dtypes"
   ]
  },
  {
   "cell_type": "markdown",
   "id": "antique-landscape",
   "metadata": {},
   "source": [
    "- `Created-At` should be a timestamp\n",
    "- `From-User_Id` should be a string\n",
    "- `To-User_Id` should be a string\n",
    "- `Id` should be a string"
   ]
  },
  {
   "cell_type": "code",
   "execution_count": 7,
   "id": "willing-family",
   "metadata": {},
   "outputs": [],
   "source": [
    "twitter_data['Created-At'] = dd.to_datetime(twitter_data['Created-At'])\n",
    "twitter_data['From-User-Id'] = twitter_data['From-User-Id'].astype('str')\n",
    "twitter_data['To-User-Id'] = twitter_data['To-User-Id'].astype('str')\n",
    "twitter_data['Id'] = twitter_data['Id'].astype('str')\n",
    "\n",
    "#for df in twitter_data:\n",
    "#    df['Created-At'] = pd.to_datetime(df['Created-At'])\n",
    "#    df['From-User-Id'] = df['From-User-Id'].astype('str')\n",
    "#    df['To-User-Id'] = df['To-User-Id'].astype('str')\n",
    "#    df['Id'] = df['Id'].astype('str')"
   ]
  },
  {
   "cell_type": "markdown",
   "id": "central-destruction",
   "metadata": {},
   "source": [
    "#### Handling NaN Values and Outliers"
   ]
  },
  {
   "cell_type": "markdown",
   "id": "concerned-attraction",
   "metadata": {},
   "source": [
    "#### Remove Duplicates"
   ]
  },
  {
   "cell_type": "markdown",
   "id": "coupled-logging",
   "metadata": {},
   "source": [
    "#### Initial Filters"
   ]
  },
  {
   "cell_type": "code",
   "execution_count": 8,
   "id": "downtown-spirituality",
   "metadata": {},
   "outputs": [],
   "source": [
    "twitter_data = twitter_data[((twitter_data['PartyName'] == 'Republicans') | (twitter_data['PartyName'] == 'Democrats')) \n",
    "                            & (twitter_data['Language'] == 'en')]"
   ]
  },
  {
   "cell_type": "code",
   "execution_count": null,
   "id": "virtual-enemy",
   "metadata": {},
   "outputs": [],
   "source": [
    "twitter_data.isna().sum().compute()"
   ]
  }
 ],
 "metadata": {
  "kernelspec": {
   "display_name": "Python 3",
   "language": "python",
   "name": "python3"
  },
  "language_info": {
   "codemirror_mode": {
    "name": "ipython",
    "version": 3
   },
   "file_extension": ".py",
   "mimetype": "text/x-python",
   "name": "python",
   "nbconvert_exporter": "python",
   "pygments_lexer": "ipython3",
   "version": "3.8.5"
  }
 },
 "nbformat": 4,
 "nbformat_minor": 5
}
