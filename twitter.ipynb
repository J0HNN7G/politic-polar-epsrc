{
 "cells": [
  {
   "cell_type": "markdown",
   "id": "convenient-effects",
   "metadata": {},
   "source": [
    "# Polarization on Twitter\n",
    "### By Jonathan Gustafsson Frennert"
   ]
  },
  {
   "cell_type": "markdown",
   "id": "painful-equity",
   "metadata": {},
   "source": [
    "### I. Dependencies"
   ]
  },
  {
   "cell_type": "code",
   "execution_count": 1,
   "id": "upset-description",
   "metadata": {},
   "outputs": [
    {
     "name": "stdout",
     "output_type": "stream",
     "text": [
      "All packages imported!\n"
     ]
    }
   ],
   "source": [
    "import os\n",
    "\n",
    "import matplotlib.pyplot as plt\n",
    "import matplotlib as mpl\n",
    "from mpl_toolkits import mplot3d\n",
    "import seaborn as sns\n",
    "\n",
    "import math\n",
    "import numpy as np\n",
    "np.random.seed(42)\n",
    "from scipy.stats import mstats\n",
    "import sklearn.metrics as skm\n",
    "import pandas as pd\n",
    "import dask.dataframe as dd\n",
    "from igraph import Graph\n",
    "import igraph as ig\n",
    "\n",
    "import warnings\n",
    "warnings.filterwarnings('ignore')\n",
    "\n",
    "print(\"All packages imported!\")"
   ]
  },
  {
   "cell_type": "markdown",
   "id": "dressed-brazil",
   "metadata": {},
   "source": [
    "### II. Matplotlib Parameters"
   ]
  },
  {
   "cell_type": "code",
   "execution_count": 2,
   "id": "champion-nigeria",
   "metadata": {},
   "outputs": [],
   "source": [
    "mpl.rcParams['figure.dpi'] = 100\n",
    "mpl.rcParams['font.size'] = 9"
   ]
  },
  {
   "cell_type": "code",
   "execution_count": 3,
   "id": "challenging-cleaner",
   "metadata": {},
   "outputs": [],
   "source": [
    "# Latex document Text width\n",
    "latex_width = 390.0\n",
    "\n",
    "def set_size(width=latex_width, height=latex_width, fraction=1, subplots=(1, 1)):\n",
    "    \"\"\"Set figure dimensions to avoid scaling in LaTeX.\n",
    "    \n",
    "    Credit to Jack Walton for the function.\n",
    "    Source: https://jwalton.info/Embed-Publication-Matplotlib-Latex/\n",
    "    \"\"\"\n",
    "\n",
    "    fig_width_pt = width * fraction\n",
    "    fig_height_pt = height * fraction\n",
    "    \n",
    "    inches_per_pt = 1 / 72.27\n",
    "    \n",
    "    fig_width_in = fig_width_pt * inches_per_pt\n",
    "    fig_height_in = fig_height_pt * inches_per_pt * (subplots[0] / subplots[1])\n",
    "\n",
    "    return (fig_width_in, fig_height_in)"
   ]
  },
  {
   "cell_type": "markdown",
   "id": "awful-burns",
   "metadata": {},
   "source": [
    "## III. Color Palette\n",
    "\n",
    "The palette is from the [iWantHue](http://medialab.github.io/iwanthue/) website by Mathieu Jacomy at the Sciences-Po Medialab."
   ]
  },
  {
   "cell_type": "code",
   "execution_count": 4,
   "id": "molecular-nowhere",
   "metadata": {},
   "outputs": [],
   "source": [
    "colors = [\n",
    "    \"#ba4c40\",\n",
    "    \"#45c097\",\n",
    "    \"#573485\",\n",
    "    \"#a8ae3e\",\n",
    "    \"#8874d9\",\n",
    "    \"#69a050\",\n",
    "    \"#be64b2\",\n",
    "    \"#bc7d36\",\n",
    "    \"#5d8ad4\",\n",
    "    \"#b94973\"\n",
    "]"
   ]
  },
  {
   "cell_type": "markdown",
   "id": "subject-singer",
   "metadata": {},
   "source": [
    "## IV. Twitter Dataset\n",
    "\n",
    "**Provenance:** Ibrahim Sabuncu, \"USA Nov.2020 Election 20 Mil. Tweets (with Sentiment and Party Name Labels) Dataset.\" *IEEE Dataport*, 14 Aug. 2020, doi: https://dx.doi.org/10.21227/25te-j338.\n",
    "\n",
    "**License:** [Developer Agreement](https://developer.twitter.com/en/developer-terms/agreement)\n",
    "\n",
    "**Usage Information:** \n",
    "- \"you may only use the following information for non-commercial, internal purposes (e.g., to improve the functionality of the Services): (a) aggregate Twitter Applications user metrics, such as number of active users or accounts on Twitter Applications; (b) the responsiveness of Twitter Applications; and (c) results, usage statistics, data or other information (in the aggregate or otherwise) derived from analyzing, using, or regarding the performance of the Twitter API.\"\n",
    "\n",
    "- \"you may not use, or knowingly display, distribute, or otherwise make Twitter Content, or information derived from Twitter Content, available to any entity for the purpose of: (a) conducting or providing surveillance or gathering intelligence, including but not limited to investigating or tracking Twitter users or Twitter Content; (b) conducting or providing analysis or research for any unlawful or discriminatory purpose, or in a manner that would be inconsistent with Twitter users' reasonable expectations of privacy; (c) monitoring sensitive events (including but not limited to protests, rallies, or community organizing meetings); or (d) targeting, segmenting, or profiling individuals based on sensitive personal information, including their health (e.g., pregnancy), negative financial status or condition, political affiliation or beliefs, racial or ethnic origin, religious or philosophical affiliation or beliefs, sex life or sexual orientation, trade union membership, Twitter Content relating to any alleged or actual commission of a crime, or any other sensitive categories of personal information prohibited by law.\"\n",
    "\n",
    "**Sentiment analysis tool:** Hutto, C.J. & Gilbert, E.E. (2014). \"VADER: A Parsimonious Rule-based Model for Sentiment Analysis of Social Media Text.\" *Eighth International Conference on Weblogs and Social Media (ICWSM-14)*, June 2014. [GitHub](https://github.com/cjhutto/vaderSentiment)\n",
    "\n",
    "<center> <h3>Dataset Contents*</h3> </center>\n",
    "\n",
    "<center> <h4><code>uselection_tweets_1jul_11nov.csv</code></h4> </center>\n",
    "\n",
    "| Variable | Format | Description | Example |\n",
    "| :- | :- | :- | :- | \n",
    "| `Created-At`$\\,$ | Timestamp$\\,$ | Time at which tweet was created $\\,$ | 7/1/20 7:44 PM |\n",
    "| `From-User-Id`$\\,$ | String$\\,$ | Unique identifier of the user that sent the tweet $\\,$ | 1223446325758394369 |\n",
    "| `To-User-Id`$\\,$ | String$\\,$ | Unique identifier of the user that tweet sent to, -1 if nobody $\\,$ | 387882597 |\n",
    "| `Language`$\\,$ | String$\\,$ | ISO 639-1 language of the tweet $\\,$ | en |\n",
    "| `PartyName`$\\,$ | String$\\,$ | Which party is mentioned in the tweet $\\,$ | BothParty |\n",
    "| `Id`$\\,$ | String$\\,$ | Unique identifier of the tweet $\\,$ | 1278368973948694528 |\n",
    "| `Score`$\\,$ | Float$\\,$ | The sentiment score of the tweet $\\,$ | 0.102564 |\n",
    "| `Scoring String`$\\,$ | String$\\,$ | The sentiment score of the tweet $\\,$ | 0.102564 |\n",
    "\n",
    "\\**only imported fields are shown.*"
   ]
  },
  {
   "cell_type": "markdown",
   "id": "sharing-kinase",
   "metadata": {},
   "source": [
    "### Importing"
   ]
  },
  {
   "cell_type": "code",
   "execution_count": 5,
   "id": "original-portugal",
   "metadata": {},
   "outputs": [],
   "source": [
    "twitter_cols = ['Created-At', 'From-User-Id', 'To-User-Id', 'Language', 'PartyName', 'Id', 'Score', 'Scoring String']\n",
    "twitter_filepath = os.path.join(os.getcwd(), 'data', 'twitter', 'uselection_tweets_1jul_11nov.csv')\n",
    "\n",
    "# twitter dask dataframe\n",
    "tdd = dd.read_csv(twitter_filepath, sep=';', usecols=twitter_cols)"
   ]
  },
  {
   "cell_type": "markdown",
   "id": "heated-apache",
   "metadata": {},
   "source": [
    "### Cleaning\n",
    "\n",
    "- No duplicates found.\n",
    "\n",
    "- Extreme values were found, but were kept."
   ]
  },
  {
   "cell_type": "markdown",
   "id": "outdoor-learning",
   "metadata": {},
   "source": [
    "#### Correcting Inferred Variable Types"
   ]
  },
  {
   "cell_type": "code",
   "execution_count": 6,
   "id": "former-dutch",
   "metadata": {},
   "outputs": [
    {
     "data": {
      "text/plain": [
       "Created-At         object\n",
       "From-User-Id        int64\n",
       "To-User-Id          int64\n",
       "Language           object\n",
       "PartyName          object\n",
       "Id                  int64\n",
       "Score             float64\n",
       "Scoring String     object\n",
       "dtype: object"
      ]
     },
     "execution_count": 6,
     "metadata": {},
     "output_type": "execute_result"
    }
   ],
   "source": [
    "tdd.dtypes"
   ]
  },
  {
   "cell_type": "markdown",
   "id": "fitted-calvin",
   "metadata": {},
   "source": [
    "- `Created-At` should be a timestamp\n",
    "- `From-User_Id` should be a string\n",
    "- `To-User_Id` should be a string\n",
    "- `Id` should be a string"
   ]
  },
  {
   "cell_type": "code",
   "execution_count": 7,
   "id": "mechanical-mediterranean",
   "metadata": {},
   "outputs": [],
   "source": [
    "tdd['Created-At'] = dd.to_datetime(tdd['Created-At'])\n",
    "tdd['From-User-Id'] = tdd['From-User-Id'].astype('str')\n",
    "tdd['To-User-Id'] = tdd['To-User-Id'].astype('str')\n",
    "tdd['Id'] = tdd['Id'].astype('str')"
   ]
  },
  {
   "cell_type": "markdown",
   "id": "accessible-latitude",
   "metadata": {},
   "source": [
    "#### Remove `NaN` Values\n",
    "\n",
    "Some tweets were unscored and hence the `Scoring String` is `NaN`. These tweets were all removed."
   ]
  },
  {
   "cell_type": "code",
   "execution_count": 8,
   "id": "divine-mounting",
   "metadata": {},
   "outputs": [],
   "source": [
    "tdd = tdd.dropna()"
   ]
  },
  {
   "cell_type": "markdown",
   "id": "juvenile-context",
   "metadata": {},
   "source": [
    "#### Initial Filters\n",
    "\n",
    "- We filter for English to get more relevant tweets; the US speaks English. Further, the experiment done later involved English Speakers.\n",
    "\n",
    "- We are primarily interested in tweets that can be fitted along the conservative-democrat political axis."
   ]
  },
  {
   "cell_type": "code",
   "execution_count": 9,
   "id": "still-theta",
   "metadata": {},
   "outputs": [],
   "source": [
    "tdd = tdd[tdd['Language'] == 'en']\n",
    "tdd = tdd[(tdd['PartyName'] == 'Republicans') | (tdd['PartyName'] == 'Democrats')]"
   ]
  },
  {
   "cell_type": "markdown",
   "id": "stuffed-enterprise",
   "metadata": {},
   "source": [
    "#### Political Polarity\n",
    "\n",
    "- We convert the categories into numerical values by sign."
   ]
  },
  {
   "cell_type": "code",
   "execution_count": 10,
   "id": "crazy-month",
   "metadata": {},
   "outputs": [],
   "source": [
    "polarity = {'Republicans': -1, 'Democrats' : 1}\n",
    "\n",
    "tdd['PartyName'] = tdd['PartyName'].replace(polarity)"
   ]
  },
  {
   "cell_type": "markdown",
   "id": "virgin-banana",
   "metadata": {},
   "source": [
    "#### Drop Unused Columns"
   ]
  },
  {
   "cell_type": "code",
   "execution_count": 11,
   "id": "crazy-hours",
   "metadata": {},
   "outputs": [],
   "source": [
    "tdd = tdd.drop(columns=['Language', 'Scoring String'])"
   ]
  },
  {
   "cell_type": "markdown",
   "id": "transsexual-grace",
   "metadata": {},
   "source": [
    "#### Rename and Reorder Columns\n",
    "\n",
    "No particular reason, just prefer not using dictionary to access dataframe columns and a certain order of columns."
   ]
  },
  {
   "cell_type": "code",
   "execution_count": 12,
   "id": "intimate-matthew",
   "metadata": {},
   "outputs": [],
   "source": [
    "old_to_new = {\n",
    "    'Created-At'   : 'time',\n",
    "    'Id'           : 'id',\n",
    "    'From-User-Id' : 'by',\n",
    "    'To-User-Id'   : 'to',\n",
    "    'PartyName'    : 'party',\n",
    "    'Score'        : 'emotion'\n",
    "}\n",
    "\n",
    "order = ['time', 'id', 'by', 'to', 'party', 'emotion']\n",
    "\n",
    "tdd = tdd.rename(columns=old_to_new)[order]"
   ]
  },
  {
   "cell_type": "markdown",
   "id": "outdoor-express",
   "metadata": {},
   "source": [
    "#### Compute Changes"
   ]
  },
  {
   "cell_type": "markdown",
   "id": "whole-darkness",
   "metadata": {},
   "source": [
    "Compute all cleaning at once and get a **Pandas** Dataframe."
   ]
  },
  {
   "cell_type": "code",
   "execution_count": 13,
   "id": "second-fishing",
   "metadata": {},
   "outputs": [],
   "source": [
    "tdf = tdd.compute()"
   ]
  },
  {
   "cell_type": "markdown",
   "id": "biblical-feeling",
   "metadata": {},
   "source": [
    "## 1 Political Opinion\n",
    "\n",
    "### 1.1 How well does `party` and `emotion` capture Political Opinion? \n",
    "\n",
    "To test the accuracy of the metrics, we will take a random sample of 1000 tweets and have I and a non-author assign the tweets to the four quadrants made up of party and emotion axis."
   ]
  },
  {
   "cell_type": "code",
   "execution_count": 14,
   "id": "trained-compromise",
   "metadata": {},
   "outputs": [],
   "source": [
    "def quadrant(row):\n",
    "    p = row.party\n",
    "    e = row.emotion\n",
    "    \n",
    "    if (e > 0) and (p == 1):\n",
    "        result = 1\n",
    "    elif (e < 0) and (p == 1):\n",
    "        result = 2\n",
    "    elif (e < 0) and (p == -1):\n",
    "        result = 3\n",
    "    elif (e > 0) and (p == -1):\n",
    "        result = 4\n",
    "    else:\n",
    "        result = 0\n",
    "    \n",
    "    return result"
   ]
  },
  {
   "cell_type": "markdown",
   "id": "broke-checkout",
   "metadata": {},
   "source": [
    "To convert quadrants to political opinion metric discussed in 1.2"
   ]
  },
  {
   "cell_type": "code",
   "execution_count": 15,
   "id": "interested-messaging",
   "metadata": {},
   "outputs": [],
   "source": [
    "def quadToOp(x):\n",
    "    \n",
    "    if x == 1:\n",
    "        result = 1\n",
    "    elif x == 2:\n",
    "        result = -1\n",
    "    elif x == 3:\n",
    "        result = 1\n",
    "    elif x == 4:\n",
    "        result = -1\n",
    "    else:\n",
    "        result = 0\n",
    "    \n",
    "    return result"
   ]
  },
  {
   "cell_type": "markdown",
   "id": "changing-breast",
   "metadata": {},
   "source": [
    "#### Creating sample\n",
    "\n",
    "Retrieving 2000 ids as some tweets may be privated, deleted etc..."
   ]
  },
  {
   "cell_type": "code",
   "execution_count": 16,
   "id": "personalized-girlfriend",
   "metadata": {},
   "outputs": [],
   "source": [
    "#file = 'sample.csv'\n",
    "#tdf.id.sample(2000).to_csv(file, header = False, index = False)"
   ]
  },
  {
   "cell_type": "markdown",
   "id": "radio-password",
   "metadata": {},
   "source": [
    "#### Exporting Hydrated Sample"
   ]
  },
  {
   "cell_type": "code",
   "execution_count": 17,
   "id": "asian-feelings",
   "metadata": {},
   "outputs": [],
   "source": [
    "#sample_cols = ['id', 'text']\n",
    "#sample_filepath = os.path.join(os.getcwd(), 'data', file)\n",
    "#sdf = pd.read_csv(sample_filepath, usecols=sample_cols, dtype=str)\n",
    "\n",
    "# prepare experiment\n",
    "#sdf = sdf.dropna().head(1000)\n",
    "#sdf = sdf.merge(right=tdf, how='left', on='id')\n",
    "#sdf['label'] = sdf.apply(quadrant, axis=1)\n",
    "#sdf = sdf[['id', 'text', 'label']]\n",
    "\n",
    "\n",
    "#experiment_filepath = os.path.join(os.getcwd(), 'data', 'experiment.csv')\n",
    "#sdf.to_csv(experiment_filepath, index=False)"
   ]
  },
  {
   "cell_type": "markdown",
   "id": "individual-activity",
   "metadata": {},
   "source": [
    "A script was used for participants to input quadrants for tweets. I, the author, annotated 500 tweets (column `test2`) and a non-author annotated 140 tweets (column `test1`). "
   ]
  },
  {
   "cell_type": "markdown",
   "id": "diagnostic-arlington",
   "metadata": {},
   "source": [
    "#### Import Experiment Data"
   ]
  },
  {
   "cell_type": "code",
   "execution_count": 18,
   "id": "agreed-former",
   "metadata": {},
   "outputs": [],
   "source": [
    "experiment_filepath = os.path.join(os.getcwd(), 'data', 'experiment.csv')\n",
    "edf = pd.read_csv(experiment_filepath).head(500)"
   ]
  },
  {
   "cell_type": "markdown",
   "id": "eligible-assurance",
   "metadata": {},
   "source": [
    "#### Measuring Agreement\n",
    "\n",
    "Firstly, we measure the agreement between the participants on labelling. We evaluate this with the 140 tweets that both participants labelled. The metric commonly applied in this situation is Cohen's Kappa,\n",
    "\n",
    "$\\kappa = \\dfrac{p_o - p_e}{1 - p_e}$\n",
    "\n",
    "where $p_o$ is the observed agreement ratio between the annotators and $p_e$ is the expected agreement when both annotators are randomly assigning labels given each annotators relative frequency of class labels.\n",
    "\n",
    "**Metric:** J. Cohen (1960). “A coefficient of agreement for nominal scales”. *Educational and Psychological Measurement 20(1):37-46*. doi:10.1177/001316446002000104."
   ]
  },
  {
   "cell_type": "code",
   "execution_count": 19,
   "id": "grateful-plasma",
   "metadata": {},
   "outputs": [
    {
     "name": "stdout",
     "output_type": "stream",
     "text": [
      "Label k: 0.7652582159624413\n",
      "Opinion k: 0.7434957860021987\n"
     ]
    }
   ],
   "source": [
    "bdf = edf.iloc[0:140]\n",
    "kl = skm.cohen_kappa_score(bdf.test1, bdf.test2)\n",
    "ko = skm.cohen_kappa_score(bdf.test1Op, bdf.test2Op)\n",
    "\n",
    "print(f'Label k: {kl}')\n",
    "print(f'Opinion k: {ko}')"
   ]
  },
  {
   "cell_type": "markdown",
   "id": "danish-found",
   "metadata": {},
   "source": [
    "$\\kappa$ between 0.6-0.8 is considered substantial agreement. This would support that the labels assigned by participants capture a similar notion of the political content in the tweets. This suggests that the participants labelling can be used to measure the accuracy of the sentiment analysis and party tagging in capturing the political content of the tweets. \n",
    "\n",
    "**Source:** Viera AJ, Garrett JM. Understanding interobserver agreement: the kappa statistic. *Fam Med*. 2005 May;37(5):360-3. PMID: 15883903."
   ]
  },
  {
   "cell_type": "code",
   "execution_count": 20,
   "id": "hungry-terrorist",
   "metadata": {},
   "outputs": [
    {
     "name": "stdout",
     "output_type": "stream",
     "text": [
      "Participant 1 label accuracy: 0.5071428571428571\n",
      "Participant 2 label accuracy: 0.536\n",
      "\n",
      "Participant 1 opinion accuracy: 0.5357142857142857\n",
      "Participant 2 opinion accuracy: 0.574\n",
      "\n"
     ]
    }
   ],
   "source": [
    "t1_acc = len(bdf[bdf.test1 == bdf.label]) / 140\n",
    "t1Op_acc = len(bdf[bdf.test1Op == bdf.labelOp]) / 140\n",
    "\n",
    "t2_acc = len(edf[edf.label == edf.test2]) / 500 \n",
    "t2Op_acc = len(edf[edf.labelOp == edf.test2Op]) / 500 \n",
    "\n",
    "print(f'Participant 1 label accuracy: {t1_acc}')\n",
    "print(f'Participant 2 label accuracy: {t2_acc}\\n')\n",
    "print(f'Participant 1 opinion accuracy: {t1Op_acc}')\n",
    "print(f'Participant 2 opinion accuracy: {t2Op_acc}\\n')"
   ]
  },
  {
   "cell_type": "code",
   "execution_count": 21,
   "id": "textile-surveillance",
   "metadata": {},
   "outputs": [
    {
     "name": "stdout",
     "output_type": "stream",
     "text": [
      "              precision    recall  f1-score   support\n",
      "\n",
      "           0       0.00      0.00      0.00         8\n",
      "           1       0.74      0.82      0.78        17\n",
      "           2       0.56      0.42      0.48        12\n",
      "           3       0.84      0.56      0.67        75\n",
      "           4       0.12      0.62      0.20         8\n",
      "\n",
      "    accuracy                           0.55       120\n",
      "   macro avg       0.45      0.49      0.43       120\n",
      "weighted avg       0.69      0.55      0.59       120\n",
      "\n"
     ]
    }
   ],
   "source": [
    "bldf = bdf[bdf.test1 == bdf.test2]\n",
    "print(skm.classification_report(bldf.test1, bldf.label))"
   ]
  },
  {
   "cell_type": "code",
   "execution_count": 22,
   "id": "reasonable-copper",
   "metadata": {},
   "outputs": [
    {
     "name": "stdout",
     "output_type": "stream",
     "text": [
      "              precision    recall  f1-score   support\n",
      "\n",
      "          -1       0.22      0.60      0.32        20\n",
      "           0       0.00      0.00      0.00         8\n",
      "           1       0.83      0.61      0.70        97\n",
      "\n",
      "    accuracy                           0.57       125\n",
      "   macro avg       0.35      0.40      0.34       125\n",
      "weighted avg       0.68      0.57      0.60       125\n",
      "\n"
     ]
    }
   ],
   "source": [
    "bodf = bdf[bdf.test1Op == bdf.test2Op]\n",
    "print(skm.classification_report(bodf.test1Op, bodf.labelOp))"
   ]
  },
  {
   "cell_type": "markdown",
   "id": "detected-mozambique",
   "metadata": {},
   "source": [
    "### 1.2 Political Opinion Metric\n",
    "\n",
    "The political opinion of a tweet is the *point along the conservative-democrat political axis $[-1,1]$ that the content in the tweet expresses*. We want to convert tweets to these values as it lets us quantitively study political polarization over the time period the tweets were collected. \n",
    "\n",
    "#### `party` x Linearly Scaled `emotion`\n",
    "\n",
    "We will be scaling the `emotion` to $[-1,1]$ using minimum and maximum `emotion` values, however we do not want the outliers to have a disproportionate effect. To fix this, we will winzorise the emotion scores. Intuitively, it is unlikely that outliers are expressing particularly more emotions than the 0.01 percentile or more than the 99.99 percentile (~2500 tweets). These tweets are largely result from people repeating a certain connotated word (e.g., love or loser) that is picked up by the sentiment analysis tool leading to extreme values."
   ]
  },
  {
   "cell_type": "code",
   "execution_count": 23,
   "id": "supported-george",
   "metadata": {},
   "outputs": [],
   "source": [
    "xs = mstats.winsorize(tdf.emotion, limits=[0.0001, 0.0001]) \n",
    "\n",
    "# maximum magnitude of emotion\n",
    "scale = max(-xs.min(), xs.max())\n",
    "\n",
    "# political opinion metric\n",
    "tdf['opinion'] = (tdf.party * xs / scale).values"
   ]
  },
  {
   "cell_type": "code",
   "execution_count": 24,
   "id": "therapeutic-cheat",
   "metadata": {},
   "outputs": [
    {
     "data": {
      "image/png": "[encoded data removed]",
      "text/plain": [
       "<Figure size 600x400 with 1 Axes>"
      ]
     },
     "metadata": {
      "needs_background": "light"
     },
     "output_type": "display_data"
    }
   ],
   "source": [
    "sns.histplot(tdf.opinion.sample(5000))\n",
    "plt.show()"
   ]
  },
  {
   "cell_type": "markdown",
   "id": "imposed-anime",
   "metadata": {},
   "source": [
    "The distribution of political opinions shows a clear sign of polarization in the tweets. From 1.1, we see that this metric can moderately capture the political content of a tweet, and therefore, we will continue to use this dataset for our study of polarization. The next step is to create the network from the users."
   ]
  },
  {
   "cell_type": "markdown",
   "id": "rough-premiere",
   "metadata": {},
   "source": [
    "## 2 Political Influence"
   ]
  },
  {
   "cell_type": "markdown",
   "id": "arranged-philadelphia",
   "metadata": {},
   "source": [
    "### 2.1 Largest Strongly Connected Component\n",
    "\n",
    "We will study opinions expressed in the largest strongly connected component as this forms a user network that characterises the majority of the behaviour happening in the twitter feed. The network includes 108737 users, the second largest cluster includes 14 users."
   ]
  },
  {
   "cell_type": "code",
   "execution_count": 25,
   "id": "historical-instrument",
   "metadata": {},
   "outputs": [],
   "source": [
    "cdf = tdf[tdf.to != '-1'][['by','to']]\n",
    "cg = Graph.DataFrame(cdf, directed=True)\n",
    "\n",
    "cs = cg.components()\n",
    "lcg = cs.giant()\n",
    "lc_ids = lcg.vs['name']\n",
    "lcdf = tdf[tdf.by.isin(lc_ids) & (tdf.to.isin(lc_ids) | (tdf.to == '-1'))][['time','by', 'to', 'opinion']]"
   ]
  },
  {
   "cell_type": "markdown",
   "id": "pregnant-narrative",
   "metadata": {},
   "source": [
    "### 2.2 Influence of Received Opinions on Sent Opinions "
   ]
  },
  {
   "cell_type": "code",
   "execution_count": 54,
   "id": "challenging-mississippi",
   "metadata": {},
   "outputs": [],
   "source": [
    "INTR_COLS = ['time', 'opinion']\n",
    "\n",
    "def interaction(user, df):\n",
    "    by = df[df.by == user][INTR_COLS] \n",
    "    to = df[df.to == user][INTR_COLS] \n",
    "\n",
    "    result = []\n",
    "    for _, msg in by.iterrows():\n",
    "        result.append((msg, to[to.time < msg.time]))\n",
    "    \n",
    "    return result"
   ]
  },
  {
   "cell_type": "code",
   "execution_count": 71,
   "id": "streaming-border",
   "metadata": {},
   "outputs": [],
   "source": [
    "def interaction_analysis(df, sample_total):\n",
    "    users = np.random.choice(df.by.unique(), size=sample_total)\n",
    "    intrs = [interaction(user, df) for user in users]\n",
    "    \n",
    "    result = []\n",
    "    for i in range(len(users)):\n",
    "        by_ops = [] \n",
    "        to_ops = []\n",
    "        for by, to in intrs[i]:\n",
    "            by_ops.append(by.opinion)\n",
    "            to_ops.append(to.opinion.mean())\n",
    "        result.append((users[i], by_ops, to_ops)) \n",
    "\n",
    "    return result"
   ]
  },
  {
   "cell_type": "code",
   "execution_count": 42,
   "id": "cross-constitutional",
   "metadata": {},
   "outputs": [],
   "source": [
    "intrs = influence('79699927', lcdf)"
   ]
  },
  {
   "cell_type": "code",
   "execution_count": 43,
   "id": "graduate-explosion",
   "metadata": {},
   "outputs": [],
   "source": [
    "by_ops = []\n",
    "to_ops = []\n",
    "\n",
    "for by, to in intrs:\n",
    "    by_ops.append(by.opinion)\n",
    "    to_ops.append(to.opinion.mean())"
   ]
  },
  {
   "cell_type": "code",
   "execution_count": 44,
   "id": "structural-wellington",
   "metadata": {},
   "outputs": [
    {
     "data": {
      "text/plain": [
       "0.22640406564098353"
      ]
     },
     "execution_count": 44,
     "metadata": {},
     "output_type": "execute_result"
    }
   ],
   "source": [
    "np.corrcoef(by_ops, to_ops)[0,1]"
   ]
  },
  {
   "cell_type": "code",
   "execution_count": 80,
   "id": "stunning-alliance",
   "metadata": {},
   "outputs": [],
   "source": [
    "intra = interaction_analysis(lcdf, 1000)"
   ]
  },
  {
   "cell_type": "code",
   "execution_count": 134,
   "id": "waiting-norway",
   "metadata": {},
   "outputs": [],
   "source": [
    "coefs = []\n",
    "for user, by_ops, to_ops in intra:\n",
    "    by_ops_valid = [] \n",
    "    to_ops_valid = []\n",
    "    for i in range(len(by_ops)):\n",
    "        if not math.isnan(to_ops[i]):\n",
    "            by_ops_valid.append(by_ops[i])\n",
    "            to_ops_valid.append(to_ops[i])\n",
    "    if len(by_ops_valid) > 2:\n",
    "        corr = np.corrcoef(by_ops_valid, to_ops_valid)[0,1]    \n",
    "        if not math.isnan(corr):\n",
    "            coefs.append((user, corr))"
   ]
  },
  {
   "cell_type": "code",
   "execution_count": 137,
   "id": "wound-exemption",
   "metadata": {},
   "outputs": [
    {
     "data": {
      "text/plain": [
       "<AxesSubplot:ylabel='Count'>"
      ]
     },
     "execution_count": 137,
     "metadata": {},
     "output_type": "execute_result"
    },
    {
     "data": {
      "image/png": "[encoded data removed]",
      "text/plain": [
       "<Figure size 600x400 with 1 Axes>"
      ]
     },
     "metadata": {
      "needs_background": "light"
     },
     "output_type": "display_data"
    }
   ],
   "source": [
    "sns.histplot(list(map(lambda x: x[1], coefs)))"
   ]
  },
  {
   "cell_type": "code",
   "execution_count": 118,
   "id": "engaged-sapphire",
   "metadata": {},
   "outputs": [],
   "source": [
    "by_ops_valid = [] \n",
    "to_ops_valid = []\n",
    "for i in range(len(intra[21][1])):\n",
    "    if not math.isnan(intra[21][2][i]):\n",
    "        by_ops_valid.append(intra[21][1][i])\n",
    "        to_ops_valid.append(intra[21][2][i])\n",
    "corr = np.corrcoef(by_ops_valid, to_ops_valid)[0,1]  "
   ]
  }
 ],
 "metadata": {
  "kernelspec": {
   "display_name": "Python 3",
   "language": "python",
   "name": "python3"
  },
  "language_info": {
   "codemirror_mode": {
    "name": "ipython",
    "version": 3
   },
   "file_extension": ".py",
   "mimetype": "text/x-python",
   "name": "python",
   "nbconvert_exporter": "python",
   "pygments_lexer": "ipython3",
   "version": "3.8.5"
  }
 },
 "nbformat": 4,
 "nbformat_minor": 5
}
