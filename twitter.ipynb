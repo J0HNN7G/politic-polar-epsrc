{
 "cells": [
  {
   "cell_type": "markdown",
   "id": "combined-occurrence",
   "metadata": {},
   "source": [
    "# Polarization on Twitter\n",
    "### By Jonathan Gustafsson Frennert"
   ]
  },
  {
   "cell_type": "markdown",
   "id": "worthy-madrid",
   "metadata": {},
   "source": [
    "### I. Dependencies"
   ]
  },
  {
   "cell_type": "code",
   "execution_count": 1,
   "id": "tough-tomorrow",
   "metadata": {},
   "outputs": [
    {
     "name": "stdout",
     "output_type": "stream",
     "text": [
      "All packages imported!\n"
     ]
    }
   ],
   "source": [
    "import os\n",
    "\n",
    "import matplotlib.pyplot as plt\n",
    "import matplotlib as mpl\n",
    "from mpl_toolkits import mplot3d\n",
    "import seaborn as sns\n",
    "\n",
    "import math\n",
    "import numpy as np\n",
    "np.random.seed(42)\n",
    "from scipy.stats import mstats\n",
    "import sklearn.metrics as skm\n",
    "import pandas as pd\n",
    "import dask.dataframe as dd\n",
    "from igraph import Graph\n",
    "import igraph as ig\n",
    "\n",
    "import warnings\n",
    "warnings.filterwarnings('ignore')\n",
    "\n",
    "print(\"All packages imported!\")"
   ]
  },
  {
   "cell_type": "markdown",
   "id": "tutorial-infrared",
   "metadata": {},
   "source": [
    "### II. Matplotlib Parameters"
   ]
  },
  {
   "cell_type": "code",
   "execution_count": 2,
   "id": "married-triumph",
   "metadata": {},
   "outputs": [],
   "source": [
    "mpl.rcParams['figure.dpi'] = 100\n",
    "mpl.rcParams['font.size'] = 9"
   ]
  },
  {
   "cell_type": "code",
   "execution_count": 3,
   "id": "retired-harvey",
   "metadata": {},
   "outputs": [],
   "source": [
    "# Latex document Text width\n",
    "latex_width = 390.0\n",
    "\n",
    "def set_size(width=latex_width, height=latex_width, fraction=1, subplots=(1, 1)):\n",
    "    \"\"\"Set figure dimensions to avoid scaling in LaTeX.\n",
    "    \n",
    "    Credit to Jack Walton for the function.\n",
    "    Source: https://jwalton.info/Embed-Publication-Matplotlib-Latex/\n",
    "    \"\"\"\n",
    "\n",
    "    fig_width_pt = width * fraction\n",
    "    fig_height_pt = height * fraction\n",
    "    \n",
    "    inches_per_pt = 1 / 72.27\n",
    "    \n",
    "    fig_width_in = fig_width_pt * inches_per_pt\n",
    "    fig_height_in = fig_height_pt * inches_per_pt * (subplots[0] / subplots[1])\n",
    "\n",
    "    return (fig_width_in, fig_height_in)"
   ]
  },
  {
   "cell_type": "markdown",
   "id": "solid-invasion",
   "metadata": {},
   "source": [
    "## III. Color Palette\n",
    "\n",
    "The palette is from the [iWantHue](http://medialab.github.io/iwanthue/) website by Mathieu Jacomy at the Sciences-Po Medialab."
   ]
  },
  {
   "cell_type": "code",
   "execution_count": 4,
   "id": "coordinated-sapphire",
   "metadata": {},
   "outputs": [],
   "source": [
    "colors = [\n",
    "    \"#ba4c40\",\n",
    "    \"#45c097\",\n",
    "    \"#573485\",\n",
    "    \"#a8ae3e\",\n",
    "    \"#8874d9\",\n",
    "    \"#69a050\",\n",
    "    \"#be64b2\",\n",
    "    \"#bc7d36\",\n",
    "    \"#5d8ad4\",\n",
    "    \"#b94973\"\n",
    "]"
   ]
  },
  {
   "cell_type": "markdown",
   "id": "resident-notice",
   "metadata": {},
   "source": [
    "## IV. Twitter Dataset\n",
    "\n",
    "**Provenance:** Ibrahim Sabuncu, \"USA Nov.2020 Election 20 Mil. Tweets (with Sentiment and Party Name Labels) Dataset.\" *IEEE Dataport*, 14 Aug. 2020, doi: https://dx.doi.org/10.21227/25te-j338.\n",
    "\n",
    "**License:** [Developer Agreement](https://developer.twitter.com/en/developer-terms/agreement)\n",
    "\n",
    "**Usage Information:** \n",
    "- \"you may only use the following information for non-commercial, internal purposes (e.g., to improve the functionality of the Services): (a) aggregate Twitter Applications user metrics, such as number of active users or accounts on Twitter Applications; (b) the responsiveness of Twitter Applications; and (c) results, usage statistics, data or other information (in the aggregate or otherwise) derived from analyzing, using, or regarding the performance of the Twitter API.\"\n",
    "\n",
    "- \"you may not use, or knowingly display, distribute, or otherwise make Twitter Content, or information derived from Twitter Content, available to any entity for the purpose of: (a) conducting or providing surveillance or gathering intelligence, including but not limited to investigating or tracking Twitter users or Twitter Content; (b) conducting or providing analysis or research for any unlawful or discriminatory purpose, or in a manner that would be inconsistent with Twitter users' reasonable expectations of privacy; (c) monitoring sensitive events (including but not limited to protests, rallies, or community organizing meetings); or (d) targeting, segmenting, or profiling individuals based on sensitive personal information, including their health (e.g., pregnancy), negative financial status or condition, political affiliation or beliefs, racial or ethnic origin, religious or philosophical affiliation or beliefs, sex life or sexual orientation, trade union membership, Twitter Content relating to any alleged or actual commission of a crime, or any other sensitive categories of personal information prohibited by law.\"\n",
    "\n",
    "**Sentiment analysis tool:** Hutto, C.J. & Gilbert, E.E. (2014). \"VADER: A Parsimonious Rule-based Model for Sentiment Analysis of Social Media Text.\" *Eighth International Conference on Weblogs and Social Media (ICWSM-14)*, June 2014. [GitHub](https://github.com/cjhutto/vaderSentiment)\n",
    "\n",
    "<center> <h3>Dataset Contents*</h3> </center>\n",
    "\n",
    "<center> <h4><code>uselection_tweets_1jul_11nov.csv</code></h4> </center>\n",
    "\n",
    "| Variable | Format | Description | Example |\n",
    "| :- | :- | :- | :- | \n",
    "| `Created-At`$\\,$ | Timestamp$\\,$ | Time at which tweet was created $\\,$ | 7/1/20 7:44 PM |\n",
    "| `From-User-Id`$\\,$ | String$\\,$ | Unique identifier of the user that sent the tweet $\\,$ | 1223446325758394369 |\n",
    "| `To-User-Id`$\\,$ | String$\\,$ | Unique identifier of the user that tweet sent to, -1 if nobody $\\,$ | 387882597 |\n",
    "| `Language`$\\,$ | String$\\,$ | ISO 639-1 language of the tweet $\\,$ | en |\n",
    "| `PartyName`$\\,$ | String$\\,$ | Which party is mentioned in the tweet $\\,$ | BothParty |\n",
    "| `Id`$\\,$ | String$\\,$ | Unique identifier of the tweet $\\,$ | 1278368973948694528 |\n",
    "| `Score`$\\,$ | Float$\\,$ | The sentiment score of the tweet $\\,$ | 0.102564 |\n",
    "| `Scoring String`$\\,$ | String$\\,$ | The sentiment score of the tweet $\\,$ | 0.102564 |\n",
    "\n",
    "\\**only imported fields are shown.*"
   ]
  },
  {
   "cell_type": "markdown",
   "id": "spatial-steam",
   "metadata": {},
   "source": [
    "### Importing"
   ]
  },
  {
   "cell_type": "code",
   "execution_count": 5,
   "id": "rural-vegetable",
   "metadata": {},
   "outputs": [],
   "source": [
    "twitter_cols = ['Created-At', 'From-User-Id', 'To-User-Id', 'Language', 'PartyName', 'Id', 'Score', 'Scoring String']\n",
    "twitter_filepath = os.path.join(os.getcwd(), 'data', 'twitter', 'uselection_tweets_1jul_11nov.csv')\n",
    "\n",
    "# twitter dask dataframe\n",
    "tdd = dd.read_csv(twitter_filepath, sep=';', usecols=twitter_cols)"
   ]
  },
  {
   "cell_type": "markdown",
   "id": "dirty-wallace",
   "metadata": {},
   "source": [
    "### Cleaning\n",
    "\n",
    "- No duplicates found.\n",
    "\n",
    "- Extreme values were found, but were kept."
   ]
  },
  {
   "cell_type": "markdown",
   "id": "macro-welcome",
   "metadata": {},
   "source": [
    "#### Correcting Inferred Variable Types"
   ]
  },
  {
   "cell_type": "code",
   "execution_count": 6,
   "id": "systematic-drove",
   "metadata": {},
   "outputs": [
    {
     "data": {
      "text/plain": [
       "Created-At         object\n",
       "From-User-Id        int64\n",
       "To-User-Id          int64\n",
       "Language           object\n",
       "PartyName          object\n",
       "Id                  int64\n",
       "Score             float64\n",
       "Scoring String     object\n",
       "dtype: object"
      ]
     },
     "execution_count": 6,
     "metadata": {},
     "output_type": "execute_result"
    }
   ],
   "source": [
    "tdd.dtypes"
   ]
  },
  {
   "cell_type": "markdown",
   "id": "fewer-incidence",
   "metadata": {},
   "source": [
    "- `Created-At` should be a timestamp\n",
    "- `From-User_Id` should be a string\n",
    "- `To-User_Id` should be a string\n",
    "- `Id` should be a string"
   ]
  },
  {
   "cell_type": "code",
   "execution_count": 7,
   "id": "independent-council",
   "metadata": {},
   "outputs": [],
   "source": [
    "tdd['Created-At'] = dd.to_datetime(tdd['Created-At'])\n",
    "tdd['From-User-Id'] = tdd['From-User-Id'].astype('str')\n",
    "tdd['To-User-Id'] = tdd['To-User-Id'].astype('str')\n",
    "tdd['Id'] = tdd['Id'].astype('str')"
   ]
  },
  {
   "cell_type": "markdown",
   "id": "swiss-bradford",
   "metadata": {},
   "source": [
    "#### Remove `NaN` Values\n",
    "\n",
    "Some tweets were unscored and hence the `Scoring String` is `NaN`. These tweets were all removed."
   ]
  },
  {
   "cell_type": "code",
   "execution_count": 8,
   "id": "latin-comparative",
   "metadata": {},
   "outputs": [],
   "source": [
    "tdd = tdd.dropna()"
   ]
  },
  {
   "cell_type": "markdown",
   "id": "olive-guarantee",
   "metadata": {},
   "source": [
    "#### Initial Filters\n",
    "\n",
    "- We filter for English to get more relevant tweets; the US speaks English. Further, the experiment done later involved English Speakers.\n",
    "\n",
    "- We are primarily interested in tweets that can be fitted along the conservative-democrat political axis."
   ]
  },
  {
   "cell_type": "code",
   "execution_count": 9,
   "id": "addressed-bacon",
   "metadata": {},
   "outputs": [],
   "source": [
    "tdd = tdd[tdd['Language'] == 'en']\n",
    "tdd = tdd[(tdd['PartyName'] == 'Republicans') | (tdd['PartyName'] == 'Democrats')]"
   ]
  },
  {
   "cell_type": "markdown",
   "id": "working-december",
   "metadata": {},
   "source": [
    "#### Political Polarity\n",
    "\n",
    "- We convert the categories into numerical values by sign."
   ]
  },
  {
   "cell_type": "code",
   "execution_count": 10,
   "id": "classical-favorite",
   "metadata": {},
   "outputs": [],
   "source": [
    "polarity = {'Republicans': -1, 'Democrats' : 1}\n",
    "\n",
    "tdd['PartyName'] = tdd['PartyName'].replace(polarity)"
   ]
  },
  {
   "cell_type": "markdown",
   "id": "decent-charger",
   "metadata": {},
   "source": [
    "#### Drop Unused Columns"
   ]
  },
  {
   "cell_type": "code",
   "execution_count": 11,
   "id": "atlantic-external",
   "metadata": {},
   "outputs": [],
   "source": [
    "tdd = tdd.drop(columns=['Language', 'Scoring String'])"
   ]
  },
  {
   "cell_type": "markdown",
   "id": "extraordinary-today",
   "metadata": {},
   "source": [
    "#### Rename and Reorder Columns\n",
    "\n",
    "No particular reason, just prefer not using dictionary to access dataframe columns and a certain order of columns."
   ]
  },
  {
   "cell_type": "code",
   "execution_count": 12,
   "id": "level-strap",
   "metadata": {},
   "outputs": [],
   "source": [
    "old_to_new = {\n",
    "    'Created-At'   : 'time',\n",
    "    'Id'           : 'id',\n",
    "    'From-User-Id' : 'by',\n",
    "    'To-User-Id'   : 'to',\n",
    "    'PartyName'    : 'party',\n",
    "    'Score'        : 'emotion'\n",
    "}\n",
    "\n",
    "order = ['time', 'id', 'by', 'to', 'party', 'emotion']\n",
    "\n",
    "tdd = tdd.rename(columns=old_to_new)[order]"
   ]
  },
  {
   "cell_type": "markdown",
   "id": "formed-catalyst",
   "metadata": {},
   "source": [
    "#### Compute Changes"
   ]
  },
  {
   "cell_type": "markdown",
   "id": "smoking-purchase",
   "metadata": {},
   "source": [
    "Compute all cleaning at once and get a **Pandas** Dataframe."
   ]
  },
  {
   "cell_type": "code",
   "execution_count": 13,
   "id": "french-greenhouse",
   "metadata": {},
   "outputs": [],
   "source": [
    "tdf = tdd.compute()"
   ]
  },
  {
   "cell_type": "markdown",
   "id": "superb-dividend",
   "metadata": {},
   "source": [
    "## 1 Political Opinion\n",
    "\n",
    "### 1.1 How well does `party` and `emotion` capture Political Opinion? \n",
    "\n",
    "To test the accuracy of the metrics, we will take a random sample of 1000 tweets and have I and a non-author assign the tweets to the four quadrants made up of party and emotion axis."
   ]
  },
  {
   "cell_type": "code",
   "execution_count": 14,
   "id": "square-rabbit",
   "metadata": {},
   "outputs": [],
   "source": [
    "def quadrant(row):\n",
    "    p = row.party\n",
    "    e = row.emotion\n",
    "    \n",
    "    if (e > 0) and (p == 1):\n",
    "        result = 1\n",
    "    elif (e < 0) and (p == 1):\n",
    "        result = 2\n",
    "    elif (e < 0) and (p == -1):\n",
    "        result = 3\n",
    "    elif (e > 0) and (p == -1):\n",
    "        result = 4\n",
    "    else:\n",
    "        result = 0\n",
    "    \n",
    "    return result"
   ]
  },
  {
   "cell_type": "markdown",
   "id": "primary-canyon",
   "metadata": {},
   "source": [
    "To convert quadrants to political opinion metric discussed in 1.2"
   ]
  },
  {
   "cell_type": "code",
   "execution_count": 15,
   "id": "angry-granny",
   "metadata": {},
   "outputs": [],
   "source": [
    "def quadToOp(x):\n",
    "    \n",
    "    if x == 1:\n",
    "        result = 1\n",
    "    elif x == 2:\n",
    "        result = -1\n",
    "    elif x == 3:\n",
    "        result = 1\n",
    "    elif x == 4:\n",
    "        result = -1\n",
    "    else:\n",
    "        result = 0\n",
    "    \n",
    "    return result"
   ]
  },
  {
   "cell_type": "markdown",
   "id": "divided-mumbai",
   "metadata": {},
   "source": [
    "#### Creating sample\n",
    "\n",
    "Retrieving 2000 ids as some tweets may be privated, deleted etc..."
   ]
  },
  {
   "cell_type": "code",
   "execution_count": 16,
   "id": "recovered-hartford",
   "metadata": {},
   "outputs": [],
   "source": [
    "#file = 'sample.csv'\n",
    "#tdf.id.sample(2000).to_csv(file, header = False, index = False)"
   ]
  },
  {
   "cell_type": "markdown",
   "id": "corporate-label",
   "metadata": {},
   "source": [
    "#### Exporting Hydrated Sample"
   ]
  },
  {
   "cell_type": "code",
   "execution_count": 17,
   "id": "arbitrary-killer",
   "metadata": {},
   "outputs": [],
   "source": [
    "#sample_cols = ['id', 'text']\n",
    "#sample_filepath = os.path.join(os.getcwd(), 'data', file)\n",
    "#sdf = pd.read_csv(sample_filepath, usecols=sample_cols, dtype=str)\n",
    "\n",
    "# prepare experiment\n",
    "#sdf = sdf.dropna().head(1000)\n",
    "#sdf = sdf.merge(right=tdf, how='left', on='id')\n",
    "#sdf['label'] = sdf.apply(quadrant, axis=1)\n",
    "#sdf = sdf[['id', 'text', 'label']]\n",
    "\n",
    "\n",
    "#experiment_filepath = os.path.join(os.getcwd(), 'data', 'experiment.csv')\n",
    "#sdf.to_csv(experiment_filepath, index=False)"
   ]
  },
  {
   "cell_type": "markdown",
   "id": "altered-convergence",
   "metadata": {},
   "source": [
    "A script was used for participants to input quadrants for tweets. I, the author, annotated 500 tweets (column `test2`) and a non-author annotated 140 tweets (column `test1`). "
   ]
  },
  {
   "cell_type": "markdown",
   "id": "residential-addition",
   "metadata": {},
   "source": [
    "#### Import Experiment Data"
   ]
  },
  {
   "cell_type": "code",
   "execution_count": 18,
   "id": "falling-junior",
   "metadata": {},
   "outputs": [],
   "source": [
    "experiment_filepath = os.path.join(os.getcwd(), 'data', 'experiment.csv')\n",
    "edf = pd.read_csv(experiment_filepath).head(500)"
   ]
  },
  {
   "cell_type": "markdown",
   "id": "written-fancy",
   "metadata": {},
   "source": [
    "#### Measuring Agreement\n",
    "\n",
    "Firstly, we measure the agreement between the participants on labelling. We evaluate this with the 140 tweets that both participants labelled. The metric commonly applied in this situation is Cohen's Kappa,\n",
    "\n",
    "$\\kappa = \\dfrac{p_o - p_e}{1 - p_e}$\n",
    "\n",
    "where $p_o$ is the observed agreement ratio between the annotators and $p_e$ is the expected agreement when both annotators are randomly assigning labels given each annotators relative frequency of class labels.\n",
    "\n",
    "**Metric:** J. Cohen (1960). “A coefficient of agreement for nominal scales”. *Educational and Psychological Measurement 20(1):37-46*. doi:10.1177/001316446002000104."
   ]
  },
  {
   "cell_type": "code",
   "execution_count": 19,
   "id": "rising-custody",
   "metadata": {},
   "outputs": [
    {
     "name": "stdout",
     "output_type": "stream",
     "text": [
      "Label k: 0.7652582159624413\n",
      "Opinion k: 0.7434957860021987\n"
     ]
    }
   ],
   "source": [
    "bdf = edf.iloc[0:140]\n",
    "kl = skm.cohen_kappa_score(bdf.test1, bdf.test2)\n",
    "ko = skm.cohen_kappa_score(bdf.test1Op, bdf.test2Op)\n",
    "\n",
    "print(f'Label k: {kl}')\n",
    "print(f'Opinion k: {ko}')"
   ]
  },
  {
   "cell_type": "markdown",
   "id": "precious-avenue",
   "metadata": {},
   "source": [
    "$\\kappa$ between 0.6-0.8 is considered substantional agreement. This would support that the labels assigned by participants capture a similar notion of the political content in the tweets. This suggests that the participants labelling can be used to measure the accuracy of the sentiment analysis and party tagging in capturing the political content of the tweets. \n",
    "\n",
    "**Source:** Viera AJ, Garrett JM. Understanding interobserver agreement: the kappa statistic. *Fam Med*. 2005 May;37(5):360-3. PMID: 15883903."
   ]
  },
  {
   "cell_type": "code",
   "execution_count": 20,
   "id": "found-track",
   "metadata": {},
   "outputs": [
    {
     "name": "stdout",
     "output_type": "stream",
     "text": [
      "Participant 1 label accuracy: 0.5071428571428571\n",
      "Participant 2 label accuracy: 0.536\n",
      "\n",
      "Participant 1 opinion accuracy: 0.5357142857142857\n",
      "Participant 2 opinion accuracy: 0.574\n",
      "\n"
     ]
    }
   ],
   "source": [
    "t1_acc = len(bdf[bdf.test1 == bdf.label]) / 140\n",
    "t1Op_acc = len(bdf[bdf.test1Op == bdf.labelOp]) / 140\n",
    "\n",
    "t2_acc = len(edf[edf.label == edf.test2]) / 500 \n",
    "t2Op_acc = len(edf[edf.labelOp == edf.test2Op]) / 500 \n",
    "\n",
    "print(f'Participant 1 label accuracy: {t1_acc}')\n",
    "print(f'Participant 2 label accuracy: {t2_acc}\\n')\n",
    "print(f'Participant 1 opinion accuracy: {t1Op_acc}')\n",
    "print(f'Participant 2 opinion accuracy: {t2Op_acc}\\n')"
   ]
  },
  {
   "cell_type": "code",
   "execution_count": 21,
   "id": "young-champagne",
   "metadata": {},
   "outputs": [
    {
     "name": "stdout",
     "output_type": "stream",
     "text": [
      "              precision    recall  f1-score   support\n",
      "\n",
      "           0       0.00      0.00      0.00         8\n",
      "           1       0.74      0.82      0.78        17\n",
      "           2       0.56      0.42      0.48        12\n",
      "           3       0.84      0.56      0.67        75\n",
      "           4       0.12      0.62      0.20         8\n",
      "\n",
      "    accuracy                           0.55       120\n",
      "   macro avg       0.45      0.49      0.43       120\n",
      "weighted avg       0.69      0.55      0.59       120\n",
      "\n"
     ]
    }
   ],
   "source": [
    "bldf = bdf[bdf.test1 == bdf.test2]\n",
    "print(skm.classification_report(bldf.test1, bldf.label))"
   ]
  },
  {
   "cell_type": "code",
   "execution_count": 22,
   "id": "apparent-summit",
   "metadata": {},
   "outputs": [
    {
     "name": "stdout",
     "output_type": "stream",
     "text": [
      "              precision    recall  f1-score   support\n",
      "\n",
      "          -1       0.22      0.60      0.32        20\n",
      "           0       0.00      0.00      0.00         8\n",
      "           1       0.83      0.61      0.70        97\n",
      "\n",
      "    accuracy                           0.57       125\n",
      "   macro avg       0.35      0.40      0.34       125\n",
      "weighted avg       0.68      0.57      0.60       125\n",
      "\n"
     ]
    }
   ],
   "source": [
    "bodf = bdf[bdf.test1Op == bdf.test2Op]\n",
    "print(skm.classification_report(bodf.test1Op, bodf.labelOp))"
   ]
  },
  {
   "cell_type": "markdown",
   "id": "federal-message",
   "metadata": {},
   "source": [
    "### 1.2 Political Opinion Metric\n",
    "\n",
    "The political opinion of a tweet is the *point along the conservative-democrat political axis $[-1,1]$ that the content in the tweet expresses*. We want to convert tweets to these values as it lets us quantitively study political polarization over the time period the tweets were collected. \n",
    "\n",
    "#### `party` x Linearly Scaled `emotion`\n",
    "\n",
    "We will be scaling the `emotion` to $[-1,1]$ using minimum and maximum `emotion` values, however we do not want the outliers to have a disproportionate effect. To fix this, we will winzorise the emotion scores. Intuitively, it is unlikely that outliers are expressing particularly more emotions than the 0.01 percentile or more than the 99.99 percentile (~2500 tweets). These tweets are largely result from people repeating a certain connotated word (e.g., love or loser) that is picked up by the sentiment analysis tool leading to extreme values."
   ]
  },
  {
   "cell_type": "code",
   "execution_count": 23,
   "id": "likely-lingerie",
   "metadata": {},
   "outputs": [],
   "source": [
    "xs = mstats.winsorize(tdf.emotion, limits=[0.0001, 0.0001]) \n",
    "\n",
    "# maximum magnitude of emotion\n",
    "scale = max(-xs.min(), xs.max())\n",
    "\n",
    "# political opinion metric\n",
    "tdf['opinion'] = (tdf.party * xs / scale).values"
   ]
  },
  {
   "cell_type": "code",
   "execution_count": 24,
   "id": "studied-fabric",
   "metadata": {},
   "outputs": [
    {
     "data": {
      "image/png": "[encoded data removed]",
      "text/plain": [
       "<Figure size 600x400 with 1 Axes>"
      ]
     },
     "metadata": {
      "needs_background": "light"
     },
     "output_type": "display_data"
    }
   ],
   "source": [
    "sns.histplot(tdf.opinion.sample(5000))\n",
    "plt.show()"
   ]
  },
  {
   "cell_type": "markdown",
   "id": "together-conflict",
   "metadata": {},
   "source": [
    "The distribution of political opinions shows a clear sign of polarization in the tweets. From 1.1, we see that this metric can moderately capture the political content of a tweet, and therefore, we will continue to use this dataset for our study of polarization. The next step is to create the network from the users."
   ]
  },
  {
   "cell_type": "markdown",
   "id": "handy-lender",
   "metadata": {},
   "source": [
    "## 2 Political Influence"
   ]
  },
  {
   "cell_type": "markdown",
   "id": "plain-shoulder",
   "metadata": {},
   "source": [
    "### 2.1 Largest Strongly Connected Component"
   ]
  },
  {
   "cell_type": "code",
   "execution_count": 27,
   "id": "friendly-notebook",
   "metadata": {},
   "outputs": [],
   "source": [
    "cdf = tdf[tdf.to != '-1'][['by','to']]\n",
    "cg = Graph.DataFrame(cdf, directed=True)\n",
    "\n",
    "cs = cg.components()\n",
    "lcg = cs.giant()\n",
    "lc_ids = lcg.vs['name']\n",
    "lcdf = tdf[tdf.by.isin(lc_ids)]"
   ]
  },
  {
   "cell_type": "code",
   "execution_count": 42,
   "id": "northern-bailey",
   "metadata": {},
   "outputs": [
    {
     "data": {
      "text/html": [
       "<div>\n",
       "<style scoped>\n",
       "    .dataframe tbody tr th:only-of-type {\n",
       "        vertical-align: middle;\n",
       "    }\n",
       "\n",
       "    .dataframe tbody tr th {\n",
       "        vertical-align: top;\n",
       "    }\n",
       "\n",
       "    .dataframe thead th {\n",
       "        text-align: right;\n",
       "    }\n",
       "</style>\n",
       "<table border=\"1\" class=\"dataframe\">\n",
       "  <thead>\n",
       "    <tr style=\"text-align: right;\">\n",
       "      <th></th>\n",
       "      <th>time</th>\n",
       "      <th>id</th>\n",
       "      <th>by</th>\n",
       "      <th>to</th>\n",
       "      <th>party</th>\n",
       "      <th>emotion</th>\n",
       "      <th>opinion</th>\n",
       "    </tr>\n",
       "  </thead>\n",
       "  <tbody>\n",
       "    <tr>\n",
       "      <th>3</th>\n",
       "      <td>2020-07-01 19:44:00</td>\n",
       "      <td>1278368973893951489</td>\n",
       "      <td>64267482</td>\n",
       "      <td>65497475</td>\n",
       "      <td>-1</td>\n",
       "      <td>-1.461538</td>\n",
       "      <td>0.274038</td>\n",
       "    </tr>\n",
       "    <tr>\n",
       "      <th>18</th>\n",
       "      <td>2020-07-01 19:44:00</td>\n",
       "      <td>1278368973315244032</td>\n",
       "      <td>936858992</td>\n",
       "      <td>79699927</td>\n",
       "      <td>-1</td>\n",
       "      <td>-0.358974</td>\n",
       "      <td>0.067308</td>\n",
       "    </tr>\n",
       "    <tr>\n",
       "      <th>22</th>\n",
       "      <td>2020-07-01 19:44:00</td>\n",
       "      <td>1278368972929470465</td>\n",
       "      <td>2782429566</td>\n",
       "      <td>2439198739</td>\n",
       "      <td>-1</td>\n",
       "      <td>-0.794872</td>\n",
       "      <td>0.149038</td>\n",
       "    </tr>\n",
       "    <tr>\n",
       "      <th>23</th>\n",
       "      <td>2020-07-01 19:44:00</td>\n",
       "      <td>1278368972879126528</td>\n",
       "      <td>361035775</td>\n",
       "      <td>-1</td>\n",
       "      <td>-1</td>\n",
       "      <td>0.410256</td>\n",
       "      <td>-0.076923</td>\n",
       "    </tr>\n",
       "    <tr>\n",
       "      <th>28</th>\n",
       "      <td>2020-07-01 19:44:00</td>\n",
       "      <td>1278368972665008128</td>\n",
       "      <td>918711598079819777</td>\n",
       "      <td>-1</td>\n",
       "      <td>-1</td>\n",
       "      <td>0.102564</td>\n",
       "      <td>-0.019231</td>\n",
       "    </tr>\n",
       "    <tr>\n",
       "      <th>...</th>\n",
       "      <td>...</td>\n",
       "      <td>...</td>\n",
       "      <td>...</td>\n",
       "      <td>...</td>\n",
       "      <td>...</td>\n",
       "      <td>...</td>\n",
       "      <td>...</td>\n",
       "    </tr>\n",
       "    <tr>\n",
       "      <th>184561</th>\n",
       "      <td>2020-11-12 17:47:00</td>\n",
       "      <td>1326899545305976832</td>\n",
       "      <td>2602719547</td>\n",
       "      <td>1697499290</td>\n",
       "      <td>-1</td>\n",
       "      <td>1.384615</td>\n",
       "      <td>-0.259615</td>\n",
       "    </tr>\n",
       "    <tr>\n",
       "      <th>184571</th>\n",
       "      <td>2020-11-12 17:47:00</td>\n",
       "      <td>1326899545138212867</td>\n",
       "      <td>781304089837723649</td>\n",
       "      <td>-1</td>\n",
       "      <td>1</td>\n",
       "      <td>0.692308</td>\n",
       "      <td>0.129808</td>\n",
       "    </tr>\n",
       "    <tr>\n",
       "      <th>184578</th>\n",
       "      <td>2020-11-12 17:47:00</td>\n",
       "      <td>1326899544903266304</td>\n",
       "      <td>841332849483497472</td>\n",
       "      <td>-1</td>\n",
       "      <td>-1</td>\n",
       "      <td>-0.794872</td>\n",
       "      <td>0.149038</td>\n",
       "    </tr>\n",
       "    <tr>\n",
       "      <th>184583</th>\n",
       "      <td>2020-11-12 17:47:00</td>\n",
       "      <td>1326899544701939712</td>\n",
       "      <td>1257457738407436294</td>\n",
       "      <td>1289411304655065088</td>\n",
       "      <td>-1</td>\n",
       "      <td>-0.076923</td>\n",
       "      <td>0.014423</td>\n",
       "    </tr>\n",
       "    <tr>\n",
       "      <th>184626</th>\n",
       "      <td>2020-11-12 17:47:00</td>\n",
       "      <td>1326899546232942592</td>\n",
       "      <td>3421791370</td>\n",
       "      <td>195725305</td>\n",
       "      <td>-1</td>\n",
       "      <td>-0.179487</td>\n",
       "      <td>0.033654</td>\n",
       "    </tr>\n",
       "  </tbody>\n",
       "</table>\n",
       "<p>1833493 rows × 7 columns</p>\n",
       "</div>"
      ],
      "text/plain": [
       "                      time                   id                   by  \\\n",
       "3      2020-07-01 19:44:00  1278368973893951489             64267482   \n",
       "18     2020-07-01 19:44:00  1278368973315244032            936858992   \n",
       "22     2020-07-01 19:44:00  1278368972929470465           2782429566   \n",
       "23     2020-07-01 19:44:00  1278368972879126528            361035775   \n",
       "28     2020-07-01 19:44:00  1278368972665008128   918711598079819777   \n",
       "...                    ...                  ...                  ...   \n",
       "184561 2020-11-12 17:47:00  1326899545305976832           2602719547   \n",
       "184571 2020-11-12 17:47:00  1326899545138212867   781304089837723649   \n",
       "184578 2020-11-12 17:47:00  1326899544903266304   841332849483497472   \n",
       "184583 2020-11-12 17:47:00  1326899544701939712  1257457738407436294   \n",
       "184626 2020-11-12 17:47:00  1326899546232942592           3421791370   \n",
       "\n",
       "                         to  party   emotion   opinion  \n",
       "3                  65497475     -1 -1.461538  0.274038  \n",
       "18                 79699927     -1 -0.358974  0.067308  \n",
       "22               2439198739     -1 -0.794872  0.149038  \n",
       "23                       -1     -1  0.410256 -0.076923  \n",
       "28                       -1     -1  0.102564 -0.019231  \n",
       "...                     ...    ...       ...       ...  \n",
       "184561           1697499290     -1  1.384615 -0.259615  \n",
       "184571                   -1      1  0.692308  0.129808  \n",
       "184578                   -1     -1 -0.794872  0.149038  \n",
       "184583  1289411304655065088     -1 -0.076923  0.014423  \n",
       "184626            195725305     -1 -0.179487  0.033654  \n",
       "\n",
       "[1833493 rows x 7 columns]"
      ]
     },
     "execution_count": 42,
     "metadata": {},
     "output_type": "execute_result"
    }
   ],
   "source": [
    "lcdf"
   ]
  },
  {
   "cell_type": "code",
   "execution_count": 40,
   "id": "copyrighted-carter",
   "metadata": {},
   "outputs": [
    {
     "data": {
      "text/html": [
       "<div>\n",
       "<style scoped>\n",
       "    .dataframe tbody tr th:only-of-type {\n",
       "        vertical-align: middle;\n",
       "    }\n",
       "\n",
       "    .dataframe tbody tr th {\n",
       "        vertical-align: top;\n",
       "    }\n",
       "\n",
       "    .dataframe thead th {\n",
       "        text-align: right;\n",
       "    }\n",
       "</style>\n",
       "<table border=\"1\" class=\"dataframe\">\n",
       "  <thead>\n",
       "    <tr style=\"text-align: right;\">\n",
       "      <th></th>\n",
       "      <th>time</th>\n",
       "      <th>id</th>\n",
       "      <th>by</th>\n",
       "      <th>to</th>\n",
       "      <th>party</th>\n",
       "      <th>emotion</th>\n",
       "      <th>opinion</th>\n",
       "    </tr>\n",
       "  </thead>\n",
       "  <tbody>\n",
       "    <tr>\n",
       "      <th>18</th>\n",
       "      <td>2020-07-01 19:44:00</td>\n",
       "      <td>1278368973315244032</td>\n",
       "      <td>936858992</td>\n",
       "      <td>79699927</td>\n",
       "      <td>-1</td>\n",
       "      <td>-0.358974</td>\n",
       "      <td>0.067308</td>\n",
       "    </tr>\n",
       "    <tr>\n",
       "      <th>39</th>\n",
       "      <td>2020-07-01 19:44:00</td>\n",
       "      <td>1278368971989880837</td>\n",
       "      <td>19612969</td>\n",
       "      <td>378897510</td>\n",
       "      <td>-1</td>\n",
       "      <td>-0.769231</td>\n",
       "      <td>0.144231</td>\n",
       "    </tr>\n",
       "    <tr>\n",
       "      <th>72</th>\n",
       "      <td>2020-07-01 19:44:00</td>\n",
       "      <td>1278368976960184320</td>\n",
       "      <td>19199518</td>\n",
       "      <td>959353080335749120</td>\n",
       "      <td>-1</td>\n",
       "      <td>0.384615</td>\n",
       "      <td>-0.072115</td>\n",
       "    </tr>\n",
       "    <tr>\n",
       "      <th>148</th>\n",
       "      <td>2020-07-01 19:44:00</td>\n",
       "      <td>1278368982098214913</td>\n",
       "      <td>20800248</td>\n",
       "      <td>1185242568914800647</td>\n",
       "      <td>-1</td>\n",
       "      <td>2.256410</td>\n",
       "      <td>-0.423077</td>\n",
       "    </tr>\n",
       "    <tr>\n",
       "      <th>182</th>\n",
       "      <td>2020-07-01 19:44:00</td>\n",
       "      <td>1278368980873482241</td>\n",
       "      <td>1184494045</td>\n",
       "      <td>50494673</td>\n",
       "      <td>-1</td>\n",
       "      <td>0.512821</td>\n",
       "      <td>-0.096154</td>\n",
       "    </tr>\n",
       "    <tr>\n",
       "      <th>...</th>\n",
       "      <td>...</td>\n",
       "      <td>...</td>\n",
       "      <td>...</td>\n",
       "      <td>...</td>\n",
       "      <td>...</td>\n",
       "      <td>...</td>\n",
       "      <td>...</td>\n",
       "    </tr>\n",
       "    <tr>\n",
       "      <th>184333</th>\n",
       "      <td>2020-11-12 16:20:00</td>\n",
       "      <td>1326877624107413504</td>\n",
       "      <td>368578726</td>\n",
       "      <td>1230916059819073538</td>\n",
       "      <td>-1</td>\n",
       "      <td>-0.564103</td>\n",
       "      <td>0.105769</td>\n",
       "    </tr>\n",
       "    <tr>\n",
       "      <th>184366</th>\n",
       "      <td>2020-11-12 16:20:00</td>\n",
       "      <td>1326877626871533569</td>\n",
       "      <td>26111686</td>\n",
       "      <td>813311743</td>\n",
       "      <td>1</td>\n",
       "      <td>0.205128</td>\n",
       "      <td>0.038462</td>\n",
       "    </tr>\n",
       "    <tr>\n",
       "      <th>184442</th>\n",
       "      <td>2020-11-12 16:49:00</td>\n",
       "      <td>1326884933894365187</td>\n",
       "      <td>10487222</td>\n",
       "      <td>3084726844</td>\n",
       "      <td>-1</td>\n",
       "      <td>-1.025641</td>\n",
       "      <td>0.192308</td>\n",
       "    </tr>\n",
       "    <tr>\n",
       "      <th>184498</th>\n",
       "      <td>2020-11-12 17:18:00</td>\n",
       "      <td>1326892228447498240</td>\n",
       "      <td>1219327275793031169</td>\n",
       "      <td>961680495917568000</td>\n",
       "      <td>1</td>\n",
       "      <td>-3.769231</td>\n",
       "      <td>-0.706731</td>\n",
       "    </tr>\n",
       "    <tr>\n",
       "      <th>184509</th>\n",
       "      <td>2020-11-12 17:18:00</td>\n",
       "      <td>1326892227717550080</td>\n",
       "      <td>93309648</td>\n",
       "      <td>1075121162743676928</td>\n",
       "      <td>-1</td>\n",
       "      <td>-0.435897</td>\n",
       "      <td>0.081731</td>\n",
       "    </tr>\n",
       "  </tbody>\n",
       "</table>\n",
       "<p>342737 rows × 7 columns</p>\n",
       "</div>"
      ],
      "text/plain": [
       "                      time                   id                   by  \\\n",
       "18     2020-07-01 19:44:00  1278368973315244032            936858992   \n",
       "39     2020-07-01 19:44:00  1278368971989880837             19612969   \n",
       "72     2020-07-01 19:44:00  1278368976960184320             19199518   \n",
       "148    2020-07-01 19:44:00  1278368982098214913             20800248   \n",
       "182    2020-07-01 19:44:00  1278368980873482241           1184494045   \n",
       "...                    ...                  ...                  ...   \n",
       "184333 2020-11-12 16:20:00  1326877624107413504            368578726   \n",
       "184366 2020-11-12 16:20:00  1326877626871533569             26111686   \n",
       "184442 2020-11-12 16:49:00  1326884933894365187             10487222   \n",
       "184498 2020-11-12 17:18:00  1326892228447498240  1219327275793031169   \n",
       "184509 2020-11-12 17:18:00  1326892227717550080             93309648   \n",
       "\n",
       "                         to  party   emotion   opinion  \n",
       "18                 79699927     -1 -0.358974  0.067308  \n",
       "39                378897510     -1 -0.769231  0.144231  \n",
       "72       959353080335749120     -1  0.384615 -0.072115  \n",
       "148     1185242568914800647     -1  2.256410 -0.423077  \n",
       "182                50494673     -1  0.512821 -0.096154  \n",
       "...                     ...    ...       ...       ...  \n",
       "184333  1230916059819073538     -1 -0.564103  0.105769  \n",
       "184366            813311743      1  0.205128  0.038462  \n",
       "184442           3084726844     -1 -1.025641  0.192308  \n",
       "184498   961680495917568000      1 -3.769231 -0.706731  \n",
       "184509  1075121162743676928     -1 -0.435897  0.081731  \n",
       "\n",
       "[342737 rows x 7 columns]"
      ]
     },
     "execution_count": 40,
     "metadata": {},
     "output_type": "execute_result"
    }
   ],
   "source": [
    "lcdf[lcdf.to.isin(lcdf.by)]"
   ]
  },
  {
   "cell_type": "code",
   "execution_count": null,
   "id": "hollywood-bible",
   "metadata": {},
   "outputs": [],
   "source": []
  }
 ],
 "metadata": {
  "kernelspec": {
   "display_name": "Python 3",
   "language": "python",
   "name": "python3"
  },
  "language_info": {
   "codemirror_mode": {
    "name": "ipython",
    "version": 3
   },
   "file_extension": ".py",
   "mimetype": "text/x-python",
   "name": "python",
   "nbconvert_exporter": "python",
   "pygments_lexer": "ipython3",
   "version": "3.8.5"
  }
 },
 "nbformat": 4,
 "nbformat_minor": 5
}
