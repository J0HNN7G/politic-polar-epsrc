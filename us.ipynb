{
 "cells": [
  {
   "cell_type": "markdown",
   "id": "altered-edition",
   "metadata": {},
   "source": [
    "# Polarization on Twitter\n",
    "### By Jonathan Gustafsson Frennert"
   ]
  },
  {
   "cell_type": "markdown",
   "id": "dried-thumbnail",
   "metadata": {},
   "source": [
    "### I. Dependencies"
   ]
  },
  {
   "cell_type": "code",
   "execution_count": 1,
   "id": "dietary-wrapping",
   "metadata": {},
   "outputs": [
    {
     "name": "stdout",
     "output_type": "stream",
     "text": [
      "All packages imported!\n"
     ]
    }
   ],
   "source": [
    "import os\n",
    "\n",
    "import matplotlib.pyplot as plt\n",
    "import matplotlib as mpl\n",
    "from mpl_toolkits import mplot3d\n",
    "import seaborn as sns\n",
    "\n",
    "import math\n",
    "import numpy as np\n",
    "np.random.seed(42)\n",
    "from scipy.stats import mstats\n",
    "import sklearn.metrics as skm\n",
    "import pandas as pd\n",
    "import dask.dataframe as dd\n",
    "from igraph import Graph\n",
    "import igraph as ig\n",
    "\n",
    "import warnings\n",
    "warnings.filterwarnings('ignore')\n",
    "\n",
    "print(\"All packages imported!\")"
   ]
  },
  {
   "cell_type": "markdown",
   "id": "motivated-thanks",
   "metadata": {},
   "source": [
    "### II. Matplotlib Parameters"
   ]
  },
  {
   "cell_type": "code",
   "execution_count": 2,
   "id": "superb-defendant",
   "metadata": {},
   "outputs": [],
   "source": [
    "mpl.rcParams['figure.dpi'] = 100\n",
    "mpl.rcParams['font.size'] = 9"
   ]
  },
  {
   "cell_type": "code",
   "execution_count": 3,
   "id": "hybrid-fashion",
   "metadata": {},
   "outputs": [],
   "source": [
    "# Latex document Text width\n",
    "latex_width = 390.0\n",
    "\n",
    "def set_size(width=latex_width, height=latex_width, fraction=1, subplots=(1, 1)):\n",
    "    \"\"\"Set figure dimensions to avoid scaling in LaTeX.\n",
    "    \n",
    "    Credit to Jack Walton for the function.\n",
    "    Source: https://jwalton.info/Embed-Publication-Matplotlib-Latex/\n",
    "    \"\"\"\n",
    "\n",
    "    fig_width_pt = width * fraction\n",
    "    fig_height_pt = height * fraction\n",
    "    \n",
    "    inches_per_pt = 1 / 72.27\n",
    "    \n",
    "    fig_width_in = fig_width_pt * inches_per_pt\n",
    "    fig_height_in = fig_height_pt * inches_per_pt * (subplots[0] / subplots[1])\n",
    "\n",
    "    return (fig_width_in, fig_height_in)"
   ]
  },
  {
   "cell_type": "markdown",
   "id": "sharp-rainbow",
   "metadata": {},
   "source": [
    "## III. Color Palette\n",
    "\n",
    "The palette is from the [iWantHue](http://medialab.github.io/iwanthue/) website by Mathieu Jacomy at the Sciences-Po Medialab."
   ]
  },
  {
   "cell_type": "code",
   "execution_count": 4,
   "id": "earned-korea",
   "metadata": {},
   "outputs": [],
   "source": [
    "colors = [\n",
    "    \"#ba4c40\",\n",
    "    \"#45c097\",\n",
    "    \"#573485\",\n",
    "    \"#a8ae3e\",\n",
    "    \"#8874d9\",\n",
    "    \"#69a050\",\n",
    "    \"#be64b2\",\n",
    "    \"#bc7d36\",\n",
    "    \"#5d8ad4\",\n",
    "    \"#b94973\"\n",
    "]"
   ]
  },
  {
   "cell_type": "markdown",
   "id": "amber-african",
   "metadata": {},
   "source": [
    "## IV. Twitter Dataset\n",
    "\n",
    "**Provenance:** Ibrahim Sabuncu, \"USA Nov.2020 Election 20 Mil. Tweets (with Sentiment and Party Name Labels) Dataset.\" *IEEE Dataport*, 14 Aug. 2020, doi: https://dx.doi.org/10.21227/25te-j338.\n",
    "\n",
    "**License:** [Developer Agreement](https://developer.twitter.com/en/developer-terms/agreement)\n",
    "\n",
    "**Usage Information:** \n",
    "- \"you may only use the following information for non-commercial, internal purposes (e.g., to improve the functionality of the Services): (a) aggregate Twitter Applications user metrics, such as number of active users or accounts on Twitter Applications; (b) the responsiveness of Twitter Applications; and (c) results, usage statistics, data or other information (in the aggregate or otherwise) derived from analyzing, using, or regarding the performance of the Twitter API.\"\n",
    "\n",
    "- \"you may not use, or knowingly display, distribute, or otherwise make Twitter Content, or information derived from Twitter Content, available to any entity for the purpose of: (a) conducting or providing surveillance or gathering intelligence, including but not limited to investigating or tracking Twitter users or Twitter Content; (b) conducting or providing analysis or research for any unlawful or discriminatory purpose, or in a manner that would be inconsistent with Twitter users' reasonable expectations of privacy; (c) monitoring sensitive events (including but not limited to protests, rallies, or community organizing meetings); or (d) targeting, segmenting, or profiling individuals based on sensitive personal information, including their health (e.g., pregnancy), negative financial status or condition, political affiliation or beliefs, racial or ethnic origin, religious or philosophical affiliation or beliefs, sex life or sexual orientation, trade union membership, Twitter Content relating to any alleged or actual commission of a crime, or any other sensitive categories of personal information prohibited by law.\"\n",
    "\n",
    "**Number of tweets:** 24,201,654\n",
    "\n",
    "**Demographic:** Anybody who tweeted #USAelection, #NovemberElection, @DNC, @TheDemocrats, Biden, @JoeBiden, \"Our best days still lie ahead\", \"No Malarkey!\", #MAGA2020, @GOP, Trump, @POTUS, @realDonaldTrump, Pence, @Mike_Pence, @VP OR \"Keep America Great\", @GreenPartyUS, @TheGreenParty, “Howie Hawkins”, @HowieHawkins, “Angela Walker”, @AngelaNWalker, @LPNational, “Jo Jorgensen”, @Jorgensen4POTUS, “Spike Cohen”, @RealSpikeCohen between July 1st and November 12th, 2020.\n",
    "\n",
    "\n",
    "**Sentiment analysis tool:** 5.\tC.J. Hutto, and Eric Gilbert. “VADER: A Parsimonious Rule-based Model for Sentiment Analysis of Social Media Text.” *Eighth International Conference on Weblogs and Social Media*. 2014. [GitHub](https://github.com/cjhutto/vaderSentiment)\n",
    "\n",
    "<center> <h3>Dataset Contents*</h3> </center>\n",
    "\n",
    "<center> <h4><code>uselection_tweets_1jul_11nov.csv</code></h4> </center>\n",
    "\n",
    "| Variable | Format | Description | Example |\n",
    "| :- | :- | :- | :- | \n",
    "| `Created-At`$\\,$ | Timestamp$\\,$ | Time at which tweet was created $\\,$ | 7/1/20 7:44 PM |\n",
    "| `From-User-Id`$\\,$ | String$\\,$ | Unique identifier of the user that sent the tweet $\\,$ | 1223446325758394369 |\n",
    "| `To-User-Id`$\\,$ | String$\\,$ | Unique identifier of the user that tweet sent to, -1 if nobody $\\,$ | 387882597 |\n",
    "| `Language`$\\,$ | String$\\,$ | ISO 639-1 language of the tweet $\\,$ | en |\n",
    "| `PartyName`$\\,$ | String$\\,$ | Which party is mentioned in the tweet $\\,$ | BothParty |\n",
    "| `Id`$\\,$ | String$\\,$ | Unique identifier of the tweet $\\,$ | 1278368973948694528 |\n",
    "| `Score`$\\,$ | Float$\\,$ | The sentiment score of the tweet $\\,$ | 0.102564 |\n",
    "| `Scoring String`$\\,$ | String$\\,$ | The sentiment score of the tweet $\\,$ | 0.102564 |\n",
    "\n",
    "\\**only imported fields are shown.*"
   ]
  },
  {
   "cell_type": "markdown",
   "id": "ongoing-morrison",
   "metadata": {},
   "source": [
    "### Importing"
   ]
  },
  {
   "cell_type": "code",
   "execution_count": 5,
   "id": "viral-carbon",
   "metadata": {},
   "outputs": [],
   "source": [
    "twitter_cols = ['Created-At', 'From-User-Id', 'To-User-Id', 'Language', 'PartyName', 'Id', 'Score', 'Scoring String']\n",
    "twitter_filepath = os.path.join(os.getcwd(), 'data', 'twitter', 'uselection_tweets_1jul_11nov.csv')\n",
    "\n",
    "# twitter dask dataframe\n",
    "tdd = dd.read_csv(twitter_filepath, sep=';', usecols=twitter_cols)"
   ]
  },
  {
   "cell_type": "markdown",
   "id": "sunset-alpha",
   "metadata": {},
   "source": [
    "### Cleaning\n",
    "\n",
    "- No duplicates found.\n",
    "\n",
    "- Extreme values were found, but were kept."
   ]
  },
  {
   "cell_type": "markdown",
   "id": "geographic-xerox",
   "metadata": {},
   "source": [
    "#### Correcting Inferred Variable Types"
   ]
  },
  {
   "cell_type": "code",
   "execution_count": 6,
   "id": "arctic-memphis",
   "metadata": {},
   "outputs": [
    {
     "data": {
      "text/plain": [
       "Created-At         object\n",
       "From-User-Id        int64\n",
       "To-User-Id          int64\n",
       "Language           object\n",
       "PartyName          object\n",
       "Id                  int64\n",
       "Score             float64\n",
       "Scoring String     object\n",
       "dtype: object"
      ]
     },
     "execution_count": 6,
     "metadata": {},
     "output_type": "execute_result"
    }
   ],
   "source": [
    "tdd.dtypes"
   ]
  },
  {
   "cell_type": "markdown",
   "id": "executive-decline",
   "metadata": {},
   "source": [
    "- `Created-At` should be a timestamp\n",
    "- `From-User_Id` should be a string\n",
    "- `To-User_Id` should be a string\n",
    "- `Id` should be a string"
   ]
  },
  {
   "cell_type": "code",
   "execution_count": 7,
   "id": "broken-struggle",
   "metadata": {},
   "outputs": [],
   "source": [
    "tdd['Created-At'] = dd.to_datetime(tdd['Created-At'])\n",
    "tdd['From-User-Id'] = tdd['From-User-Id'].astype('str')\n",
    "tdd['To-User-Id'] = tdd['To-User-Id'].astype('str')\n",
    "tdd['Id'] = tdd['Id'].astype('str')"
   ]
  },
  {
   "cell_type": "code",
   "execution_count": 8,
   "id": "flying-trinidad",
   "metadata": {},
   "outputs": [
    {
     "name": "stdout",
     "output_type": "stream",
     "text": [
      "24201654\n"
     ]
    }
   ],
   "source": [
    "tdf = tdd.compute()\n",
    "print(len(tdf))"
   ]
  },
  {
   "cell_type": "code",
   "execution_count": 9,
   "id": "aware-trinity",
   "metadata": {},
   "outputs": [
    {
     "data": {
      "text/html": [
       "<div>\n",
       "<style scoped>\n",
       "    .dataframe tbody tr th:only-of-type {\n",
       "        vertical-align: middle;\n",
       "    }\n",
       "\n",
       "    .dataframe tbody tr th {\n",
       "        vertical-align: top;\n",
       "    }\n",
       "\n",
       "    .dataframe thead th {\n",
       "        text-align: right;\n",
       "    }\n",
       "</style>\n",
       "<table border=\"1\" class=\"dataframe\">\n",
       "  <thead>\n",
       "    <tr style=\"text-align: right;\">\n",
       "      <th></th>\n",
       "      <th>Created-At</th>\n",
       "      <th>From-User-Id</th>\n",
       "      <th>To-User-Id</th>\n",
       "      <th>Language</th>\n",
       "      <th>PartyName</th>\n",
       "      <th>Id</th>\n",
       "      <th>Score</th>\n",
       "      <th>Scoring String</th>\n",
       "    </tr>\n",
       "  </thead>\n",
       "  <tbody>\n",
       "    <tr>\n",
       "      <th>0</th>\n",
       "      <td>2020-07-01 19:44:00</td>\n",
       "      <td>1223446325758394369</td>\n",
       "      <td>387882597</td>\n",
       "      <td>en</td>\n",
       "      <td>BothParty</td>\n",
       "      <td>1278368973948694528</td>\n",
       "      <td>0.102564</td>\n",
       "      <td>yep (0.31)  torturing (-0.77)  care (0.56)</td>\n",
       "    </tr>\n",
       "    <tr>\n",
       "      <th>1</th>\n",
       "      <td>2020-07-01 19:44:00</td>\n",
       "      <td>1001407960252342273</td>\n",
       "      <td>-1</td>\n",
       "      <td>en</td>\n",
       "      <td>Republicans</td>\n",
       "      <td>1278368973923528704</td>\n",
       "      <td>-0.589744</td>\n",
       "      <td>ugly (-0.59)</td>\n",
       "    </tr>\n",
       "    <tr>\n",
       "      <th>2</th>\n",
       "      <td>2020-07-01 19:44:00</td>\n",
       "      <td>1178522693840392195</td>\n",
       "      <td>-1</td>\n",
       "      <td>en</td>\n",
       "      <td>Democrats</td>\n",
       "      <td>1278368973910937600</td>\n",
       "      <td>0.692308</td>\n",
       "      <td>okay (0.23)  lol (0.46)</td>\n",
       "    </tr>\n",
       "    <tr>\n",
       "      <th>3</th>\n",
       "      <td>2020-07-01 19:44:00</td>\n",
       "      <td>64267482</td>\n",
       "      <td>65497475</td>\n",
       "      <td>en</td>\n",
       "      <td>Republicans</td>\n",
       "      <td>1278368973893951489</td>\n",
       "      <td>-1.461538</td>\n",
       "      <td>damage (-0.56)  incompetent (-0.54)  resign (-...</td>\n",
       "    </tr>\n",
       "    <tr>\n",
       "      <th>4</th>\n",
       "      <td>2020-07-01 19:44:00</td>\n",
       "      <td>1068507190103699456</td>\n",
       "      <td>-1</td>\n",
       "      <td>en</td>\n",
       "      <td>Republicans</td>\n",
       "      <td>1278368973881511936</td>\n",
       "      <td>0.025641</td>\n",
       "      <td>clean (0.44)  threat (-0.62)  admit (0.21)</td>\n",
       "    </tr>\n",
       "  </tbody>\n",
       "</table>\n",
       "</div>"
      ],
      "text/plain": [
       "           Created-At         From-User-Id To-User-Id Language    PartyName  \\\n",
       "0 2020-07-01 19:44:00  1223446325758394369  387882597       en    BothParty   \n",
       "1 2020-07-01 19:44:00  1001407960252342273         -1       en  Republicans   \n",
       "2 2020-07-01 19:44:00  1178522693840392195         -1       en    Democrats   \n",
       "3 2020-07-01 19:44:00             64267482   65497475       en  Republicans   \n",
       "4 2020-07-01 19:44:00  1068507190103699456         -1       en  Republicans   \n",
       "\n",
       "                    Id     Score  \\\n",
       "0  1278368973948694528  0.102564   \n",
       "1  1278368973923528704 -0.589744   \n",
       "2  1278368973910937600  0.692308   \n",
       "3  1278368973893951489 -1.461538   \n",
       "4  1278368973881511936  0.025641   \n",
       "\n",
       "                                      Scoring String  \n",
       "0         yep (0.31)  torturing (-0.77)  care (0.56)  \n",
       "1                                       ugly (-0.59)  \n",
       "2                            okay (0.23)  lol (0.46)  \n",
       "3  damage (-0.56)  incompetent (-0.54)  resign (-...  \n",
       "4         clean (0.44)  threat (-0.62)  admit (0.21)  "
      ]
     },
     "execution_count": 9,
     "metadata": {},
     "output_type": "execute_result"
    }
   ],
   "source": [
    "tdf.head(5)"
   ]
  },
  {
   "cell_type": "markdown",
   "id": "arabic-bouquet",
   "metadata": {},
   "source": [
    "#### Remove `NaN` Values\n",
    "\n",
    "Some tweets were unscored and hence the `Scoring String` is `NaN`. These tweets were all removed."
   ]
  },
  {
   "cell_type": "code",
   "execution_count": 10,
   "id": "indoor-tuning",
   "metadata": {},
   "outputs": [],
   "source": [
    "tdd = tdd.dropna()"
   ]
  },
  {
   "cell_type": "markdown",
   "id": "played-progressive",
   "metadata": {},
   "source": [
    "#### Initial Filters\n",
    "\n",
    "- We filter for English to get more relevant tweets; the US speaks English. Further, the experiment done later involved English Speakers.\n",
    "\n",
    "- We are primarily interested in tweets that can be fitted along the conservative-democrat political axis."
   ]
  },
  {
   "cell_type": "code",
   "execution_count": 11,
   "id": "expected-criminal",
   "metadata": {},
   "outputs": [],
   "source": [
    "tdd = tdd[tdd['Language'] == 'en']\n",
    "tdd = tdd[(tdd['PartyName'] == 'Republicans') | (tdd['PartyName'] == 'Democrats')]"
   ]
  },
  {
   "cell_type": "markdown",
   "id": "biblical-shopping",
   "metadata": {},
   "source": [
    "#### Political Polarity\n",
    "\n",
    "- We convert the categories into numerical values by sign."
   ]
  },
  {
   "cell_type": "code",
   "execution_count": 12,
   "id": "local-sixth",
   "metadata": {},
   "outputs": [],
   "source": [
    "polarity = {'Republicans': -1, 'Democrats' : 1}\n",
    "\n",
    "tdd['PartyName'] = tdd['PartyName'].replace(polarity)"
   ]
  },
  {
   "cell_type": "markdown",
   "id": "constant-rates",
   "metadata": {},
   "source": [
    "#### Drop Unused Columns"
   ]
  },
  {
   "cell_type": "code",
   "execution_count": 13,
   "id": "indoor-purpose",
   "metadata": {},
   "outputs": [],
   "source": [
    "tdd = tdd.drop(columns=['Language', 'Scoring String'])"
   ]
  },
  {
   "cell_type": "markdown",
   "id": "magnetic-declaration",
   "metadata": {},
   "source": [
    "#### Rename and Reorder Columns\n",
    "\n",
    "No particular reason, just prefer not using dictionary to access dataframe columns and a certain order of columns."
   ]
  },
  {
   "cell_type": "code",
   "execution_count": 14,
   "id": "multiple-wheel",
   "metadata": {},
   "outputs": [],
   "source": [
    "old_to_new = {\n",
    "    'Created-At'   : 'time',\n",
    "    'Id'           : 'id',\n",
    "    'From-User-Id' : 'by',\n",
    "    'To-User-Id'   : 'to',\n",
    "    'PartyName'    : 'party',\n",
    "    'Score'        : 'emotion'\n",
    "}\n",
    "\n",
    "order = ['time', 'id', 'by', 'to', 'party', 'emotion']\n",
    "\n",
    "tdd = tdd.rename(columns=old_to_new)[order]"
   ]
  },
  {
   "cell_type": "markdown",
   "id": "sacred-minneapolis",
   "metadata": {},
   "source": [
    "#### Compute Changes"
   ]
  },
  {
   "cell_type": "markdown",
   "id": "bigger-ethics",
   "metadata": {},
   "source": [
    "Compute all cleaning at once and get a **Pandas** Dataframe."
   ]
  },
  {
   "cell_type": "code",
   "execution_count": 15,
   "id": "contained-model",
   "metadata": {},
   "outputs": [],
   "source": [
    "tdf = tdd.compute()"
   ]
  },
  {
   "cell_type": "markdown",
   "id": "considerable-madrid",
   "metadata": {},
   "source": [
    "## 1 Political Opinion\n",
    "\n",
    "### 1.1 How well does `party` and `emotion` capture Political Opinion? \n",
    "\n",
    "To test the accuracy of the metrics, we will take a random sample of 1000 tweets and have I and a non-author assign the tweets to the four quadrants made up of party and emotion axis."
   ]
  },
  {
   "cell_type": "code",
   "execution_count": 16,
   "id": "graduate-blair",
   "metadata": {},
   "outputs": [],
   "source": [
    "def quadrant(row):\n",
    "    p = row.party\n",
    "    e = row.emotion\n",
    "    \n",
    "    if (e > 0) and (p == 1):\n",
    "        result = 1\n",
    "    elif (e < 0) and (p == 1):\n",
    "        result = 2\n",
    "    elif (e < 0) and (p == -1):\n",
    "        result = 3\n",
    "    elif (e > 0) and (p == -1):\n",
    "        result = 4\n",
    "    else:\n",
    "        result = 0\n",
    "    \n",
    "    return result"
   ]
  },
  {
   "cell_type": "markdown",
   "id": "drawn-brain",
   "metadata": {},
   "source": [
    "To convert quadrants to political opinion metric discussed in 1.2"
   ]
  },
  {
   "cell_type": "code",
   "execution_count": 17,
   "id": "forced-healthcare",
   "metadata": {},
   "outputs": [],
   "source": [
    "def quadToOp(x):\n",
    "    \n",
    "    if x == 1:\n",
    "        result = 1\n",
    "    elif x == 2:\n",
    "        result = -1\n",
    "    elif x == 3:\n",
    "        result = 1\n",
    "    elif x == 4:\n",
    "        result = -1\n",
    "    else:\n",
    "        result = 0\n",
    "    \n",
    "    return result"
   ]
  },
  {
   "cell_type": "markdown",
   "id": "lesser-canyon",
   "metadata": {},
   "source": [
    "#### Creating sample\n",
    "\n",
    "Retrieving 2000 ids as some tweets may be privated, deleted etc..."
   ]
  },
  {
   "cell_type": "code",
   "execution_count": 18,
   "id": "controlling-scout",
   "metadata": {},
   "outputs": [],
   "source": [
    "#file = 'sample.csv'\n",
    "#tdf.id.sample(2000).to_csv(file, header = False, index = False)"
   ]
  },
  {
   "cell_type": "markdown",
   "id": "postal-deadline",
   "metadata": {},
   "source": [
    "#### Exporting Hydrated Sample"
   ]
  },
  {
   "cell_type": "code",
   "execution_count": 19,
   "id": "metric-magnet",
   "metadata": {},
   "outputs": [],
   "source": [
    "#sample_cols = ['id', 'text']\n",
    "#sample_filepath = os.path.join(os.getcwd(), 'data', file)\n",
    "#sdf = pd.read_csv(sample_filepath, usecols=sample_cols, dtype=str)\n",
    "\n",
    "# prepare experiment\n",
    "#sdf = sdf.dropna().head(1000)\n",
    "#sdf = sdf.merge(right=tdf, how='left', on='id')\n",
    "#sdf['label'] = sdf.apply(quadrant, axis=1)\n",
    "#sdf = sdf[['id', 'text', 'label']]\n",
    "\n",
    "\n",
    "#experiment_filepath = os.path.join(os.getcwd(), 'data', 'experiment.csv')\n",
    "#sdf.to_csv(experiment_filepath, index=False)"
   ]
  },
  {
   "cell_type": "markdown",
   "id": "passing-bidding",
   "metadata": {},
   "source": [
    "A script was used for participants to input quadrants for tweets. I, the author, annotated 500 tweets (column `test2`) and a non-author annotated 140 tweets (column `test1`). "
   ]
  },
  {
   "cell_type": "markdown",
   "id": "hundred-formula",
   "metadata": {},
   "source": [
    "#### Import Experiment Data"
   ]
  },
  {
   "cell_type": "code",
   "execution_count": 20,
   "id": "superb-namibia",
   "metadata": {},
   "outputs": [],
   "source": [
    "experiment_filepath = os.path.join(os.getcwd(), 'data', 'experiment.csv')\n",
    "edf = pd.read_csv(experiment_filepath).head(500)"
   ]
  },
  {
   "cell_type": "markdown",
   "id": "federal-first",
   "metadata": {},
   "source": [
    "#### Measuring Agreement\n",
    "\n",
    "Firstly, we measure the agreement between the participants on labelling. We evaluate this with the 140 tweets that both participants labelled. The metric commonly applied in this situation is Cohen's Kappa,\n",
    "\n",
    "$\\kappa = \\dfrac{p_o - p_e}{1 - p_e}$\n",
    "\n",
    "where $p_o$ is the observed agreement ratio between the annotators and $p_e$ is the expected agreement when both annotators are randomly assigning labels given each annotators relative frequency of class labels.\n",
    "\n",
    "**Metric:** J. Cohen (1960). “A coefficient of agreement for nominal scales”. *Educational and Psychological Measurement 20(1):37-46*. doi:10.1177/001316446002000104."
   ]
  },
  {
   "cell_type": "code",
   "execution_count": 21,
   "id": "numeric-oriental",
   "metadata": {},
   "outputs": [
    {
     "name": "stdout",
     "output_type": "stream",
     "text": [
      "Label k: 0.7652582159624413\n",
      "Opinion k: 0.7434957860021987\n"
     ]
    }
   ],
   "source": [
    "bdf = edf.iloc[0:140]\n",
    "kl = skm.cohen_kappa_score(bdf.test1, bdf.test2)\n",
    "ko = skm.cohen_kappa_score(bdf.test1Op, bdf.test2Op)\n",
    "\n",
    "print(f'Label k: {kl}')\n",
    "print(f'Opinion k: {ko}')"
   ]
  },
  {
   "cell_type": "markdown",
   "id": "catholic-tooth",
   "metadata": {},
   "source": [
    "$\\kappa$ between 0.6-0.8 is considered substantial agreement. This would support that the labels assigned by participants capture a similar notion of the political content in the tweets. This suggests that the participants labelling can be used to measure the accuracy of the sentiment analysis and party tagging in capturing the political content of the tweets. \n",
    "\n",
    "**Source:** Viera AJ, Garrett JM. Understanding interobserver agreement: the kappa statistic. *Fam Med*. 2005 May;37(5):360-3. PMID: 15883903."
   ]
  },
  {
   "cell_type": "code",
   "execution_count": 22,
   "id": "threaded-avatar",
   "metadata": {},
   "outputs": [
    {
     "name": "stdout",
     "output_type": "stream",
     "text": [
      "Participant 1 label accuracy: 0.5071428571428571\n",
      "Participant 2 label accuracy: 0.536\n",
      "\n",
      "Participant 1 opinion accuracy: 0.5357142857142857\n",
      "Participant 2 opinion accuracy: 0.574\n",
      "\n"
     ]
    }
   ],
   "source": [
    "t1_acc = len(bdf[bdf.test1 == bdf.label]) / 140\n",
    "t1Op_acc = len(bdf[bdf.test1Op == bdf.labelOp]) / 140\n",
    "\n",
    "t2_acc = len(edf[edf.label == edf.test2]) / 500 \n",
    "t2Op_acc = len(edf[edf.labelOp == edf.test2Op]) / 500 \n",
    "\n",
    "print(f'Participant 1 label accuracy: {t1_acc}')\n",
    "print(f'Participant 2 label accuracy: {t2_acc}\\n')\n",
    "print(f'Participant 1 opinion accuracy: {t1Op_acc}')\n",
    "print(f'Participant 2 opinion accuracy: {t2Op_acc}\\n')"
   ]
  },
  {
   "cell_type": "code",
   "execution_count": 23,
   "id": "analyzed-passage",
   "metadata": {},
   "outputs": [
    {
     "name": "stdout",
     "output_type": "stream",
     "text": [
      "              precision    recall  f1-score   support\n",
      "\n",
      "           0       0.00      0.00      0.00         8\n",
      "           1       0.74      0.82      0.78        17\n",
      "           2       0.56      0.42      0.48        12\n",
      "           3       0.84      0.56      0.67        75\n",
      "           4       0.12      0.62      0.20         8\n",
      "\n",
      "    accuracy                           0.55       120\n",
      "   macro avg       0.45      0.49      0.43       120\n",
      "weighted avg       0.69      0.55      0.59       120\n",
      "\n"
     ]
    }
   ],
   "source": [
    "bldf = bdf[bdf.test1 == bdf.test2]\n",
    "print(skm.classification_report(bldf.test1, bldf.label))"
   ]
  },
  {
   "cell_type": "code",
   "execution_count": 24,
   "id": "infinite-adaptation",
   "metadata": {},
   "outputs": [
    {
     "name": "stdout",
     "output_type": "stream",
     "text": [
      "              precision    recall  f1-score   support\n",
      "\n",
      "          -1       0.22      0.60      0.32        20\n",
      "           0       0.00      0.00      0.00         8\n",
      "           1       0.83      0.61      0.70        97\n",
      "\n",
      "    accuracy                           0.57       125\n",
      "   macro avg       0.35      0.40      0.34       125\n",
      "weighted avg       0.68      0.57      0.60       125\n",
      "\n"
     ]
    }
   ],
   "source": [
    "bodf = bdf[bdf.test1Op == bdf.test2Op]\n",
    "print(skm.classification_report(bodf.test1Op, bodf.labelOp))"
   ]
  },
  {
   "cell_type": "markdown",
   "id": "female-fleet",
   "metadata": {},
   "source": [
    "### 1.2 Political Opinion Metric\n",
    "\n",
    "The political opinion of a tweet is the *point along the conservative-democrat political axis $[-1,1]$ that the content in the tweet expresses*. We want to convert tweets to these values as it lets us quantitively study political polarization over the time period the tweets were collected. \n",
    "\n",
    "#### `party` x Linearly Scaled `emotion`\n",
    "\n",
    "We will be scaling the `emotion` to $[-1,1]$ using minimum and maximum `emotion` values, however we do not want the outliers to have a disproportionate effect. To fix this, we will winzorise the emotion scores. Intuitively, it is unlikely that outliers are expressing particularly more emotions than the 0.01 percentile or more than the 99.99 percentile (~2500 tweets). These tweets are largely result from people repeating a certain connotated word (e.g., love or loser) that is picked up by the sentiment analysis tool leading to extreme values."
   ]
  },
  {
   "cell_type": "code",
   "execution_count": 25,
   "id": "modern-chick",
   "metadata": {},
   "outputs": [],
   "source": [
    "xs = mstats.winsorize(tdf.emotion, limits=[0.0001, 0.0001]) \n",
    "\n",
    "# maximum magnitude of emotion\n",
    "scale = max(-xs.min(), xs.max())\n",
    "\n",
    "# political opinion metric\n",
    "tdf['opinion'] = (tdf.party * xs / scale).values"
   ]
  },
  {
   "cell_type": "code",
   "execution_count": 26,
   "id": "formal-desktop",
   "metadata": {},
   "outputs": [
    {
     "data": {
      "image/png": "[encoded data removed]",
      "text/plain": [
       "<Figure size 600x400 with 1 Axes>"
      ]
     },
     "metadata": {
      "needs_background": "light"
     },
     "output_type": "display_data"
    }
   ],
   "source": [
    "sns.histplot(tdf.opinion.sample(5000))\n",
    "plt.show()"
   ]
  },
  {
   "cell_type": "markdown",
   "id": "protecting-election",
   "metadata": {},
   "source": [
    "The distribution of political opinions shows a clear sign of polarization in the tweets. From 1.1, we see that this metric can moderately capture the political content of a tweet, and therefore, we will continue to use this dataset for our study of polarization. The next step is to create the network from the users."
   ]
  },
  {
   "cell_type": "markdown",
   "id": "mathematical-brazilian",
   "metadata": {},
   "source": [
    "## 2 Political Influence"
   ]
  },
  {
   "cell_type": "markdown",
   "id": "adaptive-renewal",
   "metadata": {},
   "source": [
    "### 2.1 Largest Strongly Connected Component\n",
    "\n",
    "We will study opinions expressed in the largest strongly connected component as this forms a user network that characterises the majority of the behaviour happening in the twitter feed. The network includes 108737 users, the second largest cluster includes 14 users."
   ]
  },
  {
   "cell_type": "code",
   "execution_count": 27,
   "id": "patent-discharge",
   "metadata": {},
   "outputs": [],
   "source": [
    "cdf = tdf[tdf.to != '-1'][['by','to']]\n",
    "cg = Graph.DataFrame(cdf, directed=True)\n",
    "\n",
    "cs = cg.components()\n",
    "lcg = cs.giant()\n",
    "lc_ids = lcg.vs['name']\n",
    "lcdf = tdf[tdf.by.isin(lc_ids) & (tdf.to.isin(lc_ids) | (tdf.to == '-1'))][['time','by', 'to', 'opinion']]"
   ]
  },
  {
   "cell_type": "markdown",
   "id": "solar-airline",
   "metadata": {},
   "source": [
    "### 2.2 Influence of Received Opinions on Sent Opinions "
   ]
  },
  {
   "cell_type": "code",
   "execution_count": 28,
   "id": "serious-detail",
   "metadata": {},
   "outputs": [],
   "source": [
    "INTR_COLS = ['time', 'opinion']\n",
    "\n",
    "def interaction(user, df):\n",
    "    by = df[df.by == user][INTR_COLS] \n",
    "    to = df[df.to == user][INTR_COLS] \n",
    "\n",
    "    result = []\n",
    "    for _, msg in by.iterrows():\n",
    "        result.append((msg, to[to.time < msg.time]))\n",
    "    \n",
    "    return result"
   ]
  },
  {
   "cell_type": "code",
   "execution_count": 29,
   "id": "trying-perspective",
   "metadata": {},
   "outputs": [],
   "source": [
    "def interaction_analysis(df, sample_total):\n",
    "    users = np.random.choice(df.by.unique(), size=sample_total)\n",
    "    intrs = [interaction(user, df) for user in users]\n",
    "    \n",
    "    result = []\n",
    "    for i in range(len(users)):\n",
    "        by_ops = [] \n",
    "        to_ops = []\n",
    "        for by, to in intrs[i]:\n",
    "            by_ops.append(by.opinion)\n",
    "            to_ops.append(to.opinion.mean())\n",
    "        result.append((users[i], by_ops, to_ops)) \n",
    "\n",
    "    return result"
   ]
  },
  {
   "cell_type": "code",
   "execution_count": 30,
   "id": "assured-manchester",
   "metadata": {},
   "outputs": [],
   "source": [
    "intra = interaction_analysis(lcdf, 1000)\n",
    "coefs = []\n",
    "for user, by_ops, to_ops in intra:\n",
    "    by_ops_valid = [] \n",
    "    to_ops_valid = []\n",
    "    for i in range(len(by_ops)):\n",
    "        if not math.isnan(to_ops[i]):\n",
    "            by_ops_valid.append(by_ops[i])\n",
    "            to_ops_valid.append(to_ops[i])\n",
    "    if len(by_ops_valid) > 2:\n",
    "        corr = np.corrcoef(by_ops_valid, to_ops_valid)[0,1]    \n",
    "        if not math.isnan(corr):\n",
    "            coefs.append((user, corr))"
   ]
  },
  {
   "cell_type": "code",
   "execution_count": 31,
   "id": "demographic-drama",
   "metadata": {},
   "outputs": [
    {
     "data": {
      "image/png": "[encoded data removed]",
      "text/plain": [
       "<Figure size 600x400 with 1 Axes>"
      ]
     },
     "metadata": {
      "needs_background": "light"
     },
     "output_type": "display_data"
    }
   ],
   "source": [
    "sns.histplot(list(map(lambda x: x[1], coefs)))\n",
    "plt.show()"
   ]
  },
  {
   "cell_type": "code",
   "execution_count": 32,
   "id": "bizarre-lawsuit",
   "metadata": {},
   "outputs": [],
   "source": [
    "init_corr_ops = list(map(lambda x: (lcdf[lcdf.by == x[0]].opinion.values[0], x[1]), coefs))\n",
    "x = list(map(lambda x: abs(x[0]), init_corr_ops))\n",
    "y = list(map(lambda x: x[1],init_corr_ops))"
   ]
  },
  {
   "cell_type": "code",
   "execution_count": 33,
   "id": "backed-length",
   "metadata": {},
   "outputs": [
    {
     "data": {
      "text/plain": [
       "<AxesSubplot:>"
      ]
     },
     "execution_count": 33,
     "metadata": {},
     "output_type": "execute_result"
    },
    {
     "data": {
      "image/png": "[encoded data removed]",
      "text/plain": [
       "<Figure size 600x400 with 1 Axes>"
      ]
     },
     "metadata": {
      "needs_background": "light"
     },
     "output_type": "display_data"
    }
   ],
   "source": [
    "sns.scatterplot(x=x, y=y)"
   ]
  },
  {
   "cell_type": "markdown",
   "id": "reduced-costa",
   "metadata": {},
   "source": [
    "#### 2.3 Largest Cluster in Outspoken Users"
   ]
  },
  {
   "cell_type": "code",
   "execution_count": 34,
   "id": "illegal-temple",
   "metadata": {},
   "outputs": [],
   "source": [
    "weeks_total = (tdf.time.max() - tdf.time.min()).days / 7"
   ]
  },
  {
   "cell_type": "code",
   "execution_count": 35,
   "id": "applicable-remark",
   "metadata": {},
   "outputs": [],
   "source": [
    "odf = tdf.groupby('by').filter(lambda x: len(x) > weeks_total)"
   ]
  },
  {
   "cell_type": "code",
   "execution_count": 36,
   "id": "subject-sheffield",
   "metadata": {},
   "outputs": [],
   "source": [
    "ocdf = odf[odf.to != '-1'][['by', 'to']]\n",
    "ocg = Graph.DataFrame(ocdf, directed=True)\n",
    "\n",
    "ocs = ocg.components()\n",
    "olcg = ocs.giant()\n",
    "olc_ids = olcg.vs['name']\n",
    "olcdf = tdf[tdf.by.isin(lc_ids) & (tdf.to.isin(lc_ids) | (tdf.to == '-1'))][['time','by', 'to', 'opinion']]"
   ]
  },
  {
   "cell_type": "markdown",
   "id": "computational-coating",
   "metadata": {},
   "source": [
    "#### 2.4 Influence of Recieved Opinion on Sent Opinion with Outspoken Users"
   ]
  },
  {
   "cell_type": "code",
   "execution_count": 37,
   "id": "compact-toolbox",
   "metadata": {},
   "outputs": [],
   "source": [
    "intra = interaction_analysis(olcdf, 1000)\n",
    "coefs = []\n",
    "for user, by_ops, to_ops in intra:\n",
    "    by_ops_valid = [] \n",
    "    to_ops_valid = []\n",
    "    for i in range(len(by_ops)):\n",
    "        if not math.isnan(to_ops[i]):\n",
    "            by_ops_valid.append(by_ops[i])\n",
    "            to_ops_valid.append(to_ops[i])\n",
    "    if len(by_ops_valid) > 2:\n",
    "        corr = np.corrcoef(by_ops_valid, to_ops_valid)[0,1]    \n",
    "        if not math.isnan(corr):\n",
    "            coefs.append((user, corr))"
   ]
  },
  {
   "cell_type": "code",
   "execution_count": 38,
   "id": "occupied-palace",
   "metadata": {},
   "outputs": [
    {
     "data": {
      "image/png": "[encoded data removed]",
      "text/plain": [
       "<Figure size 600x400 with 1 Axes>"
      ]
     },
     "metadata": {
      "needs_background": "light"
     },
     "output_type": "display_data"
    }
   ],
   "source": [
    "sns.histplot(list(map(lambda x: x[1], coefs)))\n",
    "plt.show()"
   ]
  },
  {
   "cell_type": "code",
   "execution_count": 39,
   "id": "generous-basement",
   "metadata": {},
   "outputs": [],
   "source": [
    "init_corr_ops = list(map(lambda x: (olcdf[olcdf.by == x[0]].opinion.values[0], x[1]), coefs))\n",
    "x = list(map(lambda x: abs(x[0]), init_corr_ops))\n",
    "y = list(map(lambda x: x[1],init_corr_ops))"
   ]
  },
  {
   "cell_type": "code",
   "execution_count": 40,
   "id": "direct-johns",
   "metadata": {},
   "outputs": [
    {
     "data": {
      "image/png": "[encoded data removed]",
      "text/plain": [
       "<Figure size 600x400 with 1 Axes>"
      ]
     },
     "metadata": {
      "needs_background": "light"
     },
     "output_type": "display_data"
    }
   ],
   "source": [
    "sns.scatterplot(x=x, y=y)\n",
    "plt.show()"
   ]
  },
  {
   "cell_type": "markdown",
   "id": "killing-violence",
   "metadata": {},
   "source": [
    "### 2.5 Moving Towards or Away from Sent Opinions in Outspoken Cluster"
   ]
  },
  {
   "cell_type": "code",
   "execution_count": 41,
   "id": "differential-jacksonville",
   "metadata": {},
   "outputs": [],
   "source": [
    "def interaction_mean(user, df):\n",
    "    by = df[df.by == user][INTR_COLS] \n",
    "    to = df[df.to == user][INTR_COLS] \n",
    "\n",
    "    result = []\n",
    "    for _, msg in by.iterrows():\n",
    "        byop = msg.opinion\n",
    "        toop = to[(msg.time - pd.Timedelta(days=7) <= to.time) & (to.time < msg.time)].opinion.mean()\n",
    "        if not math.isnan(toop):\n",
    "            result.append((byop, toop))\n",
    "    \n",
    "    return result"
   ]
  },
  {
   "cell_type": "code",
   "execution_count": 42,
   "id": "latin-powder",
   "metadata": {},
   "outputs": [],
   "source": [
    "def direction_analysis(df, sample_total):\n",
    "    users = np.random.choice(df.by.unique(), size=sample_total)\n",
    "    valid_users = []\n",
    "    intrs = []    \n",
    "    for user in users:\n",
    "        intr = interaction_mean(user, df) \n",
    "        # We need at least two opinion changes to see difference\n",
    "        if len(intr) > 1:\n",
    "            valid_users.append(user)\n",
    "            intrs.append(intr)\n",
    "    \n",
    "    result = []\n",
    "    for i in range(len(valid_users)):\n",
    "        dirs = []\n",
    "        for j in range(1,len(intrs[i])):\n",
    "            if abs(intrs[i][j][1] - intrs[i][j][0]) < abs(intrs[i][j][1] - intrs[i][j-1][0]):\n",
    "                dirs.append(1)\n",
    "            elif abs(intrs[i][j][1] - intrs[i][j][0]) > abs(intrs[i][j][1] - intrs[i][j-1][0]):\n",
    "                dirs.append(-1)\n",
    "            else:\n",
    "                dirs.append(0)\n",
    "            \n",
    "        result.append((valid_users[i], dirs)) \n",
    "\n",
    "    return result"
   ]
  },
  {
   "cell_type": "code",
   "execution_count": 43,
   "id": "injured-slovakia",
   "metadata": {},
   "outputs": [],
   "source": [
    "dirsa = direction_analysis(olcdf, 1000)"
   ]
  },
  {
   "cell_type": "code",
   "execution_count": 44,
   "id": "moral-radius",
   "metadata": {},
   "outputs": [],
   "source": [
    "initial = list(map(lambda x: olcdf[olcdf.by == x[0]].opinion.values[0], dirsa))\n",
    "overall = list(map(lambda x: np.sum(x[1]), dirsa))"
   ]
  },
  {
   "cell_type": "code",
   "execution_count": 45,
   "id": "theoretical-arctic",
   "metadata": {},
   "outputs": [
    {
     "data": {
      "text/plain": [
       "<AxesSubplot:ylabel='Count'>"
      ]
     },
     "execution_count": 45,
     "metadata": {},
     "output_type": "execute_result"
    },
    {
     "data": {
      "image/png": "[encoded data removed]",
      "text/plain": [
       "<Figure size 600x400 with 1 Axes>"
      ]
     },
     "metadata": {
      "needs_background": "light"
     },
     "output_type": "display_data"
    }
   ],
   "source": [
    "sns.histplot(overall, discrete=True)"
   ]
  },
  {
   "cell_type": "code",
   "execution_count": 46,
   "id": "applied-oasis",
   "metadata": {},
   "outputs": [
    {
     "data": {
      "text/plain": [
       "<AxesSubplot:>"
      ]
     },
     "execution_count": 46,
     "metadata": {},
     "output_type": "execute_result"
    },
    {
     "data": {
      "image/png": "[encoded data removed]",
      "text/plain": [
       "<Figure size 600x400 with 1 Axes>"
      ]
     },
     "metadata": {
      "needs_background": "light"
     },
     "output_type": "display_data"
    }
   ],
   "source": [
    "sns.scatterplot(map(abs, initial), overall)"
   ]
  },
  {
   "cell_type": "code",
   "execution_count": 47,
   "id": "limiting-jewelry",
   "metadata": {},
   "outputs": [],
   "source": [
    "towards = []\n",
    "away = []\n",
    "for user, dirs in dirsa:\n",
    "    towards.append(dirs.count(1))\n",
    "    away.append(dirs.count(-1))"
   ]
  },
  {
   "cell_type": "code",
   "execution_count": 48,
   "id": "competitive-vertical",
   "metadata": {},
   "outputs": [
    {
     "data": {
      "image/png": "[encoded data removed]",
      "text/plain": [
       "<Figure size 600x400 with 1 Axes>"
      ]
     },
     "metadata": {
      "needs_background": "light"
     },
     "output_type": "display_data"
    }
   ],
   "source": [
    "sns.scatterplot(towards,away)\n",
    "plt.show()"
   ]
  },
  {
   "cell_type": "markdown",
   "id": "visible-egyptian",
   "metadata": {},
   "source": [
    "### 2.6 Polarity of User and Polarity of Tweets received"
   ]
  },
  {
   "cell_type": "code",
   "execution_count": 49,
   "id": "crazy-folder",
   "metadata": {},
   "outputs": [],
   "source": [
    "def interaction_polarity(user, df):\n",
    "    by = df[df.by == user].opinion.mean()\n",
    "    to = df[df.to == user].opinion \n",
    "    \n",
    "    return list(map(lambda x: np.sign(by * x), to))"
   ]
  },
  {
   "cell_type": "code",
   "execution_count": 50,
   "id": "monetary-classroom",
   "metadata": {},
   "outputs": [],
   "source": [
    "def polarity_analysis(df, sample_total):\n",
    "    users = np.random.choice(df.by.unique(), size=sample_total)\n",
    "    result = [(df[df.by == user].opinion.values[0], interaction_polarity(user, df)) for user in users]\n",
    "    return result"
   ]
  },
  {
   "cell_type": "code",
   "execution_count": 52,
   "id": "unnecessary-bahrain",
   "metadata": {},
   "outputs": [
    {
     "data": {
      "image/png": "[encoded data removed]",
      "text/plain": [
       "<Figure size 600x400 with 1 Axes>"
      ]
     },
     "metadata": {
      "needs_background": "light"
     },
     "output_type": "display_data"
    }
   ],
   "source": [
    "sns.scatterplot(map(lambda x: x[0], polsa),map(lambda x: x[1].count(-1), polsa))\n",
    "plt.show()"
   ]
  },
  {
   "cell_type": "code",
   "execution_count": 53,
   "id": "overall-cathedral",
   "metadata": {},
   "outputs": [
    {
     "data": {
      "image/png": "[encoded data removed]",
      "text/plain": [
       "<Figure size 600x400 with 1 Axes>"
      ]
     },
     "metadata": {
      "needs_background": "light"
     },
     "output_type": "display_data"
    }
   ],
   "source": [
    "sns.scatterplot(map(lambda x: x[0], polsa),map(lambda x: x[1].count(1), polsa))\n",
    "plt.show()"
   ]
  },
  {
   "cell_type": "code",
   "execution_count": null,
   "id": "incorporate-light",
   "metadata": {},
   "outputs": [],
   "source": []
  }
 ],
 "metadata": {
  "kernelspec": {
   "display_name": "Python 3",
   "language": "python",
   "name": "python3"
  },
  "language_info": {
   "codemirror_mode": {
    "name": "ipython",
    "version": 3
   },
   "file_extension": ".py",
   "mimetype": "text/x-python",
   "name": "python",
   "nbconvert_exporter": "python",
   "pygments_lexer": "ipython3",
   "version": "3.8.5"
  }
 },
 "nbformat": 4,
 "nbformat_minor": 5
}
