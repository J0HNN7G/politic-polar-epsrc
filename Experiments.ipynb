{
 "cells": [
  {
   "cell_type": "markdown",
   "id": "regular-front",
   "metadata": {},
   "source": [
    "# Experiments\n",
    "\n",
    "Recreating experiments of a network model for the polarization of political opinion.\n",
    "\n",
    "__Article:__ Higham, Desmond J., and Alexander V. Mantzaris. “A Network Model for Polarization of Political Opinion.” _Chaos: An Interdisciplinary Journal of Nonlinear Science_, vol. 30, no. 4, 7 Apr. 2020, p. 043109., doi:10.1063/1.5131018. "
   ]
  },
  {
   "cell_type": "markdown",
   "id": "alike-knock",
   "metadata": {},
   "source": [
    "## Setup\n",
    "\n",
    "#### Dependencies"
   ]
  },
  {
   "cell_type": "code",
   "execution_count": 1,
   "id": "soviet-naples",
   "metadata": {},
   "outputs": [
    {
     "name": "stdout",
     "output_type": "stream",
     "text": [
      "All packages imported!\n"
     ]
    }
   ],
   "source": [
    "import numpy as np\n",
    "import matplotlib.pyplot as plt\n",
    "import seaborn as sns\n",
    "\n",
    "print(\"All packages imported!\")"
   ]
  },
  {
   "cell_type": "markdown",
   "id": "jewish-techno",
   "metadata": {},
   "source": [
    "#### Random Seed"
   ]
  },
  {
   "cell_type": "code",
   "execution_count": null,
   "id": "ecological-scanner",
   "metadata": {},
   "outputs": [],
   "source": [
    "np.random.seed(42)"
   ]
  },
  {
   "cell_type": "markdown",
   "id": "neural-poland",
   "metadata": {},
   "source": [
    "#### Figure Resolution"
   ]
  },
  {
   "cell_type": "code",
   "execution_count": null,
   "id": "distinguished-terminal",
   "metadata": {},
   "outputs": [],
   "source": [
    "mpl.rcParams['figure.dpi'] = 100"
   ]
  }
 ],
 "metadata": {
  "kernelspec": {
   "display_name": "Python 3",
   "language": "python",
   "name": "python3"
  },
  "language_info": {
   "codemirror_mode": {
    "name": "ipython",
    "version": 3
   },
   "file_extension": ".py",
   "mimetype": "text/x-python",
   "name": "python",
   "nbconvert_exporter": "python",
   "pygments_lexer": "ipython3",
   "version": "3.8.5"
  }
 },
 "nbformat": 4,
 "nbformat_minor": 5
}
