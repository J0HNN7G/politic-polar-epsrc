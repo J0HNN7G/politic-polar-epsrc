{
 "cells": [
  {
   "cell_type": "markdown",
   "id": "saved-deviation",
   "metadata": {},
   "source": [
    "# Experiments\n",
    "\n",
    "Recreating experiments of a network model for the polarization of political opinion.\n",
    "\n",
    "__Article:__ Higham, Desmond J., and Alexander V. Mantzaris. “A Network Model for Polarization of Political Opinion.” _Chaos: An Interdisciplinary Journal of Nonlinear Science_, vol. 30, no. 4, 7 Apr. 2020, p. 043109., doi:10.1063/1.5131018. "
   ]
  },
  {
   "cell_type": "markdown",
   "id": "altered-fundamental",
   "metadata": {},
   "source": [
    "## Setup"
   ]
  },
  {
   "cell_type": "markdown",
   "id": "frequent-piano",
   "metadata": {},
   "source": [
    "#### Dependencies"
   ]
  },
  {
   "cell_type": "code",
   "execution_count": 1,
   "id": "minor-facial",
   "metadata": {},
   "outputs": [
    {
     "name": "stdout",
     "output_type": "stream",
     "text": [
      "All packages imported!\n"
     ]
    }
   ],
   "source": [
    "import numpy as np\n",
    "import matplotlib.pyplot as plt\n",
    "import matplotlib as mpl\n",
    "import seaborn as sns\n",
    "\n",
    "print(\"All packages imported!\")"
   ]
  },
  {
   "cell_type": "markdown",
   "id": "quarterly-mailing",
   "metadata": {},
   "source": [
    "#### Random Seed"
   ]
  },
  {
   "cell_type": "code",
   "execution_count": 2,
   "id": "constitutional-meaning",
   "metadata": {},
   "outputs": [],
   "source": [
    "np.random.seed(42)"
   ]
  },
  {
   "cell_type": "markdown",
   "id": "powered-wealth",
   "metadata": {},
   "source": [
    "#### Figure Resolution"
   ]
  },
  {
   "cell_type": "code",
   "execution_count": 3,
   "id": "located-semester",
   "metadata": {},
   "outputs": [],
   "source": [
    "mpl.rcParams['figure.dpi'] = 100"
   ]
  },
  {
   "cell_type": "markdown",
   "id": "occupational-jason",
   "metadata": {},
   "source": [
    "## The network model\n",
    "\n",
    "__Implementation Excerpts from Section III of Article__ \n",
    "\n",
    "- There are $n$ individuals whose associations are represented by a fixed adjacency matrix $A \\in \\mathbb{R}_{n×n}$. So, $a_{ij} = 1$ if person $i$ has the potential to be influenced by person $j$, and $a_{ij} = 0$ otherwise. By construction, $a_{ii} = 0$.\n",
    "\n",
    "\n",
    "- Let $d_i$ denote the number of influencers of person $i$; in graph-theoretical terms, $d_i$ is the out-degree of node $i$.\n",
    "We will work with the scaled adjacency matrix $\\hat{A}$, which has $ij$ entry\n",
    "given by $a_{ij}/d_i$.\n",
    "\n",
    "- $k = 0, 1, 2, \\dots,$ letting $u^k \\in \\mathbb{R}_n$ be such that $u_k^i$\n",
    "is the opinion of person $i$ at time point $k$.\n",
    "\n",
    "Our model takes the form\n",
    "\n",
    "\\begin{equation}\n",
    "    \\mathbf{u}_{k+1} = F(\\mathbf{u}^k)\n",
    "\\end{equation}\n",
    "\n",
    "where $F : \\mathbb{R}_n \\rightarrow \\mathbb{R}_n$ satisfies\n",
    "\n",
    "\\begin{equation}\n",
    "    (F(u))_i = u_i + r(\\theta - u_i) + \\epsilon u_i (1 - u_i) \\left((\\hat{A}u)_i - \\theta \\right),\\quad \\text{for } 1 \\leq i \\leq n. \n",
    "\\end{equation}\n",
    "\n",
    "- $r > 0$ determines the rate at which an isolated individual would approach the level $\\theta$.\n",
    "- $\\epsilon > 0$ controls the strength of the external influence.\n",
    "- $(\\hat{A}u)_i − \\theta$ takes the average view over the network neighbors and compares this with the value $\\theta$. \n",
    "\n",
    "    - If this average over the neighbors exceeds $\\theta$, then, on the grounds that node $i$ is associating with a group whose views are currently more conservative than the typical value $\\theta$, the term $\\epsilon u_i (1 - u_i) \\left((\\hat{A}u)_i - \\theta \\right)$ makes a positive contribution to $u_i^{k+1}$ in (3). Conversely, if the average opinion over the neighbors is below $\\theta$, then this term reduces $u_i^{k+1}$ in (3).\n",
    "\n",
    "- We chose to set $u_i^{k+1} = 0$ and $u_i^{k+1} = 1$ if $F$ produced $u_i^{k+1} < 0$ or $u_i^{k+1} > 1$, respectively."
   ]
  },
  {
   "cell_type": "code",
   "execution_count": 4,
   "id": "convenient-elite",
   "metadata": {},
   "outputs": [],
   "source": [
    "def F(U, A, theta, r, epsilon):\n",
    "    drift = r * (theta - U)\n",
    "    diffusion = epsilon * U * (1 - U) * ((A @ U) - theta)\n",
    "    return np.clip(U + drift + diffusion, 0, 1)"
   ]
  },
  {
   "cell_type": "markdown",
   "id": "limiting-teaching",
   "metadata": {},
   "source": [
    "# Simulations for the periodic ring"
   ]
  },
  {
   "cell_type": "code",
   "execution_count": 5,
   "id": "instant-george",
   "metadata": {},
   "outputs": [],
   "source": [
    "theta = 0.5\n",
    "r = 0.5\n",
    "epsilon = 2.5\n",
    "\n",
    "# population\n",
    "n = 32\n",
    "\n",
    "Y = np.linspace(-10, 10, n)\n",
    "V = np.exp(Y) / (1 + np.exp(Y))\n",
    "U_initial = (0.3 + 0.225 * V)\n",
    "\n",
    "# Associations\n",
    "A = np.zeros((n,n))\n",
    "\n",
    "for i in range(1, n):\n",
    "    if i % 2 != 0:\n",
    "        A[0, i] = 1 \n",
    "for i in range(1,n):\n",
    "    A[i] = np.roll(A[i-1], 1)\n",
    "    \n",
    "A =  A / (2 * n)"
   ]
  },
  {
   "cell_type": "code",
   "execution_count": 7,
   "id": "centered-meditation",
   "metadata": {},
   "outputs": [
    {
     "data": {
      "image/png": "[encoded data removed]",
      "text/plain": [
       "<Figure size 600x400 with 1 Axes>"
      ]
     },
     "metadata": {
      "needs_background": "light"
     },
     "output_type": "display_data"
    }
   ],
   "source": [
    "U = U_initial.copy()\n",
    "\n",
    "sns.lineplot(x=np.arange(n), y = U)\n",
    "\n",
    "for i in range(300):\n",
    "    U = F(U, A, theta, r, epsilon)\n",
    "    \n",
    "    if i % 10 == 0:\n",
    "        sns.lineplot(x=np.arange(n), y = U)"
   ]
  },
  {
   "cell_type": "code",
   "execution_count": null,
   "id": "atmospheric-playlist",
   "metadata": {},
   "outputs": [],
   "source": []
  }
 ],
 "metadata": {
  "kernelspec": {
   "display_name": "Python 3",
   "language": "python",
   "name": "python3"
  },
  "language_info": {
   "codemirror_mode": {
    "name": "ipython",
    "version": 3
   },
   "file_extension": ".py",
   "mimetype": "text/x-python",
   "name": "python",
   "nbconvert_exporter": "python",
   "pygments_lexer": "ipython3",
   "version": "3.8.5"
  }
 },
 "nbformat": 4,
 "nbformat_minor": 5
}
