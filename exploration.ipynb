{
 "cells": [
  {
   "cell_type": "markdown",
   "id": "bizarre-hotel",
   "metadata": {},
   "source": [
    "### I. Dependencies"
   ]
  },
  {
   "cell_type": "code",
   "execution_count": 1,
   "id": "quality-profile",
   "metadata": {},
   "outputs": [
    {
     "name": "stdout",
     "output_type": "stream",
     "text": [
      "All packages imported!\n"
     ]
    }
   ],
   "source": [
    "import os\n",
    "\n",
    "import matplotlib.pyplot as plt\n",
    "import matplotlib as mpl\n",
    "from mpl_toolkits import mplot3d\n",
    "import seaborn as sns\n",
    "\n",
    "import math\n",
    "import numpy as np\n",
    "np.random.seed(42)\n",
    "import pandas as pd\n",
    "\n",
    "import warnings\n",
    "warnings.filterwarnings('ignore')\n",
    "\n",
    "print(\"All packages imported!\")"
   ]
  },
  {
   "cell_type": "markdown",
   "id": "upset-accuracy",
   "metadata": {},
   "source": [
    "### II. Matplotlib Parameters"
   ]
  },
  {
   "cell_type": "code",
   "execution_count": 2,
   "id": "brutal-naples",
   "metadata": {},
   "outputs": [],
   "source": [
    "mpl.rcParams['figure.dpi'] = 100\n",
    "mpl.rcParams['font.size'] = 9"
   ]
  },
  {
   "cell_type": "code",
   "execution_count": 3,
   "id": "realistic-desperate",
   "metadata": {},
   "outputs": [],
   "source": [
    "# Latex document Text width\n",
    "latex_width = 390.0\n",
    "\n",
    "def set_size(width=latex_width, height=latex_width, fraction=1, subplots=(1, 1)):\n",
    "    \"\"\"Set figure dimensions to avoid scaling in LaTeX.\n",
    "    \n",
    "    Credit to Jack Walton for the function.\n",
    "    Source: https://jwalton.info/Embed-Publication-Matplotlib-Latex/\n",
    "    \"\"\"\n",
    "\n",
    "    fig_width_pt = width * fraction\n",
    "    fig_height_pt = height * fraction\n",
    "    \n",
    "    inches_per_pt = 1 / 72.27\n",
    "    \n",
    "    fig_width_in = fig_width_pt * inches_per_pt\n",
    "    fig_height_in = fig_height_pt * inches_per_pt * (subplots[0] / subplots[1])\n",
    "\n",
    "    return (fig_width_in, fig_height_in)"
   ]
  },
  {
   "cell_type": "markdown",
   "id": "revolutionary-evaluation",
   "metadata": {},
   "source": [
    "## III. Color Palette\n",
    "\n",
    "The palette is from the [iWantHue](http://medialab.github.io/iwanthue/) website by Mathieu Jacomy at the Sciences-Po Medialab."
   ]
  },
  {
   "cell_type": "code",
   "execution_count": 4,
   "id": "skilled-connection",
   "metadata": {},
   "outputs": [],
   "source": [
    "colors = [\n",
    "    \"#ba4c40\",\n",
    "    \"#45c097\",\n",
    "    \"#573485\",\n",
    "    \"#a8ae3e\",\n",
    "    \"#8874d9\",\n",
    "    \"#69a050\",\n",
    "    \"#be64b2\",\n",
    "    \"#bc7d36\",\n",
    "    \"#5d8ad4\",\n",
    "    \"#b94973\"\n",
    "]"
   ]
  },
  {
   "cell_type": "markdown",
   "id": "excited-upper",
   "metadata": {},
   "source": [
    "## 1. Social Experiment Datasets\n",
    "\n",
    "**Provenance:** Abir De, Sourangshu Bhattacharya, Parantapa Bhattacharya, Niloy Ganguly, and Soumen Chakrabarti. “Learning a Linear Influence Model from Transient Opinion Dynamics.” *Proceedings of the 23rd ACM International Conference on Information and Knowledge Management*, 2014. \n",
    "\n",
    "Abir De gave the datasets upon request via email.  \n",
    "\n",
    "**Sample size:** 102\n",
    "\n",
    "**Demographic:** Students in the department of computer science and engineering at IIT Kharagpur\n",
    "\n",
    "**Length of Experiments:** 1 Hour\n",
    "\n",
    "**Experiment:** Participants were presented with a topic through an online platform developed by the researchers. The platform allowed for the participants to post a message to 10 randomly assigned social neighbours (which were kept constant) and use a slider with range $[-1,1]$ ($[-10,10]$ in datasets) to represent their current stance on the topic. Each time a participant posted a message, the value of the slider and timestamp was recorded. Participants were not allowed to use the internet or communicate with others verbally.\n",
    "\n",
    "3 datasets were collected, each with a different topic presented to the participants:\n",
    "- Europe (-1) vs North America (1)\n",
    "- IIT, Delhi (-1) vs IIT, Bombay (1)\n",
    "- Startup (-1) vs Job (1)\n",
    "\n",
    "Topics where chosen such that the majority of agents had no strong prior opinion, to allow for some change over time."
   ]
  },
  {
   "cell_type": "markdown",
   "id": "instrumental-stocks",
   "metadata": {},
   "source": [
    "<center> <h3>Dataset Contents</h3> </center>\n",
    "\n",
    "<center> <h4><code>friends.txt</code></h4> </center>\n",
    "\n",
    "| Variable | Format | Description | Example |\n",
    "| :- | :- | :- | :- | \n",
    "| `ID`$\\,$ | String$\\,$ | Unique participant identifier $\\,$ | 09CS3015 |\n",
    "| `friend_ID`$\\,$ | String$\\,$ | Unique participant identifier for a social neighbour $\\,$ | 13CS60R26 |\n",
    "\n",
    "<center> <h4><code>messages.txt</code></h4> </center>\n",
    "\n",
    "| Variable | Format | Description | Example |\n",
    "| :- | :- | :- | :- | \n",
    "| `ID`$\\,$ | String$\\,$ | Unique participant identifier$\\,$ | 10CS30007 |\n",
    "| `timestamp`$\\,$ | Unix Timestamp$\\,$ | Time at which participant posted an opinion$\\,$ | 1379494480 |\n",
    "| `opinion`$\\,$ | Float $\\in [-10,10]$ $\\,$ | Self-reported stance towards the topic$\\,$ | 1.1 |"
   ]
  },
  {
   "cell_type": "markdown",
   "id": "divine-compression",
   "metadata": {},
   "source": [
    "### Questions about the data:\n",
    "\n",
    "- What does the timestamp in the message files correspond to? Epoch time\n",
    "- What was the start and end time of the experiments?\n",
    "- Does every participant post a message? In the college and occupation datasets, 1 participant does not post anything. Will be considered neutral (0 in the vectors)\n",
    "- Why do the friend files have 1020 rows? There are 102 participants.\n",
    "- At what timestamp do we set the initial opinions? At the very first one, assume all others are 0.\n",
    "- How will opinions be aggregated to timesteps? "
   ]
  },
  {
   "cell_type": "markdown",
   "id": "professional-decline",
   "metadata": {},
   "source": [
    "### 1.1 Importing"
   ]
  },
  {
   "cell_type": "code",
   "execution_count": 5,
   "id": "potential-fusion",
   "metadata": {},
   "outputs": [],
   "source": [
    "FRIEND_HEADERS = ['ID', 'friend_ID']\n",
    "MESSAGE_HEADERS = ['ID', 'timestamp', 'opinion']\n",
    "\n",
    "social_experiments_filepath = os.path.join(os.getcwd(), 'data', 'experiment')\n",
    "\n",
    "continent_filepath = os.path.join(social_experiments_filepath, 'europe-vs-america')\n",
    "continent_friends =  pd.read_csv(os.path.join(continent_filepath, 'friends.txt'), sep= ' ', header = None, names = FRIEND_HEADERS)\n",
    "continent_messages = pd.read_csv(os.path.join(continent_filepath, 'messages.txt'), sep= ' ', header = None, names = MESSAGE_HEADERS)\n",
    "\n",
    "college_filepath = os.path.join(social_experiments_filepath, 'iitd-vs-iitb')\n",
    "college_friends = pd.read_csv(os.path.join(college_filepath, 'friends.txt'), sep= ' ', header = None, names = FRIEND_HEADERS)\n",
    "college_messages = pd.read_csv(os.path.join(college_filepath, 'messages.txt'), sep= ' ', header = None, names = MESSAGE_HEADERS)\n",
    "\n",
    "occupation_filepath = os.path.join(social_experiments_filepath, 'startup-vs-job')\n",
    "occupation_friends = pd.read_csv(os.path.join(occupation_filepath, 'friends.txt'), sep= ' ', header = None, names = FRIEND_HEADERS)\n",
    "occupation_messages = pd.read_csv(os.path.join(occupation_filepath, 'messages.txt'), sep= ' ', header = None, names = MESSAGE_HEADERS)"
   ]
  },
  {
   "cell_type": "markdown",
   "id": "dated-approach",
   "metadata": {},
   "source": [
    "### 1.2 Cleaning\n",
    "\n",
    "- All datatypes were correctly inferred\n",
    "- There were no `NaN` values in the data."
   ]
  },
  {
   "cell_type": "markdown",
   "id": "pressed-arnold",
   "metadata": {},
   "source": [
    "#### Removing Duplicates from Message Datasets\n",
    "\n",
    "All the `message.txt` datasets sets had duplicate rows which were removed. "
   ]
  },
  {
   "cell_type": "code",
   "execution_count": 6,
   "id": "polyphonic-sacramento",
   "metadata": {},
   "outputs": [
    {
     "name": "stdout",
     "output_type": "stream",
     "text": [
      "No. continent duplicates: 38\n"
     ]
    }
   ],
   "source": [
    "continent_duplicates = continent_messages[continent_messages.duplicated()]\n",
    "continent_messages = continent_messages.drop_duplicates()\n",
    "\n",
    "print(f'No. continent duplicates: {len(continent_duplicates)}')"
   ]
  },
  {
   "cell_type": "code",
   "execution_count": 7,
   "id": "lucky-scanner",
   "metadata": {},
   "outputs": [
    {
     "name": "stdout",
     "output_type": "stream",
     "text": [
      "No. college duplicates: 4\n"
     ]
    }
   ],
   "source": [
    "college_duplicates = college_messages[college_messages.duplicated()]\n",
    "college_messages = college_messages.drop_duplicates()\n",
    "\n",
    "print(f'No. college duplicates: {len(college_duplicates)}')"
   ]
  },
  {
   "cell_type": "code",
   "execution_count": 8,
   "id": "armed-tongue",
   "metadata": {},
   "outputs": [
    {
     "name": "stdout",
     "output_type": "stream",
     "text": [
      "No. occupation duplicates: 21\n"
     ]
    }
   ],
   "source": [
    "occupation_duplicates = occupation_messages[occupation_messages.duplicated()]\n",
    "occupation_messages = occupation_messages.drop_duplicates()\n",
    "\n",
    "print(f'No. occupation duplicates: {len(occupation_duplicates)}')"
   ]
  },
  {
   "cell_type": "markdown",
   "id": "immediate-indicator",
   "metadata": {},
   "source": [
    "#### Removing Non-Participants\n",
    "\n",
    "Full participation was reached for the continent experiment at 805 seconds. There is never full participation for the two other experiments, one person never participates for both. Same person with ID: **06CS3012**."
   ]
  },
  {
   "cell_type": "code",
   "execution_count": 9,
   "id": "reliable-alexander",
   "metadata": {},
   "outputs": [],
   "source": [
    "college_friends = college_friends[~((college_friends.ID == '06CS3012') | (college_friends.friend_ID == '06CS3012'))]\n",
    "occupation_friends = occupation_friends[~((occupation_friends.ID == '06CS3012') | (occupation_friends.friend_ID == '06CS3012'))]"
   ]
  },
  {
   "cell_type": "markdown",
   "id": "purple-saskatchewan",
   "metadata": {},
   "source": [
    "### 1.3 Scaling of Opinion Values\n",
    "\n",
    "The Higham and Mantzaris network model has opinions ranged $[0,1]$, hence we must horizontally shift and compress the opinion values in the datasets. \n",
    "\n",
    "Trivially, we use $f(x) = \\dfrac{x+10}{20}$."
   ]
  },
  {
   "cell_type": "code",
   "execution_count": 10,
   "id": "flying-senator",
   "metadata": {},
   "outputs": [],
   "source": [
    "continent_messages.opinion = (continent_messages.opinion + 10) / 20\n",
    "college_messages.opinion = (college_messages.opinion + 10) / 20\n",
    "occupation_messages.opinion = (occupation_messages.opinion + 10) / 20"
   ]
  },
  {
   "cell_type": "markdown",
   "id": "efficient-commonwealth",
   "metadata": {},
   "source": [
    "### 1.4 Descriptive statistics"
   ]
  },
  {
   "cell_type": "markdown",
   "id": "unsigned-correspondence",
   "metadata": {},
   "source": [
    "#### Europe vs North America (Continent)"
   ]
  },
  {
   "cell_type": "code",
   "execution_count": 11,
   "id": "finished-tampa",
   "metadata": {},
   "outputs": [
    {
     "data": {
      "text/html": [
       "<div>\n",
       "<style scoped>\n",
       "    .dataframe tbody tr th:only-of-type {\n",
       "        vertical-align: middle;\n",
       "    }\n",
       "\n",
       "    .dataframe tbody tr th {\n",
       "        vertical-align: top;\n",
       "    }\n",
       "\n",
       "    .dataframe thead th {\n",
       "        text-align: right;\n",
       "    }\n",
       "</style>\n",
       "<table border=\"1\" class=\"dataframe\">\n",
       "  <thead>\n",
       "    <tr style=\"text-align: right;\">\n",
       "      <th></th>\n",
       "      <th>timestamp</th>\n",
       "      <th>opinion</th>\n",
       "    </tr>\n",
       "  </thead>\n",
       "  <tbody>\n",
       "    <tr>\n",
       "      <th>count</th>\n",
       "      <td>2.144000e+03</td>\n",
       "      <td>2144.000000</td>\n",
       "    </tr>\n",
       "    <tr>\n",
       "      <th>mean</th>\n",
       "      <td>1.379496e+09</td>\n",
       "      <td>0.334841</td>\n",
       "    </tr>\n",
       "    <tr>\n",
       "      <th>std</th>\n",
       "      <td>8.469684e+02</td>\n",
       "      <td>0.276900</td>\n",
       "    </tr>\n",
       "    <tr>\n",
       "      <th>min</th>\n",
       "      <td>1.379494e+09</td>\n",
       "      <td>0.000000</td>\n",
       "    </tr>\n",
       "    <tr>\n",
       "      <th>25%</th>\n",
       "      <td>1.379495e+09</td>\n",
       "      <td>0.105000</td>\n",
       "    </tr>\n",
       "    <tr>\n",
       "      <th>50%</th>\n",
       "      <td>1.379496e+09</td>\n",
       "      <td>0.270000</td>\n",
       "    </tr>\n",
       "    <tr>\n",
       "      <th>75%</th>\n",
       "      <td>1.379497e+09</td>\n",
       "      <td>0.545000</td>\n",
       "    </tr>\n",
       "    <tr>\n",
       "      <th>max</th>\n",
       "      <td>1.379498e+09</td>\n",
       "      <td>1.000000</td>\n",
       "    </tr>\n",
       "  </tbody>\n",
       "</table>\n",
       "</div>"
      ],
      "text/plain": [
       "          timestamp      opinion\n",
       "count  2.144000e+03  2144.000000\n",
       "mean   1.379496e+09     0.334841\n",
       "std    8.469684e+02     0.276900\n",
       "min    1.379494e+09     0.000000\n",
       "25%    1.379495e+09     0.105000\n",
       "50%    1.379496e+09     0.270000\n",
       "75%    1.379497e+09     0.545000\n",
       "max    1.379498e+09     1.000000"
      ]
     },
     "execution_count": 11,
     "metadata": {},
     "output_type": "execute_result"
    }
   ],
   "source": [
    "continent_messages.describe()"
   ]
  },
  {
   "cell_type": "markdown",
   "id": "heated-champagne",
   "metadata": {},
   "source": [
    "#### IIT, Delhi vs IIT, Bombay (College)"
   ]
  },
  {
   "cell_type": "code",
   "execution_count": 12,
   "id": "prepared-spiritual",
   "metadata": {},
   "outputs": [
    {
     "data": {
      "text/html": [
       "<div>\n",
       "<style scoped>\n",
       "    .dataframe tbody tr th:only-of-type {\n",
       "        vertical-align: middle;\n",
       "    }\n",
       "\n",
       "    .dataframe tbody tr th {\n",
       "        vertical-align: top;\n",
       "    }\n",
       "\n",
       "    .dataframe thead th {\n",
       "        text-align: right;\n",
       "    }\n",
       "</style>\n",
       "<table border=\"1\" class=\"dataframe\">\n",
       "  <thead>\n",
       "    <tr style=\"text-align: right;\">\n",
       "      <th></th>\n",
       "      <th>timestamp</th>\n",
       "      <th>opinion</th>\n",
       "    </tr>\n",
       "  </thead>\n",
       "  <tbody>\n",
       "    <tr>\n",
       "      <th>count</th>\n",
       "      <td>1.754000e+03</td>\n",
       "      <td>1754.000000</td>\n",
       "    </tr>\n",
       "    <tr>\n",
       "      <th>mean</th>\n",
       "      <td>1.379501e+09</td>\n",
       "      <td>0.668213</td>\n",
       "    </tr>\n",
       "    <tr>\n",
       "      <th>std</th>\n",
       "      <td>5.720494e+02</td>\n",
       "      <td>0.268269</td>\n",
       "    </tr>\n",
       "    <tr>\n",
       "      <th>min</th>\n",
       "      <td>1.379500e+09</td>\n",
       "      <td>0.000000</td>\n",
       "    </tr>\n",
       "    <tr>\n",
       "      <th>25%</th>\n",
       "      <td>1.379500e+09</td>\n",
       "      <td>0.536250</td>\n",
       "    </tr>\n",
       "    <tr>\n",
       "      <th>50%</th>\n",
       "      <td>1.379500e+09</td>\n",
       "      <td>0.710000</td>\n",
       "    </tr>\n",
       "    <tr>\n",
       "      <th>75%</th>\n",
       "      <td>1.379501e+09</td>\n",
       "      <td>0.880000</td>\n",
       "    </tr>\n",
       "    <tr>\n",
       "      <th>max</th>\n",
       "      <td>1.379502e+09</td>\n",
       "      <td>1.000000</td>\n",
       "    </tr>\n",
       "  </tbody>\n",
       "</table>\n",
       "</div>"
      ],
      "text/plain": [
       "          timestamp      opinion\n",
       "count  1.754000e+03  1754.000000\n",
       "mean   1.379501e+09     0.668213\n",
       "std    5.720494e+02     0.268269\n",
       "min    1.379500e+09     0.000000\n",
       "25%    1.379500e+09     0.536250\n",
       "50%    1.379500e+09     0.710000\n",
       "75%    1.379501e+09     0.880000\n",
       "max    1.379502e+09     1.000000"
      ]
     },
     "execution_count": 12,
     "metadata": {},
     "output_type": "execute_result"
    }
   ],
   "source": [
    "college_messages.describe()"
   ]
  },
  {
   "cell_type": "markdown",
   "id": "rough-amendment",
   "metadata": {},
   "source": [
    "#### Startup vs Job (Occuptation)"
   ]
  },
  {
   "cell_type": "code",
   "execution_count": 13,
   "id": "pregnant-cattle",
   "metadata": {},
   "outputs": [
    {
     "data": {
      "text/html": [
       "<div>\n",
       "<style scoped>\n",
       "    .dataframe tbody tr th:only-of-type {\n",
       "        vertical-align: middle;\n",
       "    }\n",
       "\n",
       "    .dataframe tbody tr th {\n",
       "        vertical-align: top;\n",
       "    }\n",
       "\n",
       "    .dataframe thead th {\n",
       "        text-align: right;\n",
       "    }\n",
       "</style>\n",
       "<table border=\"1\" class=\"dataframe\">\n",
       "  <thead>\n",
       "    <tr style=\"text-align: right;\">\n",
       "      <th></th>\n",
       "      <th>timestamp</th>\n",
       "      <th>opinion</th>\n",
       "    </tr>\n",
       "  </thead>\n",
       "  <tbody>\n",
       "    <tr>\n",
       "      <th>count</th>\n",
       "      <td>1.418000e+03</td>\n",
       "      <td>1418.000000</td>\n",
       "    </tr>\n",
       "    <tr>\n",
       "      <th>mean</th>\n",
       "      <td>1.379503e+09</td>\n",
       "      <td>0.444647</td>\n",
       "    </tr>\n",
       "    <tr>\n",
       "      <th>std</th>\n",
       "      <td>4.414919e+02</td>\n",
       "      <td>0.307805</td>\n",
       "    </tr>\n",
       "    <tr>\n",
       "      <th>min</th>\n",
       "      <td>1.379502e+09</td>\n",
       "      <td>0.000000</td>\n",
       "    </tr>\n",
       "    <tr>\n",
       "      <th>25%</th>\n",
       "      <td>1.379503e+09</td>\n",
       "      <td>0.161250</td>\n",
       "    </tr>\n",
       "    <tr>\n",
       "      <th>50%</th>\n",
       "      <td>1.379503e+09</td>\n",
       "      <td>0.402500</td>\n",
       "    </tr>\n",
       "    <tr>\n",
       "      <th>75%</th>\n",
       "      <td>1.379503e+09</td>\n",
       "      <td>0.703750</td>\n",
       "    </tr>\n",
       "    <tr>\n",
       "      <th>max</th>\n",
       "      <td>1.379504e+09</td>\n",
       "      <td>1.000000</td>\n",
       "    </tr>\n",
       "  </tbody>\n",
       "</table>\n",
       "</div>"
      ],
      "text/plain": [
       "          timestamp      opinion\n",
       "count  1.418000e+03  1418.000000\n",
       "mean   1.379503e+09     0.444647\n",
       "std    4.414919e+02     0.307805\n",
       "min    1.379502e+09     0.000000\n",
       "25%    1.379503e+09     0.161250\n",
       "50%    1.379503e+09     0.402500\n",
       "75%    1.379503e+09     0.703750\n",
       "max    1.379504e+09     1.000000"
      ]
     },
     "execution_count": 13,
     "metadata": {},
     "output_type": "execute_result"
    }
   ],
   "source": [
    "occupation_messages.describe()"
   ]
  },
  {
   "cell_type": "markdown",
   "id": "unauthorized-format",
   "metadata": {},
   "source": [
    "### 1.5 Distribution of Opinions"
   ]
  },
  {
   "cell_type": "code",
   "execution_count": 14,
   "id": "governing-prayer",
   "metadata": {},
   "outputs": [
    {
     "data": {
      "image/png": "[encoded data removed]",
      "text/plain": [
       "<Figure size 539.643x161.432 with 3 Axes>"
      ]
     },
     "metadata": {
      "needs_background": "light"
     },
     "output_type": "display_data"
    }
   ],
   "source": [
    "fig, (ax1, ax2, ax3) = plt.subplots(1, 3, figsize=set_size(subplots=(1, 3), height=350), constrained_layout=True)\n",
    "\n",
    "bins = np.arange(0,1.05,0.1)\n",
    "ticks = np.arange(0,1.5,0.5)\n",
    "\n",
    "\n",
    "ax1.hist(continent_messages.opinion, bins=bins, rwidth=0.9, color=colors[1])\n",
    "ax1.set_xlim(0,1)\n",
    "ax1.set_xticks(ticks)\n",
    "ax1.margins(x=0)\n",
    "ax1.set_ylim(0,600)\n",
    "ax1.set_xlabel('Opinion')\n",
    "ax1.set_ylabel('Count')\n",
    "\n",
    "ax2.hist(college_messages.opinion, bins=bins, rwidth=0.9, color=colors[1])\n",
    "ax2.set_xlim(0,1)\n",
    "ax2.set_ylim(0,600)\n",
    "ax2.set_xticks(ticks)\n",
    "ax2.margins(x=0)\n",
    "ax2.set_xlabel('Opinion')\n",
    "ax2.set_ylabel('Count')\n",
    "\n",
    "ax3.hist(occupation_messages.opinion, bins=bins, rwidth=0.9, color=colors[1])\n",
    "ax3.set_xlim(0,1)\n",
    "ax3.set_ylim(0,600)\n",
    "ax3.set_xticks(ticks)\n",
    "ax3.margins(x=0)\n",
    "ax3.set_xlabel('Opinion')\n",
    "ax3.set_ylabel('Count')\n",
    "\n",
    "\n",
    "ax1.text(-0.5, 1.1, 'a', transform=ax1.transAxes, fontweight='bold', va='top')\n",
    "ax2.text(-0.5, 1.1, 'b', transform=ax2.transAxes, fontweight='bold', va='top')\n",
    "ax3.text(-0.5, 1.1, 'c', transform=ax3.transAxes, fontweight='bold', va='top')\n",
    "\n",
    "\n",
    "#plt.savefig('social_opinion_histograms.pdf', format='pdf', bbox_inches='tight')\n",
    "plt.show()"
   ]
  },
  {
   "cell_type": "code",
   "execution_count": 15,
   "id": "invisible-carter",
   "metadata": {},
   "outputs": [],
   "source": [
    "def outlier_cutoff(vals, q1, q3):\n",
    "    \"\"\"\n",
    "    Essentially outlier cutoff, but clipped so that it does not go out of range\n",
    "    \"\"\"\n",
    "    upper_adjacent_value = q3 + (q3 - q1) * 1.5\n",
    "    upper_adjacent_value = np.clip(upper_adjacent_value, q3, vals[-1])\n",
    "\n",
    "    lower_adjacent_value = q1 - (q3 - q1) * 1.5\n",
    "    lower_adjacent_value = np.clip(lower_adjacent_value, vals[0], q1)\n",
    "    return lower_adjacent_value, upper_adjacent_value"
   ]
  },
  {
   "cell_type": "code",
   "execution_count": 16,
   "id": "lesbian-grave",
   "metadata": {},
   "outputs": [
    {
     "data": {
      "image/png": "[encoded data removed]",
      "text/plain": [
       "<Figure size 539.643x207.555 with 1 Axes>"
      ]
     },
     "metadata": {
      "needs_background": "light"
     },
     "output_type": "display_data"
    }
   ],
   "source": [
    "fig, ax = plt.subplots(1, 1, figsize=set_size(subplots=(1, 1), height=150), constrained_layout=True)\n",
    "\n",
    "\n",
    "data = [sorted(continent_messages.opinion), sorted(college_messages.opinion), sorted(occupation_messages.opinion)]\n",
    "labels = ['Continent', 'College', 'Occupation']\n",
    "\n",
    "\n",
    "plot = ax.violinplot(data, showmeans=False, showmedians=False, showextrema=False)\n",
    "ax.set_xlim(0.25, len(labels) + 0.75)\n",
    "ax.set_ylim(-0.19,1.19)\n",
    "#ax.set_xticks(np.arange(1, len(labels) + 1))\n",
    "#ax.set_xticklabels(labels)\n",
    "ax.set_xticks([])\n",
    "ax.set_ylabel('Opinion')\n",
    "for pc in plot['bodies']:\n",
    "    pc.set_facecolor(colors[1])\n",
    "    pc.set_edgecolor('black')\n",
    "    pc.set_alpha(1)\n",
    "\n",
    "    \n",
    "Q1s = [] \n",
    "medians = [] \n",
    "Q3s = []\n",
    "for xs in data:\n",
    "    Q1s.append(np.percentile(xs, 25))\n",
    "    medians.append(np.percentile(xs, 50))\n",
    "    Q3s.append(np.percentile(xs, 75))\n",
    "\n",
    "    \n",
    "whiskers = np.array([\n",
    "    outlier_cutoff(sorted_array, q1, q3)\n",
    "    for sorted_array, q1, q3 in zip(data, Q1s, Q3s)])\n",
    "whiskers_min, whiskers_max = whiskers[:, 0], whiskers[:, 1]\n",
    "\n",
    "\n",
    "inds = np.arange(1, len(medians) + 1)\n",
    "ax.scatter(inds, medians, marker='o', color='white', s=7.5, zorder=3)\n",
    "ax.vlines(inds, Q1s, Q3s, color='black', linestyle='-', lw=5)\n",
    "ax.vlines(inds, whiskers_min, whiskers_max, color='black', linestyle='-', lw=1)\n",
    "\n",
    "ax.text(0.17, 0.1, 'Europe', transform=ax.transAxes, va='top')\n",
    "ax.text(0.12, 0.96, 'North America', transform=ax.transAxes, va='top')\n",
    "\n",
    "ax.text(0.45, 0.1, 'IIT Delhi', transform=ax.transAxes, va='top')\n",
    "ax.text(0.43, 0.96, 'IIT Bombay', transform=ax.transAxes, va='top')\n",
    "\n",
    "ax.text(0.74, 0.1, 'Startup', transform=ax.transAxes, va='top')\n",
    "ax.text(0.77, 0.96, 'Job', transform=ax.transAxes, va='top')\n",
    "\n",
    "#plt.savefig('social_opinion_violinplot.pdf', format='pdf', bbox_inches='tight')\n",
    "plt.show()"
   ]
  },
  {
   "cell_type": "markdown",
   "id": "present-wrapping",
   "metadata": {},
   "source": [
    "Distribution is a kernel density estimation of the probability density function of the opinion values."
   ]
  },
  {
   "cell_type": "markdown",
   "id": "overhead-kennedy",
   "metadata": {},
   "source": [
    "### 1.6 Opinion Data\n",
    "\n",
    "As we do not have access to the exact start and end times of the experiment, I see two potential ways of deciding the participants initial opinion:\n",
    "\n",
    "1. Assume the experiment starts when the first opinion is posted. All individuals who have not posted are assumed to be neutral (0.5). The downside here is that the participant may not have had time to express their opinion, and all individuals except the first one posting will be 0.5, which seems quite unrealistic.\n",
    "2. Use the last message posted by a participant or 0.5 if no post from the first timestep to set the initial opinions of each participant. This is has the downside that individuals may already be influenced by others in the first timestep. Although, this is not really an issue, any person is constantly being influenced prior to the experiment from their enviroment. This is also easier to generalize in the programming.\n",
    "\n",
    "I choose to move forward with the second option as it will likely give a better picture of the initial opinion distribution and it suffers from much less downsides than the first option. However, one must keep in mind that if the timesteps are too small, the second option will act just like the first one."
   ]
  },
  {
   "cell_type": "code",
   "execution_count": 17,
   "id": "future-colombia",
   "metadata": {},
   "outputs": [],
   "source": [
    "def adj_mat(friend_data):\n",
    "    ids = friend_data.ID.unique()\n",
    "    adj = np.zeros(shape=(len(ids),len(ids)), dtype=np.float64)\n",
    "    for row in friend_data.iterrows():\n",
    "        ID = row[1]['ID']\n",
    "        friend_ID = row[1]['friend_ID']\n",
    "        adj[np.where(ids==row[1]['ID'])[0][0],np.where(ids==row[1]['friend_ID'])[0][0]] = 1\n",
    "    for i in range(len(ids)):\n",
    "        adj[i] = adj[i] / np.sum(adj[i])\n",
    "    return ids, adj"
   ]
  },
  {
   "cell_type": "code",
   "execution_count": 18,
   "id": "announced-programming",
   "metadata": {},
   "outputs": [],
   "source": [
    "def op_series(ids, msg_data, init_timestep, timestep):\n",
    "    ts = []\n",
    "    prtcn = []\n",
    "    ops = []\n",
    "    \n",
    "    prev = msg_data.timestamp.min()\n",
    "    cur = prev + init_timestep - 1 \n",
    "    updates = msg_data[msg_data.timestamp.between(prev, cur)]\n",
    "    opinions = np.full(len(ids),0.5)\n",
    "    participation = np.zeros(len(ids))\n",
    "    \n",
    "    for i, ID in enumerate(ids):\n",
    "        if ID in updates.ID.values:\n",
    "            ID_updates = updates[updates.ID == ID]\n",
    "            newest_idx = ID_updates.timestamp.idxmax()\n",
    "            opinions[i] = ID_updates.loc[newest_idx].opinion\n",
    "            participation[i] = 1\n",
    "    ts.append(cur)\n",
    "    prtcn.append(participation)\n",
    "    ops.append(opinions)\n",
    "    prev += init_timestep\n",
    "    cur += init_timestep\n",
    "        \n",
    "    while prev <= msg_data.timestamp.max():\n",
    "        updates = msg_data[msg_data.timestamp.between(prev, cur)]\n",
    "        opinions = ops[-1].copy()\n",
    "        participation = prtcn[-1].copy()\n",
    "        for i, ID in enumerate(ids):\n",
    "            if ID in updates.ID.values:\n",
    "                ID_updates = updates[updates.ID == ID]\n",
    "                newest_idx = ID_updates.timestamp.idxmax()\n",
    "                opinions[i] = ID_updates.loc[newest_idx].opinion\n",
    "                participation[i] = 1\n",
    "           \n",
    "        ts.append(cur)\n",
    "        prtcn.append(participation)\n",
    "        ops.append(opinions)\n",
    "        prev += timestep\n",
    "        cur += timestep\n",
    "        \n",
    "    return ts, list(map(lambda x: np.sum(x) / len(x), prtcn)), np.array(ops)"
   ]
  },
  {
   "cell_type": "markdown",
   "id": "completed-velvet",
   "metadata": {},
   "source": [
    "#### Cumulative Proportion of Participation\n",
    "\n",
    "We will use a threshhold to determine the time use to collect the initial opinion. First we generate the opinion timeseries at the finest intervals, i.e., per second."
   ]
  },
  {
   "cell_type": "code",
   "execution_count": 19,
   "id": "fifteen-description",
   "metadata": {},
   "outputs": [],
   "source": [
    "init_timestep = 1\n",
    "reg_timestep = 1\n",
    "\n",
    "continent_ids, continent_adj = adj_mat(continent_friends)\n",
    "continent_ts, continent_prtcn, continent_ops = op_series(continent_ids, continent_messages, init_timestep, reg_timestep)\n",
    "\n",
    "college_ids, college_adj =  adj_mat(college_friends)\n",
    "college_ts, college_prtcn, college_ops = op_series(college_ids, college_messages, init_timestep, reg_timestep)\n",
    "\n",
    "occupation_ids, occupation_adj =  adj_mat(occupation_friends)\n",
    "occupation_ts, occupation_prtcn, occupation_ops = op_series(occupation_ids, occupation_messages, init_timestep, reg_timestep)"
   ]
  },
  {
   "cell_type": "code",
   "execution_count": 20,
   "id": "biblical-essence",
   "metadata": {},
   "outputs": [],
   "source": [
    "def geqidx(val, xs):\n",
    "    return next((x[0] for x in enumerate(xs) if x[1] >= val), -1)"
   ]
  },
  {
   "cell_type": "code",
   "execution_count": 21,
   "id": "numerous-leone",
   "metadata": {},
   "outputs": [],
   "source": [
    "full_step = max(geqidx(1, college_prtcn), geqidx(1, occupation_prtcn),geqidx(1, continent_prtcn))"
   ]
  },
  {
   "cell_type": "code",
   "execution_count": 22,
   "id": "continent-hardwood",
   "metadata": {},
   "outputs": [
    {
     "data": {
      "image/png": "[encoded data removed]",
      "text/plain": [
       "<Figure size 539.643x323.786 with 1 Axes>"
      ]
     },
     "metadata": {
      "needs_background": "light"
     },
     "output_type": "display_data"
    }
   ],
   "source": [
    "fig, ax = plt.subplots(1, 1, figsize=set_size(subplots=(1, 1), height=latex_width * 0.6))\n",
    "\n",
    "ax.plot(college_prtcn[:full_step], color=colors[0], label='College')\n",
    "ax.plot(occupation_prtcn[:full_step], color=colors[4], label='Occupation')\n",
    "ax.plot(continent_prtcn[:full_step], color=colors[1], label='Continent')\n",
    "ax.margins(x=0)\n",
    "ax.set_ylim(0,1)\n",
    "ax.set_xlabel(f'Timestep ({reg_timestep} sec)')\n",
    "ax.set_ylabel('Cumulative Proportion of Participation')\n",
    "ax.legend(loc='lower right')\n",
    "\n",
    "#plt.savefig('social_opinion_all_means.pdf', format='pdf', bbox_inches='tight')\n",
    "plt.show()"
   ]
  },
  {
   "cell_type": "code",
   "execution_count": 23,
   "id": "unusual-explorer",
   "metadata": {},
   "outputs": [],
   "source": [
    "continent_lim = geqidx(1, continent_prtcn)\n",
    "college_lim = geqidx(1, college_prtcn)\n",
    "occupation_lim = geqidx(1, occupation_prtcn)"
   ]
  },
  {
   "cell_type": "markdown",
   "id": "simplified-geology",
   "metadata": {},
   "source": [
    "#### By time (full prop time)"
   ]
  },
  {
   "cell_type": "code",
   "execution_count": 63,
   "id": "arbitrary-throat",
   "metadata": {},
   "outputs": [
    {
     "data": {
      "image/png": "[encoded data removed]",
      "text/plain": [
       "<Figure size 539.643x179.881 with 3 Axes>"
      ]
     },
     "metadata": {
      "needs_background": "light"
     },
     "output_type": "display_data"
    }
   ],
   "source": [
    "fig, (ax1, ax2, ax3) = plt.subplots(1, 3, figsize=set_size(subplots=(1, 3)), constrained_layout=True)\n",
    "\n",
    "bins = np.arange(0,1.05,0.1)\n",
    "ticks = np.arange(0,1.5,0.5)\n",
    "\n",
    "time0 = continent_messages.timestamp.min()\n",
    "time1 = time0 + int(continent_lim / 2)\n",
    "time2 = time0 + continent_lim\n",
    "end = continent_messages.timestamp.max()\n",
    "\n",
    "data1 = continent_messages[continent_messages.timestamp.between(time0, time1)].opinion\n",
    "data2 = continent_messages[continent_messages.timestamp.between(time1, time2)].opinion\n",
    "data3 = continent_messages[continent_messages.timestamp.between(time2, end)].opinion\n",
    "\n",
    "ax1.hist(data1, weights=np.ones(len(data1)) / len(data1), bins=bins, rwidth=0.9, color=colors[1])\n",
    "ax1.set_xlim(0,1)\n",
    "ax1.set_xticks(ticks)\n",
    "ax1.margins(x=0)\n",
    "ax1.set_ylim(0,0.3)\n",
    "ax1.set_xlabel('Opinion')\n",
    "ax1.set_ylabel('Proportion')\n",
    "ax1.set_title(f'0 to {int(continent_lim / 2)} sec')\n",
    "\n",
    "ax2.hist(data2, weights=np.ones(len(data2)) / len(data2), bins=bins, rwidth=0.9, color=colors[1])\n",
    "ax2.set_xlim(0,1)\n",
    "ax2.set_ylim(0,0.3)\n",
    "ax2.set_xticks(ticks)\n",
    "ax2.margins(x=0)\n",
    "ax2.set_xlabel('Opinion')\n",
    "ax2.set_ylabel('Proportion')\n",
    "ax2.set_title(f'{int(continent_lim / 2)} to {continent_lim} sec')\n",
    "\n",
    "ax3.hist(data3, weights=np.ones(len(data3)) / len(data3), bins=bins, rwidth=0.9, color=colors[1])\n",
    "ax3.set_xlim(0,1)\n",
    "ax3.set_ylim(0,0.3)\n",
    "ax3.set_xticks(ticks)\n",
    "ax3.margins(x=0)\n",
    "ax3.set_xlabel('Opinion')\n",
    "ax3.set_ylabel('Proportion')\n",
    "ax3.set_title(f'{continent_lim} to {len(continent_ops)} sec')\n",
    "\n",
    "fig.suptitle('Europe Vs North America')\n",
    "\n",
    "#ax1.text(-0.5, 1.1, 'a', transform=ax1.transAxes, fontweight='bold', va='top')\n",
    "#ax2.text(-0.5, 1.1, 'b', transform=ax2.transAxes, fontweight='bold', va='top')\n",
    "#ax3.text(-0.5, 1.1, 'c', transform=ax3.transAxes, fontweight='bold', va='top')\n",
    "\n",
    "\n",
    "#plt.savefig('social_opinion_histograms.pdf', format='pdf', bbox_inches='tight')\n",
    "plt.show()"
   ]
  },
  {
   "cell_type": "code",
   "execution_count": 64,
   "id": "applied-desire",
   "metadata": {},
   "outputs": [
    {
     "data": {
      "image/png": "[encoded data removed]",
      "text/plain": [
       "<Figure size 539.643x179.881 with 3 Axes>"
      ]
     },
     "metadata": {
      "needs_background": "light"
     },
     "output_type": "display_data"
    }
   ],
   "source": [
    "fig, (ax1, ax2, ax3) = plt.subplots(1, 3, figsize=set_size(subplots=(1, 3)), constrained_layout=True)\n",
    "\n",
    "bins = np.arange(0,1.05,0.1)\n",
    "ticks = np.arange(0,1.5,0.5)\n",
    "\n",
    "time0 = college_messages.timestamp.min()\n",
    "time1 = time0 + int(college_lim / 2)\n",
    "time2 = time0 + college_lim\n",
    "end = college_messages.timestamp.max()\n",
    "\n",
    "data1 = college_messages[college_messages.timestamp.between(time0, time1)].opinion\n",
    "data2 = college_messages[college_messages.timestamp.between(time1, time2)].opinion\n",
    "data3 = college_messages[college_messages.timestamp.between(time2, end)].opinion\n",
    "\n",
    "ax1.hist(data1, weights=np.ones(len(data1)) / len(data1), bins=bins, rwidth=0.9, color=colors[1])\n",
    "ax1.set_xlim(0,1)\n",
    "ax1.set_xticks(ticks)\n",
    "ax1.margins(x=0)\n",
    "ax1.set_ylim(0,0.3)\n",
    "ax1.set_xlabel('Opinion')\n",
    "ax1.set_ylabel('Proportion')\n",
    "ax1.set_title(f'0 to {int(college_lim / 2)} sec')\n",
    "\n",
    "ax2.hist(data2, weights=np.ones(len(data2)) / len(data2), bins=bins, rwidth=0.9, color=colors[1])\n",
    "ax2.set_xlim(0,1)\n",
    "ax2.set_ylim(0,0.3)\n",
    "ax2.set_xticks(ticks)\n",
    "ax2.margins(x=0)\n",
    "ax2.set_xlabel('Opinion')\n",
    "ax2.set_ylabel('Proportion')\n",
    "ax2.set_title(f'{int(college_lim / 2)} to {college_lim} sec')\n",
    "\n",
    "ax3.hist(data3, weights=np.ones(len(data3)) / len(data3), bins=bins, rwidth=0.9, color=colors[1])\n",
    "ax3.set_xlim(0,1)\n",
    "ax3.set_ylim(0,0.3)\n",
    "ax3.set_xticks(ticks)\n",
    "ax3.margins(x=0)\n",
    "ax3.set_xlabel('Opinion')\n",
    "ax3.set_ylabel('Proportion')\n",
    "ax3.set_title(f'{college_lim} to {len(college_ops)} sec')\n",
    "\n",
    "fig.suptitle('IIT Delhi Vs IIT Bombay')\n",
    "\n",
    "#ax1.text(-0.5, 1.1, 'a', transform=ax1.transAxes, fontweight='bold', va='top')\n",
    "#ax2.text(-0.5, 1.1, 'b', transform=ax2.transAxes, fontweight='bold', va='top')\n",
    "#ax3.text(-0.5, 1.1, 'c', transform=ax3.transAxes, fontweight='bold', va='top')\n",
    "\n",
    "\n",
    "#plt.savefig('social_opinion_histograms.pdf', format='pdf', bbox_inches='tight')\n",
    "plt.show()"
   ]
  },
  {
   "cell_type": "code",
   "execution_count": 65,
   "id": "portable-british",
   "metadata": {},
   "outputs": [
    {
     "data": {
      "image/png": "[encoded data removed]",
      "text/plain": [
       "<Figure size 539.643x179.881 with 3 Axes>"
      ]
     },
     "metadata": {
      "needs_background": "light"
     },
     "output_type": "display_data"
    }
   ],
   "source": [
    "fig, (ax1, ax2, ax3) = plt.subplots(1, 3, figsize=set_size(subplots=(1, 3)), constrained_layout=True)\n",
    "\n",
    "bins = np.arange(0,1.05,0.1)\n",
    "ticks = np.arange(0,1.5,0.5)\n",
    "\n",
    "time0 = occupation_messages.timestamp.min()\n",
    "time1 = time0 + int(occupation_lim / 2)\n",
    "time2 = time0 + occupation_lim\n",
    "end = occupation_messages.timestamp.max()\n",
    "\n",
    "data1 = occupation_messages[occupation_messages.timestamp.between(time0, time1)].opinion\n",
    "data2 = occupation_messages[occupation_messages.timestamp.between(time1, time2)].opinion\n",
    "data3 = occupation_messages[occupation_messages.timestamp.between(time2, end)].opinion\n",
    "\n",
    "ax1.hist(data1, weights=np.ones(len(data1)) / len(data1), bins=bins, rwidth=0.9, color=colors[1])\n",
    "ax1.set_xlim(0,1)\n",
    "ax1.set_xticks(ticks)\n",
    "ax1.margins(x=0)\n",
    "ax1.set_ylim(0,0.3)\n",
    "ax1.set_xlabel('Opinion')\n",
    "ax1.set_ylabel('Proportion')\n",
    "ax1.set_title(f'0 to {int(occupation_lim / 2)} sec')\n",
    "\n",
    "ax2.hist(data2, weights=np.ones(len(data2)) / len(data2), bins=bins, rwidth=0.9, color=colors[1])\n",
    "ax2.set_xlim(0,1)\n",
    "ax2.set_ylim(0,0.3)\n",
    "ax2.set_xticks(ticks)\n",
    "ax2.margins(x=0)\n",
    "ax2.set_xlabel('Opinion')\n",
    "ax2.set_ylabel('Proportion')\n",
    "ax2.set_title(f'{int(occupation_lim / 2)} to {occupation_lim} sec')\n",
    "\n",
    "ax3.hist(data3, weights=np.ones(len(data3)) / len(data3), bins=bins, rwidth=0.9, color=colors[1])\n",
    "ax3.set_xlim(0,1)\n",
    "ax3.set_ylim(0,0.3)\n",
    "ax3.set_xticks(ticks)\n",
    "ax3.margins(x=0)\n",
    "ax3.set_xlabel('Opinion')\n",
    "ax3.set_ylabel('Proportion')\n",
    "ax3.set_title(f'{occupation_lim} to {len(occupation_ops)} sec')\n",
    "\n",
    "fig.suptitle('Startup Vs Job')\n",
    "\n",
    "#ax1.text(-0.5, 1.1, 'a', transform=ax1.transAxes, fontweight='bold', va='top')\n",
    "#ax2.text(-0.5, 1.1, 'b', transform=ax2.transAxes, fontweight='bold', va='top')\n",
    "#ax3.text(-0.5, 1.1, 'c', transform=ax3.transAxes, fontweight='bold', va='top')\n",
    "\n",
    "\n",
    "#plt.savefig('social_opinion_histograms.pdf', format='pdf', bbox_inches='tight')\n",
    "plt.show()"
   ]
  },
  {
   "cell_type": "markdown",
   "id": "powered-proposition",
   "metadata": {},
   "source": [
    "At what proportion of participation do we have equilibrium?\n",
    "\n",
    "How do we conclude that equilibrium has been reached?"
   ]
  },
  {
   "cell_type": "markdown",
   "id": "cubic-logistics",
   "metadata": {},
   "source": [
    "#### By proportion"
   ]
  },
  {
   "cell_type": "code",
   "execution_count": 27,
   "id": "understood-liberal",
   "metadata": {},
   "outputs": [
    {
     "data": {
      "image/png": "[encoded data removed]",
      "text/plain": [
       "<Figure size 539.643x179.881 with 3 Axes>"
      ]
     },
     "metadata": {
      "needs_background": "light"
     },
     "output_type": "display_data"
    }
   ],
   "source": [
    "fig, (ax1, ax2, ax3) = plt.subplots(1, 3, figsize=set_size(subplots=(1, 3)), constrained_layout=True)\n",
    "\n",
    "bins = np.arange(0,1.05,0.1)\n",
    "ticks = np.arange(0,1.5,0.5)\n",
    "\n",
    "time0 = continent_messages.timestamp.min()\n",
    "time1 = time0 + geqidx(0.5, continent_prtcn)\n",
    "time2 = time0 + geqidx(1, continent_prtcn)\n",
    "end = continent_messages.timestamp.max()\n",
    "\n",
    "data1 = continent_messages[continent_messages.timestamp.between(time0, time1)].opinion\n",
    "data2 = continent_messages[continent_messages.timestamp.between(time1, time2)].opinion\n",
    "data3 = continent_messages[continent_messages.timestamp.between(time2, end)].opinion\n",
    "\n",
    "ax1.hist(data1, weights=np.ones(len(data1)) / len(data1), bins=bins, rwidth=0.9, color=colors[1])\n",
    "ax1.set_xlim(0,1)\n",
    "ax1.set_xticks(ticks)\n",
    "ax1.margins(x=0)\n",
    "ax1.set_ylim(0,0.3)\n",
    "ax1.set_xlabel('Opinion')\n",
    "ax1.set_ylabel('Proportion')\n",
    "ax1.set_title('0 to 0.5')\n",
    "\n",
    "ax2.hist(data2, weights=np.ones(len(data2)) / len(data2), bins=bins, rwidth=0.9, color=colors[1])\n",
    "ax2.set_xlim(0,1)\n",
    "ax2.set_ylim(0,0.3)\n",
    "ax2.set_xticks(ticks)\n",
    "ax2.margins(x=0)\n",
    "ax2.set_xlabel('Opinion')\n",
    "ax2.set_ylabel('Proportion')\n",
    "ax2.set_title('0.5 to 1')\n",
    "\n",
    "ax3.hist(data3, weights=np.ones(len(data3)) / len(data3), bins=bins, rwidth=0.9, color=colors[1])\n",
    "ax3.set_xlim(0,1)\n",
    "ax3.set_ylim(0,0.3)\n",
    "ax3.set_xticks(ticks)\n",
    "ax3.margins(x=0)\n",
    "ax3.set_xlabel('Opinion')\n",
    "ax3.set_ylabel('Proportion')\n",
    "ax3.set_title('After')\n",
    "\n",
    "fig.suptitle('Europe Vs North America')\n",
    "\n",
    "#ax1.text(-0.5, 1.1, 'a', transform=ax1.transAxes, fontweight='bold', va='top')\n",
    "#ax2.text(-0.5, 1.1, 'b', transform=ax2.transAxes, fontweight='bold', va='top')\n",
    "#ax3.text(-0.5, 1.1, 'c', transform=ax3.transAxes, fontweight='bold', va='top')\n",
    "\n",
    "\n",
    "#plt.savefig('social_opinion_histograms.pdf', format='pdf', bbox_inches='tight')\n",
    "plt.show()"
   ]
  },
  {
   "cell_type": "code",
   "execution_count": 28,
   "id": "defined-fellowship",
   "metadata": {},
   "outputs": [
    {
     "data": {
      "image/png": "[encoded data removed]",
      "text/plain": [
       "<Figure size 539.643x179.881 with 3 Axes>"
      ]
     },
     "metadata": {
      "needs_background": "light"
     },
     "output_type": "display_data"
    }
   ],
   "source": [
    "fig, (ax1, ax2, ax3) = plt.subplots(1, 3, figsize=set_size(subplots=(1, 3)), constrained_layout=True)\n",
    "\n",
    "bins = np.arange(0,1.05,0.1)\n",
    "ticks = np.arange(0,1.5,0.5)\n",
    "\n",
    "time0 = college_messages.timestamp.min()\n",
    "time1 = time0 + geqidx(0.5, college_prtcn)\n",
    "time2 = time0 + geqidx(101/102, college_prtcn)\n",
    "end = college_messages.timestamp.max()\n",
    "\n",
    "data1 = college_messages[college_messages.timestamp.between(time0, time1)].opinion\n",
    "data2 = college_messages[college_messages.timestamp.between(time1, time2)].opinion\n",
    "data3 = college_messages[college_messages.timestamp.between(time2, end)].opinion\n",
    "\n",
    "ax1.hist(data1, weights=np.ones(len(data1)) / len(data1), bins=bins, rwidth=0.9, color=colors[1])\n",
    "ax1.set_xlim(0,1)\n",
    "ax1.set_xticks(ticks)\n",
    "ax1.margins(x=0)\n",
    "ax1.set_ylim(0,0.3)\n",
    "ax1.set_xlabel('Opinion')\n",
    "ax1.set_ylabel('Proportion')\n",
    "ax1.set_title(f'0 to 0.5')\n",
    "\n",
    "ax2.hist(data2, weights=np.ones(len(data2)) / len(data2), bins=bins, rwidth=0.9, color=colors[1])\n",
    "ax2.set_xlim(0,1)\n",
    "ax2.set_ylim(0,0.3)\n",
    "ax2.set_xticks(ticks)\n",
    "ax2.margins(x=0)\n",
    "ax2.set_xlabel('Opinion')\n",
    "ax2.set_ylabel('Proportion')\n",
    "ax2.set_title('0.5 to 1')\n",
    "\n",
    "ax3.hist(data3, weights=np.ones(len(data3)) / len(data3), bins=bins, rwidth=0.9, color=colors[1])\n",
    "ax3.set_xlim(0,1)\n",
    "ax3.set_ylim(0,0.3)\n",
    "ax3.set_xticks(ticks)\n",
    "ax3.margins(x=0)\n",
    "ax3.set_xlabel('Opinion')\n",
    "ax3.set_ylabel('Proportion')\n",
    "ax3.set_title('After')\n",
    "\n",
    "fig.suptitle('IIT Delhi Vs IIT Bombay')\n",
    "\n",
    "#plt.savefig('social_opinion_histograms.pdf', format='pdf', bbox_inches='tight')\n",
    "plt.show()"
   ]
  },
  {
   "cell_type": "code",
   "execution_count": 29,
   "id": "freelance-sarah",
   "metadata": {},
   "outputs": [
    {
     "data": {
      "image/png": "[encoded data removed]",
      "text/plain": [
       "<Figure size 539.643x179.881 with 3 Axes>"
      ]
     },
     "metadata": {
      "needs_background": "light"
     },
     "output_type": "display_data"
    }
   ],
   "source": [
    "fig, (ax1, ax2, ax3) = plt.subplots(1, 3, figsize=set_size(subplots=(1, 3)), constrained_layout=True)\n",
    "\n",
    "bins = np.arange(0,1.05,0.1)\n",
    "ticks = np.arange(0,1.5,0.5)\n",
    "\n",
    "time0 = occupation_messages.timestamp.min()\n",
    "time1 = time0 + geqidx(0.5, occupation_prtcn)\n",
    "time2 = time0 + geqidx(101/102, occupation_prtcn)\n",
    "end = occupation_messages.timestamp.max()\n",
    "\n",
    "data1 = occupation_messages[occupation_messages.timestamp.between(time0, time1)].opinion\n",
    "data2 = occupation_messages[occupation_messages.timestamp.between(time1, time2)].opinion\n",
    "data3 = occupation_messages[occupation_messages.timestamp.between(time2, end)].opinion\n",
    "\n",
    "ax1.hist(data1, weights=np.ones(len(data1)) / len(data1), bins=bins, rwidth=0.9, color=colors[1])\n",
    "ax1.set_xlim(0,1)\n",
    "ax1.set_xticks(ticks)\n",
    "ax1.margins(x=0)\n",
    "ax1.set_ylim(0,0.3)\n",
    "ax1.set_xlabel('Opinion')\n",
    "ax1.set_ylabel('Proportion')\n",
    "ax1.set_title('0 to 0.5')\n",
    "\n",
    "ax2.hist(data2, weights=np.ones(len(data2)) / len(data2), bins=bins, rwidth=0.9, color=colors[1])\n",
    "ax2.set_xlim(0,1)\n",
    "ax2.set_ylim(0,0.3)\n",
    "ax2.set_xticks(ticks)\n",
    "ax2.margins(x=0)\n",
    "ax2.set_xlabel('Opinion')\n",
    "ax2.set_ylabel('Proportion')\n",
    "ax2.set_title('0.5 to 1')\n",
    "\n",
    "ax3.hist(data3, weights=np.ones(len(data3)) / len(data3), bins=bins, rwidth=0.9, color=colors[1])\n",
    "ax3.set_xlim(0,1)\n",
    "ax3.set_ylim(0,0.3)\n",
    "ax3.set_xticks(ticks)\n",
    "ax3.margins(x=0)\n",
    "ax3.set_xlabel('Opinion')\n",
    "ax3.set_ylabel('Proportion')\n",
    "ax3.set_title('After')\n",
    "\n",
    "fig.suptitle('Startup Vs Job')\n",
    "\n",
    "#ax1.text(-0.5, 1.1, 'a', transform=ax1.transAxes, fontweight='bold', va='top')\n",
    "#ax2.text(-0.5, 1.1, 'b', transform=ax2.transAxes, fontweight='bold', va='top')\n",
    "#ax3.text(-0.5, 1.1, 'c', transform=ax3.transAxes, fontweight='bold', va='top')\n",
    "\n",
    "\n",
    "#plt.savefig('social_opinion_histograms.pdf', format='pdf', bbox_inches='tight')\n",
    "plt.show()"
   ]
  },
  {
   "cell_type": "markdown",
   "id": "minus-investigator",
   "metadata": {},
   "source": [
    "Consensus is already reached when half the participants have expressed their opinion.\n",
    "\n",
    "\n",
    "Cumulative percentage who have talked\n",
    "-> Can be used to decide initial collecting time\n",
    "- Determine if converge is really happening or just how we set opinions? take snapshot from seconds before limit is reached and after, is there a significant different in distribution of opinions? we can conclude its fine to start from total distribution, but we should find out when equilibrium has not been reached yet, quite early. By 0.5 participation, bit of a problem, cuz we want full participation.\n"
   ]
  },
  {
   "cell_type": "markdown",
   "id": "public-silver",
   "metadata": {},
   "source": [
    "### 1.7 Visualising Opinion Time Series\n",
    "\n",
    "I tried computing the waterfall plot, however, as peoples opinions change so much, it does not look very continous. I also tried visualising the networks, however, they were too dense to find anything interesting. I did have success by recording the mean opinion value at each time step. There seems to be a convergence within the first ~8.3 minutes (500 seconds), where for all the experiments, the mean opinion value have lost there monotonous behaviour. \n",
    "\n",
    "Theta can be calculated from mean opinion plot, but can it be done mathematically?\n",
    "\n",
    "The normal distribution of the opinions means after stability point is false."
   ]
  },
  {
   "cell_type": "markdown",
   "id": "bigger-poultry",
   "metadata": {},
   "source": [
    "We use highest possible participation to create the initial opinion series."
   ]
  },
  {
   "cell_type": "code",
   "execution_count": 30,
   "id": "expensive-cinema",
   "metadata": {},
   "outputs": [],
   "source": [
    "continent_ts = continent_ts[continent_lim:]\n",
    "continent_prctn = continent_prtcn[continent_lim:] \n",
    "continent_ops = continent_ops[continent_lim:]\n",
    "\n",
    "college_ts = college_ts[college_lim:]\n",
    "college_prctn = college_prtcn[college_lim:] \n",
    "college_ops = college_ops[college_lim:]\n",
    "\n",
    "occupation_ts = occupation_ts[occupation_lim:]\n",
    "occupation_prctn = occupation_prtcn[occupation_lim:] \n",
    "occupation_ops = occupation_ops[occupation_lim:]"
   ]
  },
  {
   "cell_type": "code",
   "execution_count": 31,
   "id": "illegal-midwest",
   "metadata": {},
   "outputs": [],
   "source": [
    "def means(xs):\n",
    "    means = []\n",
    "    for x in xs:\n",
    "        means.append(np.mean(x))\n",
    "    return means\n",
    "\n",
    "continent_ops_means = means(continent_ops)\n",
    "college_ops_means = means(college_ops)\n",
    "occupation_ops_means = means(occupation_ops)"
   ]
  },
  {
   "cell_type": "code",
   "execution_count": 32,
   "id": "elegant-ability",
   "metadata": {},
   "outputs": [
    {
     "data": {
      "image/png": "[encoded data removed]",
      "text/plain": [
       "<Figure size 539.643x323.786 with 1 Axes>"
      ]
     },
     "metadata": {
      "needs_background": "light"
     },
     "output_type": "display_data"
    }
   ],
   "source": [
    "fig, ax = plt.subplots(1, 1, figsize=set_size(subplots=(1, 1), height = latex_width * 0.6))\n",
    "\n",
    "ax.plot(college_ops_means, linewidth=1, color=colors[0], label='College')\n",
    "ax.plot(occupation_ops_means, linewidth=1.0,color=colors[4], label='Occupation')\n",
    "ax.plot(continent_ops_means, linewidth=1.0,color=colors[1], label='Continent')\n",
    "ax.margins(x=0)\n",
    "ax.set_ylim(0.2,0.8)\n",
    "ax.set_xlabel(f'Timestep ({reg_timestep} sec)')\n",
    "ax.set_ylabel('Mean Opinion')\n",
    "ax.legend()\n",
    "\n",
    "\n",
    "#plt.savefig('social_opinion_all_means.pdf', format='pdf', bbox_inches='tight')\n",
    "plt.show()"
   ]
  },
  {
   "cell_type": "markdown",
   "id": "confirmed-estonia",
   "metadata": {},
   "source": [
    "Here, we see further that consensus is reached when full participation in initial opinion component."
   ]
  },
  {
   "cell_type": "code",
   "execution_count": 33,
   "id": "different-liberty",
   "metadata": {},
   "outputs": [],
   "source": [
    "def find_nearest(array, value):\n",
    "    array = np.asarray(array)\n",
    "    idx = (np.abs(array - value)).argmin()\n",
    "    return idx"
   ]
  },
  {
   "cell_type": "markdown",
   "id": "toxic-russian",
   "metadata": {},
   "source": [
    "### 1.8 Comparing a participant with their neighbours"
   ]
  },
  {
   "cell_type": "code",
   "execution_count": 34,
   "id": "passing-bidding",
   "metadata": {},
   "outputs": [],
   "source": [
    "def get_friends(ID, friends):\n",
    "    return friends[friends.ID == ID].friend_ID"
   ]
  },
  {
   "cell_type": "code",
   "execution_count": 35,
   "id": "extra-profit",
   "metadata": {},
   "outputs": [],
   "source": [
    "def get_idx(ids, ID):\n",
    "    return np.where(ids == ID)[0][0]"
   ]
  },
  {
   "cell_type": "code",
   "execution_count": 36,
   "id": "israeli-sewing",
   "metadata": {},
   "outputs": [],
   "source": [
    "def friend_analysis(ids, friends, ops):\n",
    "    dist_result = []\n",
    "    corr_result = []\n",
    "\n",
    "    for idx, ID in enumerate(ids):\n",
    "        friend_data = [ ops[:, get_idx(ids, friend)] for friend in get_friends(ID, friends)]\n",
    "        mean_friend_data = means(np.transpose(friend_data))\n",
    "        id_data = ops[:, idx]\n",
    "        dist = np.abs(id_data[0] - 0.5)\n",
    "        friend_corr = np.corrcoef(id_data, mean_friend_data)[0, 1]\n",
    "        \n",
    "        # We ignore nan\n",
    "        if not math.isnan(friend_corr):\n",
    "            dist_result.append(dist)\n",
    "            corr_result.append(friend_corr)\n",
    "    \n",
    "    return dist_result, corr_result"
   ]
  },
  {
   "cell_type": "code",
   "execution_count": 49,
   "id": "married-choir",
   "metadata": {},
   "outputs": [
    {
     "data": {
      "image/png": "[encoded data removed]",
      "text/plain": [
       "<Figure size 600x400 with 1 Axes>"
      ]
     },
     "metadata": {
      "needs_background": "light"
     },
     "output_type": "display_data"
    }
   ],
   "source": [
    "a, b = friend_analysis(continent_ids, continent_friends, continent_ops)\n",
    "\n",
    "sns.scatterplot(a, b)\n",
    "\n",
    "plt.show()"
   ]
  },
  {
   "cell_type": "code",
   "execution_count": 38,
   "id": "applicable-ideal",
   "metadata": {},
   "outputs": [
    {
     "data": {
      "image/png": "[encoded data removed]",
      "text/plain": [
       "<Figure size 539.643x323.786 with 1 Axes>"
      ]
     },
     "metadata": {
      "needs_background": "light"
     },
     "output_type": "display_data"
    }
   ],
   "source": [
    "fig, ax = plt.subplots(1, 1, figsize=set_size(subplots=(1, 1), height = latex_width * 0.6))\n",
    "\n",
    "labels = get_friends('09CS3015', continent_friends)\n",
    "data = [ continent_ops[:, get_idx(continent_ids, friend)] for friend in labels]\n",
    "mean_data = means(np.transpose(data))\n",
    "\n",
    "\n",
    "ax.plot(mean_data, linewidth=1.0, color=colors[0], label='Neighb. Mean Opinion')\n",
    "ax.plot(continent_ops[:, get_idx(continent_ids,'09CS3015')], linewidth=1.0,color=colors[4], label='09CS3015')\n",
    "ax.margins(x=0)\n",
    "ax.set_ylim(0,1)\n",
    "ax.set_xlabel(f'Timestep ({reg_timestep} sec)')\n",
    "ax.set_ylabel('Opinion')\n",
    "ax.legend()\n",
    "\n",
    "\n",
    "#plt.savefig('social_opinion_all_means.pdf', format='pdf', bbox_inches='tight')\n",
    "plt.show()"
   ]
  },
  {
   "cell_type": "markdown",
   "id": "solved-india",
   "metadata": {},
   "source": [
    "## 2. Twitter Dataset\n",
    "\n",
    "**Provenance:** Abir De, Sourangshu Bhattacharya, Parantapa Bhattacharya, Niloy Ganguly, and Soumen Chakrabarti. “Learning a Linear Influence Model from Transient Opinion Dynamics.” *Proceedings of the 23rd ACM International Conference on Information and Knowledge Management*, 2014. \n",
    "\n",
    "Abir De gave the datasets upon request via email.  \n",
    "\n",
    "**Sample size:** 548*; largest single connected component from the follow network constructed after filtering out corporate, bot and spammer accounts. \n",
    "\n",
    "**Demographic:** Anybody using the #BJP, #APP, #Congress, and #Polls2013 hashtags in tweets between the 9th and 15th December 2013. \n",
    "\n",
    "Look deeper into the characterisation of political orientation of Indian twitter users, and potential ramifications for our results.\n",
    "\n",
    "**Dates on which tweets where collected:** 9th to 15th December 2013. The week after the results for the Delhi assembly election on the 8th December 2013.\n",
    "\n",
    "**Explanation:** All tweets between the 9th and 15th December containing the hashtags #BJP, #APP, #Congress, and #Polls2013 were collected. This was the week after the results for the 2013 Delhi assembly election were released. The three first hashtags correspond to the three parties involved in the election, whilst the last hashtag is the one most strongly associated with the event. As the parties had recieved roughly equal votes, they needed to create a post-poll alliance for majority ruling, this led to many expressing their opinions on Twitter. To begin with ~905,000 tweets by ~201,000 users were collected. The users were then filtered for having between 100 and 10,000 friends; between 50 and 1,000 followers; and between 200 and 10,000 tweets. This was to remove corporate, bot and spammer accounts. The number of eligible users was ~55,000. By collecting the user IDs of all the followees and followers of these users, a follow network was constructed. Finally, the network studied is the largest single connected component where each user had posted over 20 tweets from the follow network. The opinion values were created hourly by taking the tweets of each user in that hour and adding it to a text document (no opinion if no tweets in that hour). These documents were then transformed to opinion scores $[-1,1]$ representing the attitude towards the political developments of the election. Specifically, the score represent the relative proportion of positive to negative connotative words in the document.\n",
    "\n",
    "`* Filtering down from ~201,000 users.`\n",
    "\n",
    "**Sentiment Analysis Tool:** A. Hannak, E. Anderson, L. F. Barrett, S. Lehmann,\n",
    "A. Mislove, and M. Riedewald. Tweetin’ in the Rain:\n",
    "Exploring societal-scale effects of weather on mood. In\n",
    "*Proceedings of the 6th International AAAI Conference on\n",
    "Weblogs and Social Media (ICWSM ’12)*, Dublin, Ireland,\n",
    "June 2012.\n",
    "\n",
    "#### Critique\n",
    "\n",
    "- The sentiment analysis tool was initially intended for studying weather.\n",
    "- The negative and positive connotations are associated with a small set of emoticons.\n",
    "- How well does positive and negative connotation align a political axis in this situation? Often the difference between political parties is what they have negative and positive associations with, not that they are just negative or positive.\n"
   ]
  },
  {
   "cell_type": "markdown",
   "id": "looking-bookmark",
   "metadata": {},
   "source": [
    "<center> <h3>Dataset Contents</h3> </center>\n",
    "\n",
    "<center> <h4><code>nodelist.txt</code></h4> </center>\n",
    "\n",
    "| Variable | Format | Description | Example |\n",
    "| :- | :- | :- | :- | \n",
    "| `ID`$\\,$ | String$\\,$ | Unique user identifier $\\,$ | 7954422 |\n",
    "\n",
    "<center> <h4><code>edgelist.txt</code></h4> </center>\n",
    "\n",
    "| Variable | Format | Description | Example |\n",
    "| :- | :- | :- | :- | \n",
    "| `ID`$\\,$ | String$\\,$ | Unique user identifier $\\,$ | 120373248 |\n",
    "| `friend_ID`$\\,$ | String$\\,$ | Unique user identifier for a followee $\\,$ | 108939299 |\n",
    "\n",
    "\n",
    "\n",
    "<center> <h4><code>opinion.txt</code></h4> </center>\n",
    "\n",
    "| Variable | Format | Description | Example |\n",
    "| :- | :- | :- | :- | \n",
    "| `ID`$\\,$ | String$\\,$ | Unique user identifier$\\,$ | 69539409 |\n",
    "| `timestamp`$\\,$ | Unix Timestamp$\\,$ | Hour at which user has tweeted$\\,$ | 1386626400 |\n",
    "| `opinion`$\\,$ | Float $\\in (-6.5,4.6)$ $\\,$ | Aggregate sentiment analysis of all tweets by the user in the previous hour $\\,$ | -0.544628526943 |"
   ]
  },
  {
   "cell_type": "markdown",
   "id": "closed-launch",
   "metadata": {},
   "source": [
    "### Questions about the data:\n",
    "\n",
    "- Is the `friend_ID` a follower or followee? Followee by principle of the social experiment datasets\n",
    "- What is  the range of values for opinions?"
   ]
  },
  {
   "cell_type": "markdown",
   "id": "positive-mathematics",
   "metadata": {},
   "source": [
    "### 2.1 Importing"
   ]
  },
  {
   "cell_type": "code",
   "execution_count": 39,
   "id": "dated-martial",
   "metadata": {},
   "outputs": [],
   "source": [
    "NODE_HEADERS = ['ID']\n",
    "EDGE_HEADERS = ['ID', 'friend_ID']\n",
    "OPINION_HEADERS = ['ID', 'timestamp', 'opinion']\n",
    "\n",
    "social_media_filepath = os.path.join(os.getcwd(), 'data', 'media')\n",
    "\n",
    "twitter_filepath = os.path.join(social_media_filepath, 'twitter')\n",
    "twitter_nodes =  pd.read_csv(os.path.join(twitter_filepath, 'nodelist.txt'), sep= ' ', header = None, names = NODE_HEADERS)\n",
    "twitter_edges = pd.read_csv(os.path.join(twitter_filepath, 'edgelist.txt'), sep= ' ', header = None, names = EDGE_HEADERS)\n",
    "twitter_opinions = pd.read_csv(os.path.join(twitter_filepath, 'opinion.txt'), sep= ' ', header = None, names = OPINION_HEADERS)"
   ]
  },
  {
   "cell_type": "markdown",
   "id": "laughing-binding",
   "metadata": {},
   "source": [
    "### 2.2 Cleaning\n",
    "\n",
    "- There were no duplicates\n",
    "- No NaN values or outliers"
   ]
  },
  {
   "cell_type": "markdown",
   "id": "downtown-river",
   "metadata": {},
   "source": [
    "#### Correcting Inferred Variable Types"
   ]
  },
  {
   "cell_type": "markdown",
   "id": "practical-tanzania",
   "metadata": {},
   "source": [
    "All ID fields have been incorrectly inferred to `int64` when they should be `object` types."
   ]
  },
  {
   "cell_type": "code",
   "execution_count": 40,
   "id": "deluxe-uncle",
   "metadata": {},
   "outputs": [],
   "source": [
    "twitter_nodes.ID = twitter_nodes.ID.astype(str)\n",
    "twitter_edges.ID = twitter_edges.ID.astype(str)\n",
    "twitter_edges.friend_ID = twitter_edges.friend_ID.astype(str)\n",
    "twitter_opinions.ID = twitter_opinions.ID.astype(str)"
   ]
  },
  {
   "cell_type": "markdown",
   "id": "orange-highland",
   "metadata": {},
   "source": [
    "### 2.3 Scaling of Opinion Values\n",
    "\n",
    "The Higham and Mantzaris network model has opinions ranged $[0,1]$ \n",
    "\n",
    "Trivially, we use $f(x) = \\dfrac{x-x_{min}}{x_{max} - x_{min}}$.\n",
    "\n",
    "Where $x_{min} = -6.48366001409$ and $x_{max} = 4.52493159834$."
   ]
  },
  {
   "cell_type": "code",
   "execution_count": 41,
   "id": "facial-italy",
   "metadata": {},
   "outputs": [],
   "source": [
    "twitter_opinions.opinion = (twitter_opinions.opinion - twitter_opinions.opinion.min()) / (twitter_opinions.opinion.max() - twitter_opinions.opinion.min())"
   ]
  },
  {
   "cell_type": "markdown",
   "id": "earlier-infrastructure",
   "metadata": {},
   "source": [
    "### 2.4 Descriptive statistics"
   ]
  },
  {
   "cell_type": "code",
   "execution_count": 42,
   "id": "fossil-retro",
   "metadata": {},
   "outputs": [
    {
     "data": {
      "text/html": [
       "<div>\n",
       "<style scoped>\n",
       "    .dataframe tbody tr th:only-of-type {\n",
       "        vertical-align: middle;\n",
       "    }\n",
       "\n",
       "    .dataframe tbody tr th {\n",
       "        vertical-align: top;\n",
       "    }\n",
       "\n",
       "    .dataframe thead th {\n",
       "        text-align: right;\n",
       "    }\n",
       "</style>\n",
       "<table border=\"1\" class=\"dataframe\">\n",
       "  <thead>\n",
       "    <tr style=\"text-align: right;\">\n",
       "      <th></th>\n",
       "      <th>timestamp</th>\n",
       "      <th>opinion</th>\n",
       "    </tr>\n",
       "  </thead>\n",
       "  <tbody>\n",
       "    <tr>\n",
       "      <th>count</th>\n",
       "      <td>2.002600e+04</td>\n",
       "      <td>20026.000000</td>\n",
       "    </tr>\n",
       "    <tr>\n",
       "      <th>mean</th>\n",
       "      <td>1.386946e+09</td>\n",
       "      <td>0.595805</td>\n",
       "    </tr>\n",
       "    <tr>\n",
       "      <th>std</th>\n",
       "      <td>1.834926e+05</td>\n",
       "      <td>0.073758</td>\n",
       "    </tr>\n",
       "    <tr>\n",
       "      <th>min</th>\n",
       "      <td>1.386626e+09</td>\n",
       "      <td>0.000000</td>\n",
       "    </tr>\n",
       "    <tr>\n",
       "      <th>25%</th>\n",
       "      <td>1.386781e+09</td>\n",
       "      <td>0.558538</td>\n",
       "    </tr>\n",
       "    <tr>\n",
       "      <th>50%</th>\n",
       "      <td>1.386943e+09</td>\n",
       "      <td>0.599646</td>\n",
       "    </tr>\n",
       "    <tr>\n",
       "      <th>75%</th>\n",
       "      <td>1.387098e+09</td>\n",
       "      <td>0.638738</td>\n",
       "    </tr>\n",
       "    <tr>\n",
       "      <th>max</th>\n",
       "      <td>1.387282e+09</td>\n",
       "      <td>1.000000</td>\n",
       "    </tr>\n",
       "  </tbody>\n",
       "</table>\n",
       "</div>"
      ],
      "text/plain": [
       "          timestamp       opinion\n",
       "count  2.002600e+04  20026.000000\n",
       "mean   1.386946e+09      0.595805\n",
       "std    1.834926e+05      0.073758\n",
       "min    1.386626e+09      0.000000\n",
       "25%    1.386781e+09      0.558538\n",
       "50%    1.386943e+09      0.599646\n",
       "75%    1.387098e+09      0.638738\n",
       "max    1.387282e+09      1.000000"
      ]
     },
     "execution_count": 42,
     "metadata": {},
     "output_type": "execute_result"
    }
   ],
   "source": [
    "twitter_opinions.describe()"
   ]
  },
  {
   "cell_type": "markdown",
   "id": "aerial-promise",
   "metadata": {},
   "source": [
    "### 2.5 Distribution of Opinions"
   ]
  },
  {
   "cell_type": "code",
   "execution_count": 43,
   "id": "invalid-haven",
   "metadata": {},
   "outputs": [
    {
     "data": {
      "image/png": "[encoded data removed]",
      "text/plain": [
       "<Figure size 539.643x249.066 with 1 Axes>"
      ]
     },
     "metadata": {
      "needs_background": "light"
     },
     "output_type": "display_data"
    }
   ],
   "source": [
    "fig, ax = plt.subplots(1, 1, figsize=set_size(subplots=(1, 1), height = 180))\n",
    "\n",
    "bins = np.arange(0,1.05,0.05)\n",
    "ticks = np.arange(0,1.05,0.1)\n",
    "\n",
    "\n",
    "ax.hist(twitter_opinions.opinion, bins, rwidth=0.9, color=colors[1])\n",
    "ax.set_xlim(0,1)\n",
    "ax.set_xticks(ticks)\n",
    "ax.margins(x=0)\n",
    "ax.set_ylim(0,7000)\n",
    "ax.set_xlabel('Opinion')\n",
    "ax.set_ylabel('Count')\n",
    "\n",
    "\n",
    "#plt.savefig('social_opinion_histograms.pdf', format='pdf', bbox_inches='tight')\n",
    "plt.show()"
   ]
  },
  {
   "cell_type": "markdown",
   "id": "square-drink",
   "metadata": {},
   "source": [
    "### 2.6 Opinion Data"
   ]
  },
  {
   "cell_type": "code",
   "execution_count": 52,
   "id": "spread-editing",
   "metadata": {},
   "outputs": [],
   "source": [
    "init_timestep = 3600\n",
    "reg_timestep = 3600\n",
    "\n",
    "twitter_ids, twitter_adj = adj_mat(twitter_edges)\n",
    "twitter_ts, twitter_prtcn, twitter_ops = op_series(twitter_ids, twitter_opinions, init_timestep, reg_timestep)"
   ]
  },
  {
   "cell_type": "markdown",
   "id": "cleared-breast",
   "metadata": {},
   "source": [
    "### 2.7 Cumulative proportion of participation"
   ]
  },
  {
   "cell_type": "code",
   "execution_count": 60,
   "id": "novel-brazil",
   "metadata": {},
   "outputs": [],
   "source": [
    "twitter_lim = geqidx(1, twitter_prtcn)"
   ]
  },
  {
   "cell_type": "code",
   "execution_count": 61,
   "id": "occasional-replica",
   "metadata": {},
   "outputs": [
    {
     "data": {
      "image/png": "[encoded data removed]",
      "text/plain": [
       "<Figure size 539.643x323.786 with 1 Axes>"
      ]
     },
     "metadata": {
      "needs_background": "light"
     },
     "output_type": "display_data"
    }
   ],
   "source": [
    "fig, ax = plt.subplots(1, 1, figsize=set_size(subplots=(1, 1), height=latex_width * 0.6))\n",
    "\n",
    "ax.plot(twitter_prtcn[:twitter_lim], color=colors[0], label='Twitter')\n",
    "ax.margins(x=0)\n",
    "ax.set_ylim(0,1)\n",
    "ax.set_xlabel(f'Timestep ({reg_timestep / 3600} hr)')\n",
    "ax.set_ylabel('Cumulative Proportion of Participation')\n",
    "ax.legend(loc='lower right')\n",
    "\n",
    "#plt.savefig('social_opinion_all_means.pdf', format='pdf', bbox_inches='tight')\n",
    "plt.show()"
   ]
  },
  {
   "cell_type": "code",
   "execution_count": 70,
   "id": "industrial-rendering",
   "metadata": {},
   "outputs": [
    {
     "data": {
      "text/plain": [
       "43"
      ]
     },
     "execution_count": 70,
     "metadata": {},
     "output_type": "execute_result"
    }
   ],
   "source": [
    "time2 - time1 "
   ]
  },
  {
   "cell_type": "code",
   "execution_count": 68,
   "id": "american-delhi",
   "metadata": {},
   "outputs": [
    {
     "data": {
      "text/plain": [
       "Series([], Name: opinion, dtype: float64)"
      ]
     },
     "execution_count": 68,
     "metadata": {},
     "output_type": "execute_result"
    }
   ],
   "source": [
    "twitter_opinions[twitter_opinions.timestamp.between(time1, time2)].opinion"
   ]
  },
  {
   "cell_type": "code",
   "execution_count": 66,
   "id": "covered-requirement",
   "metadata": {},
   "outputs": [
    {
     "data": {
      "image/png": "[encoded data removed]",
      "text/plain": [
       "<Figure size 539.643x179.881 with 3 Axes>"
      ]
     },
     "metadata": {
      "needs_background": "light"
     },
     "output_type": "display_data"
    }
   ],
   "source": [
    "fig, (ax1, ax2, ax3) = plt.subplots(1, 3, figsize=set_size(subplots=(1, 3)), constrained_layout=True)\n",
    "\n",
    "bins = np.arange(0,1.05,0.1)\n",
    "ticks = np.arange(0,1.5,0.5)\n",
    "\n",
    "time0 = twitter_opinions.timestamp.min()\n",
    "time1 = time0 + int(twitter_lim / 2)\n",
    "time2 = time0 + twitter_lim\n",
    "end = twitter_opinions.timestamp.max()\n",
    "\n",
    "data1 = twitter_opinions[twitter_opinions.timestamp.between(time0, time1)].opinion\n",
    "data2 = twitter_opinions[twitter_opinions.timestamp.between(time1, time2)].opinion\n",
    "data3 = twitter_opinions[twitter_opinions.timestamp.between(time2, end)].opinion\n",
    "\n",
    "ax1.hist(data1, weights=np.ones(len(data1)) / len(data1), bins=bins, rwidth=0.9, color=colors[1])\n",
    "ax1.set_xlim(0,1)\n",
    "ax1.set_xticks(ticks)\n",
    "ax1.margins(x=0)\n",
    "ax1.set_ylim(0,0.5)\n",
    "ax1.set_xlabel('Opinion')\n",
    "ax1.set_ylabel('Proportion')\n",
    "ax1.set_title(f'0 to {int(twitter_lim / 2)} hr')\n",
    "\n",
    "ax2.hist(data2, weights=np.ones(len(data2)) / len(data2), bins=bins, rwidth=0.9, color=colors[1])\n",
    "ax2.set_xlim(0,1)\n",
    "ax2.set_ylim(0,0.5)\n",
    "ax2.set_xticks(ticks)\n",
    "ax2.margins(x=0)\n",
    "ax2.set_xlabel('Opinion')\n",
    "ax2.set_ylabel('Proportion')\n",
    "ax2.set_title(f'{int(twitter_lim / 2)} to {twitter_lim} hr')\n",
    "\n",
    "ax3.hist(data3, weights=np.ones(len(data3)) / len(data3), bins=bins, rwidth=0.9, color=colors[1])\n",
    "ax3.set_xlim(0,1)\n",
    "ax3.set_ylim(0,0.5)\n",
    "ax3.set_xticks(ticks)\n",
    "ax3.margins(x=0)\n",
    "ax3.set_xlabel('Opinion')\n",
    "ax3.set_ylabel('Proportion')\n",
    "ax3.set_title(f'{twitter_lim} to {len(twitter_ops)} hr')\n",
    "\n",
    "fig.suptitle('Twitter')\n",
    "\n",
    "\n",
    "#plt.savefig('social_opinion_histograms.pdf', format='pdf', bbox_inches='tight')\n",
    "plt.show()"
   ]
  },
  {
   "cell_type": "markdown",
   "id": "completed-education",
   "metadata": {},
   "source": [
    "## 3. Reddit Dataset\n",
    "\n",
    "**Provenance:** Abir De, Sourangshu Bhattacharya, Parantapa Bhattacharya, Niloy Ganguly, and Soumen Chakrabarti. “Learning a Linear Influence Model from Transient Opinion Dynamics.” *Proceedings of the 23rd ACM International Conference on Information and Knowledge Management*, 2014. \n",
    "\n",
    "Abir De gave the datasets upon request via email.  \n",
    "\n",
    "**Sample size:** 556*\n",
    "\n",
    "**Demographic:** Anybody who posted in the 'politics' subreddit between July 1 and December 31, 2012.\n",
    "\n",
    "Look deeper into the characterisation of political orientation of Reddit Politics users, and potential ramifications for our results.\n",
    "\n",
    "**Dates on which tweets where collected:** July 1 to December 31, 2012.\n",
    "\n",
    "**Explanation:** All users who posted on the 'politics' subreddit between July 1 and December 31, 2012 were recorded. This resulted in ~31,000 users, from which a undirected user network was created, in which an edge means that the two users posted in two of the same subreddits in the given time period (excluding politics). The ~500 users were randomly selected such that they formed a single connected component where each user had over 20 submissions in the given time period. In contrast to the Twitter data, given that there is no character restrictions, most posts are made with well-formed english. This led to the use of the LIWC to calculate the opinion score. The opinion score of each post was equal to the normalised difference between the positive emotion score and the negative emotion score, where normalisation was mapping the range of values to $[-1,1]$ using linear scaling.\n",
    "\n",
    "**Sentiment Analysis Tool:** J. W. Pennebaker, M. E. Francis, and R. J. Booth. LIWC:\n",
    "Linguistic Inquiry and Word Count. liwc.net, 2007.\n",
    "Accessed on June 03, 2014.\n",
    "\n",
    "`* Filtering down from ~31,000 users.`\n",
    "\n",
    "\n",
    "#### Critique\n",
    "\n",
    "- Are people really friends / contacts if they post in the two same subreddits over a 6 month period?\n",
    "- Most posts go unnoticed, how do we know that the users saw each others posts?\n",
    "- Similar problems with sentiment analysis as for Twitter data"
   ]
  },
  {
   "cell_type": "markdown",
   "id": "excessive-vault",
   "metadata": {},
   "source": [
    "<center> <h3>Dataset Contents</h3> </center>\n",
    "\n",
    "<center> <h4><code>nodelist.txt</code></h4> </center>\n",
    "\n",
    "| Variable | Format | Description | Example |\n",
    "| :- | :- | :- | :- | \n",
    "| `ID`$\\,$ | String$\\,$ | Unique user identifier $\\,$ | 19457 |\n",
    "\n",
    "<center> <h4><code>edgelist.txt</code></h4> </center>\n",
    "\n",
    "| Variable | Format | Description | Example |\n",
    "| :- | :- | :- | :- | \n",
    "| `ID`$\\,$ | String$\\,$ | Unique user identifier $\\,$ | 13 |\n",
    "| `friend_ID`$\\,$ | String$\\,$ | Unique user identifier for a followee $\\,$ | 5083 |\n",
    "\n",
    "\n",
    "<center> <h4><code>edgex.txt</code></h4> </center>\n",
    "\n",
    "| Variable | Format | Description | Example |\n",
    "| :- | :- | :- | :- | \n",
    "| `???`$\\,$ | $\\,$ | $\\,$ | 11 |\n",
    "| `???`$\\,$ | $\\,$ | $\\,$ | 1 |\n",
    "\n",
    "\n",
    "<center> <h4><code>opinion.txt</code></h4> </center>\n",
    "\n",
    "| Variable | Format | Description | Example |\n",
    "| :- | :- | :- | :- | \n",
    "| `id`$\\,$ | String$\\,$ | Unique user identifier$\\,$ | 13 |\n",
    "| `???`$\\,$ | $\\,$ | $\\,$ | 58092647 |\n",
    "| `timestamp`$\\,$ | Unix Timestamp$\\,$ | Time at which user posted$\\,$ | 1345566466 |\n",
    "| `opinion`$\\,$ | Float $\\in [?,?]$ $\\,$ | Sentiment analysis of post $\\,$ | -15.38 |"
   ]
  },
  {
   "cell_type": "markdown",
   "id": "controversial-yield",
   "metadata": {},
   "source": [
    "### Questions about the data:\n",
    "\n",
    "- Is the `friend_ID` a follower or followee? Followee by principle of the social experiment datasets\n",
    "- What is  the range of values for opinions?"
   ]
  },
  {
   "cell_type": "markdown",
   "id": "protecting-sterling",
   "metadata": {},
   "source": [
    "### 3.1 Importing"
   ]
  },
  {
   "cell_type": "code",
   "execution_count": 44,
   "id": "armed-venice",
   "metadata": {},
   "outputs": [],
   "source": [
    "EDGEX_HEADERS = ['na1', 'na2']\n",
    "OPINION_HEADERS = ['ID', 'na', 'timestamp', 'opinion']\n",
    "\n",
    "social_media_filepath = os.path.join(os.getcwd(), 'data', 'media')\n",
    "\n",
    "reddit_filepath = os.path.join(social_media_filepath, 'reddit')\n",
    "reddit_nodes =  pd.read_csv(os.path.join(reddit_filepath, 'nodelist.txt'), sep= ' ', header = None, names = NODE_HEADERS)\n",
    "reddit_edges = pd.read_csv(os.path.join(reddit_filepath, 'edgelist.txt'), sep= ' ', header = None, names = EDGE_HEADERS)\n",
    "reddit_edgex = pd.read_csv(os.path.join(reddit_filepath, 'edgex.txt'), sep= ' ', header = None, names = EDGEX_HEADERS)\n",
    "reddit_opinions = pd.read_csv(os.path.join(reddit_filepath, 'opinion.txt'), sep= ' ', header = None, names = OPINION_HEADERS)"
   ]
  },
  {
   "cell_type": "markdown",
   "id": "diverse-management",
   "metadata": {},
   "source": [
    "### 3.2 Cleaning\n",
    "\n",
    "- There were no duplicates\n",
    "- No NaN values or outliers"
   ]
  },
  {
   "cell_type": "markdown",
   "id": "collected-character",
   "metadata": {},
   "source": [
    "#### Correcting Inferred Variable Types"
   ]
  },
  {
   "cell_type": "markdown",
   "id": "opened-terrace",
   "metadata": {},
   "source": [
    "All ID fields have been incorrectly inferred to `int64` when they should be `object` types."
   ]
  },
  {
   "cell_type": "code",
   "execution_count": 45,
   "id": "interim-program",
   "metadata": {},
   "outputs": [],
   "source": [
    "reddit_nodes.ID = reddit_nodes.ID.astype(str)\n",
    "reddit_edges.ID = reddit_edges.ID.astype(str)\n",
    "reddit_edges.friend_ID = reddit_edges.friend_ID.astype(str)\n",
    "reddit_opinions.ID = reddit_opinions.ID.astype(str)"
   ]
  },
  {
   "cell_type": "markdown",
   "id": "civic-compiler",
   "metadata": {},
   "source": [
    "### 3.3 Scaling of Opinion Values\n",
    "\n",
    "The Higham and Mantzaris network model has opinions ranged $[0,1]$ \n",
    "\n",
    "Trivially, we use $f(x) = \\dfrac{x-x_{min}}{x_{max} - x_{min}}$.\n",
    "\n",
    "Where $x_{min} = -100$ and $x_{max} = 100$."
   ]
  },
  {
   "cell_type": "code",
   "execution_count": 46,
   "id": "anticipated-arnold",
   "metadata": {},
   "outputs": [],
   "source": [
    "reddit_opinions.opinion = (reddit_opinions.opinion + 100) / 200"
   ]
  },
  {
   "cell_type": "markdown",
   "id": "married-istanbul",
   "metadata": {},
   "source": [
    "### 3.4 Descriptive statistics"
   ]
  },
  {
   "cell_type": "code",
   "execution_count": 47,
   "id": "meaningful-visibility",
   "metadata": {},
   "outputs": [
    {
     "data": {
      "text/html": [
       "<div>\n",
       "<style scoped>\n",
       "    .dataframe tbody tr th:only-of-type {\n",
       "        vertical-align: middle;\n",
       "    }\n",
       "\n",
       "    .dataframe tbody tr th {\n",
       "        vertical-align: top;\n",
       "    }\n",
       "\n",
       "    .dataframe thead th {\n",
       "        text-align: right;\n",
       "    }\n",
       "</style>\n",
       "<table border=\"1\" class=\"dataframe\">\n",
       "  <thead>\n",
       "    <tr style=\"text-align: right;\">\n",
       "      <th></th>\n",
       "      <th>na</th>\n",
       "      <th>timestamp</th>\n",
       "      <th>opinion</th>\n",
       "    </tr>\n",
       "  </thead>\n",
       "  <tbody>\n",
       "    <tr>\n",
       "      <th>count</th>\n",
       "      <td>6.436600e+04</td>\n",
       "      <td>6.436600e+04</td>\n",
       "      <td>64366.000000</td>\n",
       "    </tr>\n",
       "    <tr>\n",
       "      <th>mean</th>\n",
       "      <td>6.179031e+07</td>\n",
       "      <td>1.349085e+09</td>\n",
       "      <td>0.497456</td>\n",
       "    </tr>\n",
       "    <tr>\n",
       "      <th>std</th>\n",
       "      <td>4.320277e+06</td>\n",
       "      <td>4.112776e+06</td>\n",
       "      <td>0.040266</td>\n",
       "    </tr>\n",
       "    <tr>\n",
       "      <th>min</th>\n",
       "      <td>5.351594e+07</td>\n",
       "      <td>1.341101e+09</td>\n",
       "      <td>0.000000</td>\n",
       "    </tr>\n",
       "    <tr>\n",
       "      <th>25%</th>\n",
       "      <td>5.828841e+07</td>\n",
       "      <td>1.345740e+09</td>\n",
       "      <td>0.489350</td>\n",
       "    </tr>\n",
       "    <tr>\n",
       "      <th>50%</th>\n",
       "      <td>6.184894e+07</td>\n",
       "      <td>1.349196e+09</td>\n",
       "      <td>0.500000</td>\n",
       "    </tr>\n",
       "    <tr>\n",
       "      <th>75%</th>\n",
       "      <td>6.513622e+07</td>\n",
       "      <td>1.352266e+09</td>\n",
       "      <td>0.500000</td>\n",
       "    </tr>\n",
       "    <tr>\n",
       "      <th>max</th>\n",
       "      <td>7.012264e+07</td>\n",
       "      <td>1.356998e+09</td>\n",
       "      <td>1.000000</td>\n",
       "    </tr>\n",
       "  </tbody>\n",
       "</table>\n",
       "</div>"
      ],
      "text/plain": [
       "                 na     timestamp       opinion\n",
       "count  6.436600e+04  6.436600e+04  64366.000000\n",
       "mean   6.179031e+07  1.349085e+09      0.497456\n",
       "std    4.320277e+06  4.112776e+06      0.040266\n",
       "min    5.351594e+07  1.341101e+09      0.000000\n",
       "25%    5.828841e+07  1.345740e+09      0.489350\n",
       "50%    6.184894e+07  1.349196e+09      0.500000\n",
       "75%    6.513622e+07  1.352266e+09      0.500000\n",
       "max    7.012264e+07  1.356998e+09      1.000000"
      ]
     },
     "execution_count": 47,
     "metadata": {},
     "output_type": "execute_result"
    }
   ],
   "source": [
    "reddit_opinions.describe()"
   ]
  },
  {
   "cell_type": "markdown",
   "id": "specified-section",
   "metadata": {},
   "source": [
    "### 3.5 Distribution of Opinions"
   ]
  },
  {
   "cell_type": "code",
   "execution_count": 48,
   "id": "knowing-minister",
   "metadata": {},
   "outputs": [
    {
     "data": {
      "image/png": "[encoded data removed]",
      "text/plain": [
       "<Figure size 539.643x249.066 with 1 Axes>"
      ]
     },
     "metadata": {
      "needs_background": "light"
     },
     "output_type": "display_data"
    }
   ],
   "source": [
    "fig, ax = plt.subplots(1, 1, figsize=set_size(subplots=(1, 1), height = 180))\n",
    "\n",
    "bins = np.arange(0,1.05,0.05)\n",
    "ticks = np.arange(0,1.05,0.1)\n",
    "\n",
    "\n",
    "ax.hist(reddit_opinions.opinion,bins, rwidth=0.9, color=colors[1])\n",
    "ax.set_xlim(0,1)\n",
    "ax.set_xticks(ticks)\n",
    "ax.margins(x=0)\n",
    "ax.set_ylim(0, 50000)\n",
    "ax.set_xlabel('Opinion')\n",
    "ax.set_ylabel('Count')\n",
    "\n",
    "\n",
    "#plt.savefig('social_opinion_histograms.pdf', format='pdf', bbox_inches='tight')\n",
    "plt.show()"
   ]
  },
  {
   "cell_type": "code",
   "execution_count": null,
   "id": "naval-celtic",
   "metadata": {},
   "outputs": [],
   "source": []
  }
 ],
 "metadata": {
  "kernelspec": {
   "display_name": "Python 3",
   "language": "python",
   "name": "python3"
  },
  "language_info": {
   "codemirror_mode": {
    "name": "ipython",
    "version": 3
   },
   "file_extension": ".py",
   "mimetype": "text/x-python",
   "name": "python",
   "nbconvert_exporter": "python",
   "pygments_lexer": "ipython3",
   "version": "3.8.5"
  }
 },
 "nbformat": 4,
 "nbformat_minor": 5
}
